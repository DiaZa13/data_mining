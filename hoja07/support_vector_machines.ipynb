{
 "cells": [
  {
   "cell_type": "markdown",
   "metadata": {},
   "source": [
    "- Diana Zaray Corado #191025\n",
    "- Pablo Alejandro Méndez #19195\n",
    "- Orlando Osberto Cabrera #19943\n",
    "# Hoja de Trabajo 7 - Support Vector Machines\n",
    "                                                                                                                           "
   ]
  },
  {
   "cell_type": "code",
   "execution_count": 99,
   "metadata": {},
   "outputs": [],
   "source": [
    "# Librerias\n",
    "import pandas as pd\n",
    "import numpy as np\n",
    "import scipy.stats as sp\n",
    "import seaborn as sns\n",
    "import matplotlib.pyplot as plt\n",
    "from sklearn.preprocessing import StandardScaler\n",
    "from sklearn.svm import SVC\n",
    "from sklearn.pipeline import make_pipeline\n",
    "from sklearn.model_selection import train_test_split\n",
    "from sklearn.metrics import classification_report, confusion_matrix, ConfusionMatrixDisplay\n"
   ]
  },
  {
   "cell_type": "code",
   "execution_count": 100,
   "metadata": {},
   "outputs": [],
   "source": [
    "# Estilos\n",
    "plt.style.use('ggplot')"
   ]
  },
  {
   "cell_type": "code",
   "execution_count": 101,
   "metadata": {},
   "outputs": [],
   "source": [
    "# General functions\n",
    "def calculate_frecuency(data, column, index='index', head = False):\n",
    "    data_f = pd.DataFrame({\n",
    "        'frecuency': data[column].value_counts(),\n",
    "        'relative_frecuency (%)': data[column].value_counts(normalize=True)*100,\n",
    "        'relative_acc_frecuency': data[column].value_counts(normalize=True).cumsum()\n",
    "    })\n",
    "    data_f.reset_index(level=[0], inplace=True)\n",
    "    data_f.rename(columns={index:column}, inplace=True)\n",
    "    if head:\n",
    "        left_aligned_df = data_f.head(20).style.set_properties(**{'text-align': 'center'}) \n",
    "    else:\n",
    "        left_aligned_df = data_f.style.set_properties(**{'text-align': 'center'})\n",
    "    display(left_aligned_df)\n",
    "    return data_f"
   ]
  },
  {
   "cell_type": "code",
   "execution_count": 102,
   "metadata": {},
   "outputs": [],
   "source": [
    "# General variables\n",
    "cuantitative = [\n",
    "    'LotFrontage',\n",
    "    'LotArea',\n",
    "    'MiscVal',\n",
    "    'WoodDeckSF',\n",
    "    'OpenPorchSF',\n",
    "    'EnclosedPorch',\n",
    "    '3SsnPorch',\n",
    "    'ScreenPorch',\n",
    "    'PoolArea',\n",
    "    'GarageArea',\n",
    "    'GrLivArea',\n",
    "    'LowQualFinSF',\n",
    "    '2ndFlrSF',\n",
    "    '1stFlrSF',\n",
    "    'TotalBsmtSF',\n",
    "    'BsmtUnfSF',\n",
    "    'BsmtFinSF2',\n",
    "    'BsmtFinSF1',\n",
    "    'MasVnrArea',\n",
    "    'BsmtFullBath',\n",
    "    'BsmtHalfBath',\n",
    "    'FullBath',\n",
    "    'HalfBath',\n",
    "    'KitchenAbvGr',\n",
    "    'TotRmsAbvGrd',\n",
    "    'Fireplaces',\n",
    "    'GarageCars',\n",
    "    'SalePrice',\n",
    "]"
   ]
  },
  {
   "cell_type": "markdown",
   "metadata": {},
   "source": [
    "# Exploración de los datos\n",
    "Explore los datos y explique las transformaciones que debe hacerle para generar un modelo \n",
    "de máquinas vectoriales de soporte."
   ]
  },
  {
   "cell_type": "code",
   "execution_count": 103,
   "metadata": {},
   "outputs": [
    {
     "name": "stdout",
     "output_type": "stream",
     "text": [
      "Los datos de entrenamiento cuenta con 1460 observaciones y 81 variables.\n",
      "De igual forma, los datos de prueba tienen 1459 observaciones y 81 variables\n"
     ]
    }
   ],
   "source": [
    "train = pd.read_csv(\"./train.csv\")\n",
    "test = pd.read_csv(\"./test.csv\")\n",
    "train_shape = train.shape\n",
    "test_shape = test.shape\n",
    "\n",
    "print(f'Los datos de entrenamiento cuenta con {train_shape[0]} observaciones y {train_shape[1]} variables.\\nDe igual forma, los datos de prueba tienen {test_shape[0]} observaciones y {train_shape[1]} variables')"
   ]
  },
  {
   "cell_type": "code",
   "execution_count": 104,
   "metadata": {},
   "outputs": [
    {
     "data": {
      "text/html": [
       "<style type=\"text/css\">\n",
       "#T_24925_row0_col0, #T_24925_row0_col1, #T_24925_row0_col2, #T_24925_row0_col3, #T_24925_row0_col4, #T_24925_row0_col5, #T_24925_row0_col6, #T_24925_row0_col7, #T_24925_row0_col8, #T_24925_row0_col9, #T_24925_row0_col10, #T_24925_row0_col11, #T_24925_row0_col12, #T_24925_row0_col13, #T_24925_row0_col14, #T_24925_row0_col15, #T_24925_row0_col16, #T_24925_row0_col17, #T_24925_row0_col18, #T_24925_row0_col19, #T_24925_row0_col20, #T_24925_row0_col21, #T_24925_row0_col22, #T_24925_row0_col23, #T_24925_row0_col24, #T_24925_row0_col25, #T_24925_row0_col26, #T_24925_row0_col27, #T_24925_row0_col28, #T_24925_row0_col29, #T_24925_row0_col30, #T_24925_row0_col31, #T_24925_row0_col32, #T_24925_row0_col33, #T_24925_row0_col34, #T_24925_row0_col35, #T_24925_row0_col36, #T_24925_row0_col37, #T_24925_row0_col38, #T_24925_row0_col39, #T_24925_row0_col40, #T_24925_row0_col41, #T_24925_row0_col42, #T_24925_row0_col43, #T_24925_row0_col44, #T_24925_row0_col45, #T_24925_row0_col46, #T_24925_row0_col47, #T_24925_row0_col48, #T_24925_row0_col49, #T_24925_row0_col50, #T_24925_row0_col51, #T_24925_row0_col52, #T_24925_row0_col53, #T_24925_row0_col54, #T_24925_row0_col55, #T_24925_row0_col56, #T_24925_row0_col57, #T_24925_row0_col58, #T_24925_row0_col59, #T_24925_row0_col60, #T_24925_row0_col61, #T_24925_row0_col62, #T_24925_row0_col63, #T_24925_row0_col64, #T_24925_row0_col65, #T_24925_row0_col66, #T_24925_row0_col67, #T_24925_row0_col68, #T_24925_row0_col69, #T_24925_row0_col70, #T_24925_row0_col71, #T_24925_row0_col72, #T_24925_row0_col73, #T_24925_row0_col74, #T_24925_row0_col75, #T_24925_row0_col76, #T_24925_row0_col77, #T_24925_row0_col78, #T_24925_row0_col79, #T_24925_row0_col80, #T_24925_row1_col0, #T_24925_row1_col1, #T_24925_row1_col2, #T_24925_row1_col3, #T_24925_row1_col4, #T_24925_row1_col5, #T_24925_row1_col6, #T_24925_row1_col7, #T_24925_row1_col8, #T_24925_row1_col9, #T_24925_row1_col10, #T_24925_row1_col11, #T_24925_row1_col12, #T_24925_row1_col13, #T_24925_row1_col14, #T_24925_row1_col15, #T_24925_row1_col16, #T_24925_row1_col17, #T_24925_row1_col18, #T_24925_row1_col19, #T_24925_row1_col20, #T_24925_row1_col21, #T_24925_row1_col22, #T_24925_row1_col23, #T_24925_row1_col24, #T_24925_row1_col25, #T_24925_row1_col26, #T_24925_row1_col27, #T_24925_row1_col28, #T_24925_row1_col29, #T_24925_row1_col30, #T_24925_row1_col31, #T_24925_row1_col32, #T_24925_row1_col33, #T_24925_row1_col34, #T_24925_row1_col35, #T_24925_row1_col36, #T_24925_row1_col37, #T_24925_row1_col38, #T_24925_row1_col39, #T_24925_row1_col40, #T_24925_row1_col41, #T_24925_row1_col42, #T_24925_row1_col43, #T_24925_row1_col44, #T_24925_row1_col45, #T_24925_row1_col46, #T_24925_row1_col47, #T_24925_row1_col48, #T_24925_row1_col49, #T_24925_row1_col50, #T_24925_row1_col51, #T_24925_row1_col52, #T_24925_row1_col53, #T_24925_row1_col54, #T_24925_row1_col55, #T_24925_row1_col56, #T_24925_row1_col57, #T_24925_row1_col58, #T_24925_row1_col59, #T_24925_row1_col60, #T_24925_row1_col61, #T_24925_row1_col62, #T_24925_row1_col63, #T_24925_row1_col64, #T_24925_row1_col65, #T_24925_row1_col66, #T_24925_row1_col67, #T_24925_row1_col68, #T_24925_row1_col69, #T_24925_row1_col70, #T_24925_row1_col71, #T_24925_row1_col72, #T_24925_row1_col73, #T_24925_row1_col74, #T_24925_row1_col75, #T_24925_row1_col76, #T_24925_row1_col77, #T_24925_row1_col78, #T_24925_row1_col79, #T_24925_row1_col80, #T_24925_row2_col0, #T_24925_row2_col1, #T_24925_row2_col2, #T_24925_row2_col3, #T_24925_row2_col4, #T_24925_row2_col5, #T_24925_row2_col6, #T_24925_row2_col7, #T_24925_row2_col8, #T_24925_row2_col9, #T_24925_row2_col10, #T_24925_row2_col11, #T_24925_row2_col12, #T_24925_row2_col13, #T_24925_row2_col14, #T_24925_row2_col15, #T_24925_row2_col16, #T_24925_row2_col17, #T_24925_row2_col18, #T_24925_row2_col19, #T_24925_row2_col20, #T_24925_row2_col21, #T_24925_row2_col22, #T_24925_row2_col23, #T_24925_row2_col24, #T_24925_row2_col25, #T_24925_row2_col26, #T_24925_row2_col27, #T_24925_row2_col28, #T_24925_row2_col29, #T_24925_row2_col30, #T_24925_row2_col31, #T_24925_row2_col32, #T_24925_row2_col33, #T_24925_row2_col34, #T_24925_row2_col35, #T_24925_row2_col36, #T_24925_row2_col37, #T_24925_row2_col38, #T_24925_row2_col39, #T_24925_row2_col40, #T_24925_row2_col41, #T_24925_row2_col42, #T_24925_row2_col43, #T_24925_row2_col44, #T_24925_row2_col45, #T_24925_row2_col46, #T_24925_row2_col47, #T_24925_row2_col48, #T_24925_row2_col49, #T_24925_row2_col50, #T_24925_row2_col51, #T_24925_row2_col52, #T_24925_row2_col53, #T_24925_row2_col54, #T_24925_row2_col55, #T_24925_row2_col56, #T_24925_row2_col57, #T_24925_row2_col58, #T_24925_row2_col59, #T_24925_row2_col60, #T_24925_row2_col61, #T_24925_row2_col62, #T_24925_row2_col63, #T_24925_row2_col64, #T_24925_row2_col65, #T_24925_row2_col66, #T_24925_row2_col67, #T_24925_row2_col68, #T_24925_row2_col69, #T_24925_row2_col70, #T_24925_row2_col71, #T_24925_row2_col72, #T_24925_row2_col73, #T_24925_row2_col74, #T_24925_row2_col75, #T_24925_row2_col76, #T_24925_row2_col77, #T_24925_row2_col78, #T_24925_row2_col79, #T_24925_row2_col80, #T_24925_row3_col0, #T_24925_row3_col1, #T_24925_row3_col2, #T_24925_row3_col3, #T_24925_row3_col4, #T_24925_row3_col5, #T_24925_row3_col6, #T_24925_row3_col7, #T_24925_row3_col8, #T_24925_row3_col9, #T_24925_row3_col10, #T_24925_row3_col11, #T_24925_row3_col12, #T_24925_row3_col13, #T_24925_row3_col14, #T_24925_row3_col15, #T_24925_row3_col16, #T_24925_row3_col17, #T_24925_row3_col18, #T_24925_row3_col19, #T_24925_row3_col20, #T_24925_row3_col21, #T_24925_row3_col22, #T_24925_row3_col23, #T_24925_row3_col24, #T_24925_row3_col25, #T_24925_row3_col26, #T_24925_row3_col27, #T_24925_row3_col28, #T_24925_row3_col29, #T_24925_row3_col30, #T_24925_row3_col31, #T_24925_row3_col32, #T_24925_row3_col33, #T_24925_row3_col34, #T_24925_row3_col35, #T_24925_row3_col36, #T_24925_row3_col37, #T_24925_row3_col38, #T_24925_row3_col39, #T_24925_row3_col40, #T_24925_row3_col41, #T_24925_row3_col42, #T_24925_row3_col43, #T_24925_row3_col44, #T_24925_row3_col45, #T_24925_row3_col46, #T_24925_row3_col47, #T_24925_row3_col48, #T_24925_row3_col49, #T_24925_row3_col50, #T_24925_row3_col51, #T_24925_row3_col52, #T_24925_row3_col53, #T_24925_row3_col54, #T_24925_row3_col55, #T_24925_row3_col56, #T_24925_row3_col57, #T_24925_row3_col58, #T_24925_row3_col59, #T_24925_row3_col60, #T_24925_row3_col61, #T_24925_row3_col62, #T_24925_row3_col63, #T_24925_row3_col64, #T_24925_row3_col65, #T_24925_row3_col66, #T_24925_row3_col67, #T_24925_row3_col68, #T_24925_row3_col69, #T_24925_row3_col70, #T_24925_row3_col71, #T_24925_row3_col72, #T_24925_row3_col73, #T_24925_row3_col74, #T_24925_row3_col75, #T_24925_row3_col76, #T_24925_row3_col77, #T_24925_row3_col78, #T_24925_row3_col79, #T_24925_row3_col80, #T_24925_row4_col0, #T_24925_row4_col1, #T_24925_row4_col2, #T_24925_row4_col3, #T_24925_row4_col4, #T_24925_row4_col5, #T_24925_row4_col6, #T_24925_row4_col7, #T_24925_row4_col8, #T_24925_row4_col9, #T_24925_row4_col10, #T_24925_row4_col11, #T_24925_row4_col12, #T_24925_row4_col13, #T_24925_row4_col14, #T_24925_row4_col15, #T_24925_row4_col16, #T_24925_row4_col17, #T_24925_row4_col18, #T_24925_row4_col19, #T_24925_row4_col20, #T_24925_row4_col21, #T_24925_row4_col22, #T_24925_row4_col23, #T_24925_row4_col24, #T_24925_row4_col25, #T_24925_row4_col26, #T_24925_row4_col27, #T_24925_row4_col28, #T_24925_row4_col29, #T_24925_row4_col30, #T_24925_row4_col31, #T_24925_row4_col32, #T_24925_row4_col33, #T_24925_row4_col34, #T_24925_row4_col35, #T_24925_row4_col36, #T_24925_row4_col37, #T_24925_row4_col38, #T_24925_row4_col39, #T_24925_row4_col40, #T_24925_row4_col41, #T_24925_row4_col42, #T_24925_row4_col43, #T_24925_row4_col44, #T_24925_row4_col45, #T_24925_row4_col46, #T_24925_row4_col47, #T_24925_row4_col48, #T_24925_row4_col49, #T_24925_row4_col50, #T_24925_row4_col51, #T_24925_row4_col52, #T_24925_row4_col53, #T_24925_row4_col54, #T_24925_row4_col55, #T_24925_row4_col56, #T_24925_row4_col57, #T_24925_row4_col58, #T_24925_row4_col59, #T_24925_row4_col60, #T_24925_row4_col61, #T_24925_row4_col62, #T_24925_row4_col63, #T_24925_row4_col64, #T_24925_row4_col65, #T_24925_row4_col66, #T_24925_row4_col67, #T_24925_row4_col68, #T_24925_row4_col69, #T_24925_row4_col70, #T_24925_row4_col71, #T_24925_row4_col72, #T_24925_row4_col73, #T_24925_row4_col74, #T_24925_row4_col75, #T_24925_row4_col76, #T_24925_row4_col77, #T_24925_row4_col78, #T_24925_row4_col79, #T_24925_row4_col80 {\n",
       "  text-align: center;\n",
       "}\n",
       "</style>\n",
       "<table id=\"T_24925\">\n",
       "  <thead>\n",
       "    <tr>\n",
       "      <th class=\"blank level0\" >&nbsp;</th>\n",
       "      <th id=\"T_24925_level0_col0\" class=\"col_heading level0 col0\" >Id</th>\n",
       "      <th id=\"T_24925_level0_col1\" class=\"col_heading level0 col1\" >MSSubClass</th>\n",
       "      <th id=\"T_24925_level0_col2\" class=\"col_heading level0 col2\" >MSZoning</th>\n",
       "      <th id=\"T_24925_level0_col3\" class=\"col_heading level0 col3\" >LotFrontage</th>\n",
       "      <th id=\"T_24925_level0_col4\" class=\"col_heading level0 col4\" >LotArea</th>\n",
       "      <th id=\"T_24925_level0_col5\" class=\"col_heading level0 col5\" >Street</th>\n",
       "      <th id=\"T_24925_level0_col6\" class=\"col_heading level0 col6\" >Alley</th>\n",
       "      <th id=\"T_24925_level0_col7\" class=\"col_heading level0 col7\" >LotShape</th>\n",
       "      <th id=\"T_24925_level0_col8\" class=\"col_heading level0 col8\" >LandContour</th>\n",
       "      <th id=\"T_24925_level0_col9\" class=\"col_heading level0 col9\" >Utilities</th>\n",
       "      <th id=\"T_24925_level0_col10\" class=\"col_heading level0 col10\" >LotConfig</th>\n",
       "      <th id=\"T_24925_level0_col11\" class=\"col_heading level0 col11\" >LandSlope</th>\n",
       "      <th id=\"T_24925_level0_col12\" class=\"col_heading level0 col12\" >Neighborhood</th>\n",
       "      <th id=\"T_24925_level0_col13\" class=\"col_heading level0 col13\" >Condition1</th>\n",
       "      <th id=\"T_24925_level0_col14\" class=\"col_heading level0 col14\" >Condition2</th>\n",
       "      <th id=\"T_24925_level0_col15\" class=\"col_heading level0 col15\" >BldgType</th>\n",
       "      <th id=\"T_24925_level0_col16\" class=\"col_heading level0 col16\" >HouseStyle</th>\n",
       "      <th id=\"T_24925_level0_col17\" class=\"col_heading level0 col17\" >OverallQual</th>\n",
       "      <th id=\"T_24925_level0_col18\" class=\"col_heading level0 col18\" >OverallCond</th>\n",
       "      <th id=\"T_24925_level0_col19\" class=\"col_heading level0 col19\" >YearBuilt</th>\n",
       "      <th id=\"T_24925_level0_col20\" class=\"col_heading level0 col20\" >YearRemodAdd</th>\n",
       "      <th id=\"T_24925_level0_col21\" class=\"col_heading level0 col21\" >RoofStyle</th>\n",
       "      <th id=\"T_24925_level0_col22\" class=\"col_heading level0 col22\" >RoofMatl</th>\n",
       "      <th id=\"T_24925_level0_col23\" class=\"col_heading level0 col23\" >Exterior1st</th>\n",
       "      <th id=\"T_24925_level0_col24\" class=\"col_heading level0 col24\" >Exterior2nd</th>\n",
       "      <th id=\"T_24925_level0_col25\" class=\"col_heading level0 col25\" >MasVnrType</th>\n",
       "      <th id=\"T_24925_level0_col26\" class=\"col_heading level0 col26\" >MasVnrArea</th>\n",
       "      <th id=\"T_24925_level0_col27\" class=\"col_heading level0 col27\" >ExterQual</th>\n",
       "      <th id=\"T_24925_level0_col28\" class=\"col_heading level0 col28\" >ExterCond</th>\n",
       "      <th id=\"T_24925_level0_col29\" class=\"col_heading level0 col29\" >Foundation</th>\n",
       "      <th id=\"T_24925_level0_col30\" class=\"col_heading level0 col30\" >BsmtQual</th>\n",
       "      <th id=\"T_24925_level0_col31\" class=\"col_heading level0 col31\" >BsmtCond</th>\n",
       "      <th id=\"T_24925_level0_col32\" class=\"col_heading level0 col32\" >BsmtExposure</th>\n",
       "      <th id=\"T_24925_level0_col33\" class=\"col_heading level0 col33\" >BsmtFinType1</th>\n",
       "      <th id=\"T_24925_level0_col34\" class=\"col_heading level0 col34\" >BsmtFinSF1</th>\n",
       "      <th id=\"T_24925_level0_col35\" class=\"col_heading level0 col35\" >BsmtFinType2</th>\n",
       "      <th id=\"T_24925_level0_col36\" class=\"col_heading level0 col36\" >BsmtFinSF2</th>\n",
       "      <th id=\"T_24925_level0_col37\" class=\"col_heading level0 col37\" >BsmtUnfSF</th>\n",
       "      <th id=\"T_24925_level0_col38\" class=\"col_heading level0 col38\" >TotalBsmtSF</th>\n",
       "      <th id=\"T_24925_level0_col39\" class=\"col_heading level0 col39\" >Heating</th>\n",
       "      <th id=\"T_24925_level0_col40\" class=\"col_heading level0 col40\" >HeatingQC</th>\n",
       "      <th id=\"T_24925_level0_col41\" class=\"col_heading level0 col41\" >CentralAir</th>\n",
       "      <th id=\"T_24925_level0_col42\" class=\"col_heading level0 col42\" >Electrical</th>\n",
       "      <th id=\"T_24925_level0_col43\" class=\"col_heading level0 col43\" >1stFlrSF</th>\n",
       "      <th id=\"T_24925_level0_col44\" class=\"col_heading level0 col44\" >2ndFlrSF</th>\n",
       "      <th id=\"T_24925_level0_col45\" class=\"col_heading level0 col45\" >LowQualFinSF</th>\n",
       "      <th id=\"T_24925_level0_col46\" class=\"col_heading level0 col46\" >GrLivArea</th>\n",
       "      <th id=\"T_24925_level0_col47\" class=\"col_heading level0 col47\" >BsmtFullBath</th>\n",
       "      <th id=\"T_24925_level0_col48\" class=\"col_heading level0 col48\" >BsmtHalfBath</th>\n",
       "      <th id=\"T_24925_level0_col49\" class=\"col_heading level0 col49\" >FullBath</th>\n",
       "      <th id=\"T_24925_level0_col50\" class=\"col_heading level0 col50\" >HalfBath</th>\n",
       "      <th id=\"T_24925_level0_col51\" class=\"col_heading level0 col51\" >BedroomAbvGr</th>\n",
       "      <th id=\"T_24925_level0_col52\" class=\"col_heading level0 col52\" >KitchenAbvGr</th>\n",
       "      <th id=\"T_24925_level0_col53\" class=\"col_heading level0 col53\" >KitchenQual</th>\n",
       "      <th id=\"T_24925_level0_col54\" class=\"col_heading level0 col54\" >TotRmsAbvGrd</th>\n",
       "      <th id=\"T_24925_level0_col55\" class=\"col_heading level0 col55\" >Functional</th>\n",
       "      <th id=\"T_24925_level0_col56\" class=\"col_heading level0 col56\" >Fireplaces</th>\n",
       "      <th id=\"T_24925_level0_col57\" class=\"col_heading level0 col57\" >FireplaceQu</th>\n",
       "      <th id=\"T_24925_level0_col58\" class=\"col_heading level0 col58\" >GarageType</th>\n",
       "      <th id=\"T_24925_level0_col59\" class=\"col_heading level0 col59\" >GarageYrBlt</th>\n",
       "      <th id=\"T_24925_level0_col60\" class=\"col_heading level0 col60\" >GarageFinish</th>\n",
       "      <th id=\"T_24925_level0_col61\" class=\"col_heading level0 col61\" >GarageCars</th>\n",
       "      <th id=\"T_24925_level0_col62\" class=\"col_heading level0 col62\" >GarageArea</th>\n",
       "      <th id=\"T_24925_level0_col63\" class=\"col_heading level0 col63\" >GarageQual</th>\n",
       "      <th id=\"T_24925_level0_col64\" class=\"col_heading level0 col64\" >GarageCond</th>\n",
       "      <th id=\"T_24925_level0_col65\" class=\"col_heading level0 col65\" >PavedDrive</th>\n",
       "      <th id=\"T_24925_level0_col66\" class=\"col_heading level0 col66\" >WoodDeckSF</th>\n",
       "      <th id=\"T_24925_level0_col67\" class=\"col_heading level0 col67\" >OpenPorchSF</th>\n",
       "      <th id=\"T_24925_level0_col68\" class=\"col_heading level0 col68\" >EnclosedPorch</th>\n",
       "      <th id=\"T_24925_level0_col69\" class=\"col_heading level0 col69\" >3SsnPorch</th>\n",
       "      <th id=\"T_24925_level0_col70\" class=\"col_heading level0 col70\" >ScreenPorch</th>\n",
       "      <th id=\"T_24925_level0_col71\" class=\"col_heading level0 col71\" >PoolArea</th>\n",
       "      <th id=\"T_24925_level0_col72\" class=\"col_heading level0 col72\" >PoolQC</th>\n",
       "      <th id=\"T_24925_level0_col73\" class=\"col_heading level0 col73\" >Fence</th>\n",
       "      <th id=\"T_24925_level0_col74\" class=\"col_heading level0 col74\" >MiscFeature</th>\n",
       "      <th id=\"T_24925_level0_col75\" class=\"col_heading level0 col75\" >MiscVal</th>\n",
       "      <th id=\"T_24925_level0_col76\" class=\"col_heading level0 col76\" >MoSold</th>\n",
       "      <th id=\"T_24925_level0_col77\" class=\"col_heading level0 col77\" >YrSold</th>\n",
       "      <th id=\"T_24925_level0_col78\" class=\"col_heading level0 col78\" >SaleType</th>\n",
       "      <th id=\"T_24925_level0_col79\" class=\"col_heading level0 col79\" >SaleCondition</th>\n",
       "      <th id=\"T_24925_level0_col80\" class=\"col_heading level0 col80\" >SalePrice</th>\n",
       "    </tr>\n",
       "  </thead>\n",
       "  <tbody>\n",
       "    <tr>\n",
       "      <th id=\"T_24925_level0_row0\" class=\"row_heading level0 row0\" >0</th>\n",
       "      <td id=\"T_24925_row0_col0\" class=\"data row0 col0\" >1</td>\n",
       "      <td id=\"T_24925_row0_col1\" class=\"data row0 col1\" >60</td>\n",
       "      <td id=\"T_24925_row0_col2\" class=\"data row0 col2\" >RL</td>\n",
       "      <td id=\"T_24925_row0_col3\" class=\"data row0 col3\" >65.000000</td>\n",
       "      <td id=\"T_24925_row0_col4\" class=\"data row0 col4\" >8450</td>\n",
       "      <td id=\"T_24925_row0_col5\" class=\"data row0 col5\" >Pave</td>\n",
       "      <td id=\"T_24925_row0_col6\" class=\"data row0 col6\" >nan</td>\n",
       "      <td id=\"T_24925_row0_col7\" class=\"data row0 col7\" >Reg</td>\n",
       "      <td id=\"T_24925_row0_col8\" class=\"data row0 col8\" >Lvl</td>\n",
       "      <td id=\"T_24925_row0_col9\" class=\"data row0 col9\" >AllPub</td>\n",
       "      <td id=\"T_24925_row0_col10\" class=\"data row0 col10\" >Inside</td>\n",
       "      <td id=\"T_24925_row0_col11\" class=\"data row0 col11\" >Gtl</td>\n",
       "      <td id=\"T_24925_row0_col12\" class=\"data row0 col12\" >CollgCr</td>\n",
       "      <td id=\"T_24925_row0_col13\" class=\"data row0 col13\" >Norm</td>\n",
       "      <td id=\"T_24925_row0_col14\" class=\"data row0 col14\" >Norm</td>\n",
       "      <td id=\"T_24925_row0_col15\" class=\"data row0 col15\" >1Fam</td>\n",
       "      <td id=\"T_24925_row0_col16\" class=\"data row0 col16\" >2Story</td>\n",
       "      <td id=\"T_24925_row0_col17\" class=\"data row0 col17\" >7</td>\n",
       "      <td id=\"T_24925_row0_col18\" class=\"data row0 col18\" >5</td>\n",
       "      <td id=\"T_24925_row0_col19\" class=\"data row0 col19\" >2003</td>\n",
       "      <td id=\"T_24925_row0_col20\" class=\"data row0 col20\" >2003</td>\n",
       "      <td id=\"T_24925_row0_col21\" class=\"data row0 col21\" >Gable</td>\n",
       "      <td id=\"T_24925_row0_col22\" class=\"data row0 col22\" >CompShg</td>\n",
       "      <td id=\"T_24925_row0_col23\" class=\"data row0 col23\" >VinylSd</td>\n",
       "      <td id=\"T_24925_row0_col24\" class=\"data row0 col24\" >VinylSd</td>\n",
       "      <td id=\"T_24925_row0_col25\" class=\"data row0 col25\" >BrkFace</td>\n",
       "      <td id=\"T_24925_row0_col26\" class=\"data row0 col26\" >196.000000</td>\n",
       "      <td id=\"T_24925_row0_col27\" class=\"data row0 col27\" >Gd</td>\n",
       "      <td id=\"T_24925_row0_col28\" class=\"data row0 col28\" >TA</td>\n",
       "      <td id=\"T_24925_row0_col29\" class=\"data row0 col29\" >PConc</td>\n",
       "      <td id=\"T_24925_row0_col30\" class=\"data row0 col30\" >Gd</td>\n",
       "      <td id=\"T_24925_row0_col31\" class=\"data row0 col31\" >TA</td>\n",
       "      <td id=\"T_24925_row0_col32\" class=\"data row0 col32\" >No</td>\n",
       "      <td id=\"T_24925_row0_col33\" class=\"data row0 col33\" >GLQ</td>\n",
       "      <td id=\"T_24925_row0_col34\" class=\"data row0 col34\" >706</td>\n",
       "      <td id=\"T_24925_row0_col35\" class=\"data row0 col35\" >Unf</td>\n",
       "      <td id=\"T_24925_row0_col36\" class=\"data row0 col36\" >0</td>\n",
       "      <td id=\"T_24925_row0_col37\" class=\"data row0 col37\" >150</td>\n",
       "      <td id=\"T_24925_row0_col38\" class=\"data row0 col38\" >856</td>\n",
       "      <td id=\"T_24925_row0_col39\" class=\"data row0 col39\" >GasA</td>\n",
       "      <td id=\"T_24925_row0_col40\" class=\"data row0 col40\" >Ex</td>\n",
       "      <td id=\"T_24925_row0_col41\" class=\"data row0 col41\" >Y</td>\n",
       "      <td id=\"T_24925_row0_col42\" class=\"data row0 col42\" >SBrkr</td>\n",
       "      <td id=\"T_24925_row0_col43\" class=\"data row0 col43\" >856</td>\n",
       "      <td id=\"T_24925_row0_col44\" class=\"data row0 col44\" >854</td>\n",
       "      <td id=\"T_24925_row0_col45\" class=\"data row0 col45\" >0</td>\n",
       "      <td id=\"T_24925_row0_col46\" class=\"data row0 col46\" >1710</td>\n",
       "      <td id=\"T_24925_row0_col47\" class=\"data row0 col47\" >1</td>\n",
       "      <td id=\"T_24925_row0_col48\" class=\"data row0 col48\" >0</td>\n",
       "      <td id=\"T_24925_row0_col49\" class=\"data row0 col49\" >2</td>\n",
       "      <td id=\"T_24925_row0_col50\" class=\"data row0 col50\" >1</td>\n",
       "      <td id=\"T_24925_row0_col51\" class=\"data row0 col51\" >3</td>\n",
       "      <td id=\"T_24925_row0_col52\" class=\"data row0 col52\" >1</td>\n",
       "      <td id=\"T_24925_row0_col53\" class=\"data row0 col53\" >Gd</td>\n",
       "      <td id=\"T_24925_row0_col54\" class=\"data row0 col54\" >8</td>\n",
       "      <td id=\"T_24925_row0_col55\" class=\"data row0 col55\" >Typ</td>\n",
       "      <td id=\"T_24925_row0_col56\" class=\"data row0 col56\" >0</td>\n",
       "      <td id=\"T_24925_row0_col57\" class=\"data row0 col57\" >nan</td>\n",
       "      <td id=\"T_24925_row0_col58\" class=\"data row0 col58\" >Attchd</td>\n",
       "      <td id=\"T_24925_row0_col59\" class=\"data row0 col59\" >2003.000000</td>\n",
       "      <td id=\"T_24925_row0_col60\" class=\"data row0 col60\" >RFn</td>\n",
       "      <td id=\"T_24925_row0_col61\" class=\"data row0 col61\" >2</td>\n",
       "      <td id=\"T_24925_row0_col62\" class=\"data row0 col62\" >548</td>\n",
       "      <td id=\"T_24925_row0_col63\" class=\"data row0 col63\" >TA</td>\n",
       "      <td id=\"T_24925_row0_col64\" class=\"data row0 col64\" >TA</td>\n",
       "      <td id=\"T_24925_row0_col65\" class=\"data row0 col65\" >Y</td>\n",
       "      <td id=\"T_24925_row0_col66\" class=\"data row0 col66\" >0</td>\n",
       "      <td id=\"T_24925_row0_col67\" class=\"data row0 col67\" >61</td>\n",
       "      <td id=\"T_24925_row0_col68\" class=\"data row0 col68\" >0</td>\n",
       "      <td id=\"T_24925_row0_col69\" class=\"data row0 col69\" >0</td>\n",
       "      <td id=\"T_24925_row0_col70\" class=\"data row0 col70\" >0</td>\n",
       "      <td id=\"T_24925_row0_col71\" class=\"data row0 col71\" >0</td>\n",
       "      <td id=\"T_24925_row0_col72\" class=\"data row0 col72\" >nan</td>\n",
       "      <td id=\"T_24925_row0_col73\" class=\"data row0 col73\" >nan</td>\n",
       "      <td id=\"T_24925_row0_col74\" class=\"data row0 col74\" >nan</td>\n",
       "      <td id=\"T_24925_row0_col75\" class=\"data row0 col75\" >0</td>\n",
       "      <td id=\"T_24925_row0_col76\" class=\"data row0 col76\" >2</td>\n",
       "      <td id=\"T_24925_row0_col77\" class=\"data row0 col77\" >2008</td>\n",
       "      <td id=\"T_24925_row0_col78\" class=\"data row0 col78\" >WD</td>\n",
       "      <td id=\"T_24925_row0_col79\" class=\"data row0 col79\" >Normal</td>\n",
       "      <td id=\"T_24925_row0_col80\" class=\"data row0 col80\" >208500</td>\n",
       "    </tr>\n",
       "    <tr>\n",
       "      <th id=\"T_24925_level0_row1\" class=\"row_heading level0 row1\" >1</th>\n",
       "      <td id=\"T_24925_row1_col0\" class=\"data row1 col0\" >2</td>\n",
       "      <td id=\"T_24925_row1_col1\" class=\"data row1 col1\" >20</td>\n",
       "      <td id=\"T_24925_row1_col2\" class=\"data row1 col2\" >RL</td>\n",
       "      <td id=\"T_24925_row1_col3\" class=\"data row1 col3\" >80.000000</td>\n",
       "      <td id=\"T_24925_row1_col4\" class=\"data row1 col4\" >9600</td>\n",
       "      <td id=\"T_24925_row1_col5\" class=\"data row1 col5\" >Pave</td>\n",
       "      <td id=\"T_24925_row1_col6\" class=\"data row1 col6\" >nan</td>\n",
       "      <td id=\"T_24925_row1_col7\" class=\"data row1 col7\" >Reg</td>\n",
       "      <td id=\"T_24925_row1_col8\" class=\"data row1 col8\" >Lvl</td>\n",
       "      <td id=\"T_24925_row1_col9\" class=\"data row1 col9\" >AllPub</td>\n",
       "      <td id=\"T_24925_row1_col10\" class=\"data row1 col10\" >FR2</td>\n",
       "      <td id=\"T_24925_row1_col11\" class=\"data row1 col11\" >Gtl</td>\n",
       "      <td id=\"T_24925_row1_col12\" class=\"data row1 col12\" >Veenker</td>\n",
       "      <td id=\"T_24925_row1_col13\" class=\"data row1 col13\" >Feedr</td>\n",
       "      <td id=\"T_24925_row1_col14\" class=\"data row1 col14\" >Norm</td>\n",
       "      <td id=\"T_24925_row1_col15\" class=\"data row1 col15\" >1Fam</td>\n",
       "      <td id=\"T_24925_row1_col16\" class=\"data row1 col16\" >1Story</td>\n",
       "      <td id=\"T_24925_row1_col17\" class=\"data row1 col17\" >6</td>\n",
       "      <td id=\"T_24925_row1_col18\" class=\"data row1 col18\" >8</td>\n",
       "      <td id=\"T_24925_row1_col19\" class=\"data row1 col19\" >1976</td>\n",
       "      <td id=\"T_24925_row1_col20\" class=\"data row1 col20\" >1976</td>\n",
       "      <td id=\"T_24925_row1_col21\" class=\"data row1 col21\" >Gable</td>\n",
       "      <td id=\"T_24925_row1_col22\" class=\"data row1 col22\" >CompShg</td>\n",
       "      <td id=\"T_24925_row1_col23\" class=\"data row1 col23\" >MetalSd</td>\n",
       "      <td id=\"T_24925_row1_col24\" class=\"data row1 col24\" >MetalSd</td>\n",
       "      <td id=\"T_24925_row1_col25\" class=\"data row1 col25\" >None</td>\n",
       "      <td id=\"T_24925_row1_col26\" class=\"data row1 col26\" >0.000000</td>\n",
       "      <td id=\"T_24925_row1_col27\" class=\"data row1 col27\" >TA</td>\n",
       "      <td id=\"T_24925_row1_col28\" class=\"data row1 col28\" >TA</td>\n",
       "      <td id=\"T_24925_row1_col29\" class=\"data row1 col29\" >CBlock</td>\n",
       "      <td id=\"T_24925_row1_col30\" class=\"data row1 col30\" >Gd</td>\n",
       "      <td id=\"T_24925_row1_col31\" class=\"data row1 col31\" >TA</td>\n",
       "      <td id=\"T_24925_row1_col32\" class=\"data row1 col32\" >Gd</td>\n",
       "      <td id=\"T_24925_row1_col33\" class=\"data row1 col33\" >ALQ</td>\n",
       "      <td id=\"T_24925_row1_col34\" class=\"data row1 col34\" >978</td>\n",
       "      <td id=\"T_24925_row1_col35\" class=\"data row1 col35\" >Unf</td>\n",
       "      <td id=\"T_24925_row1_col36\" class=\"data row1 col36\" >0</td>\n",
       "      <td id=\"T_24925_row1_col37\" class=\"data row1 col37\" >284</td>\n",
       "      <td id=\"T_24925_row1_col38\" class=\"data row1 col38\" >1262</td>\n",
       "      <td id=\"T_24925_row1_col39\" class=\"data row1 col39\" >GasA</td>\n",
       "      <td id=\"T_24925_row1_col40\" class=\"data row1 col40\" >Ex</td>\n",
       "      <td id=\"T_24925_row1_col41\" class=\"data row1 col41\" >Y</td>\n",
       "      <td id=\"T_24925_row1_col42\" class=\"data row1 col42\" >SBrkr</td>\n",
       "      <td id=\"T_24925_row1_col43\" class=\"data row1 col43\" >1262</td>\n",
       "      <td id=\"T_24925_row1_col44\" class=\"data row1 col44\" >0</td>\n",
       "      <td id=\"T_24925_row1_col45\" class=\"data row1 col45\" >0</td>\n",
       "      <td id=\"T_24925_row1_col46\" class=\"data row1 col46\" >1262</td>\n",
       "      <td id=\"T_24925_row1_col47\" class=\"data row1 col47\" >0</td>\n",
       "      <td id=\"T_24925_row1_col48\" class=\"data row1 col48\" >1</td>\n",
       "      <td id=\"T_24925_row1_col49\" class=\"data row1 col49\" >2</td>\n",
       "      <td id=\"T_24925_row1_col50\" class=\"data row1 col50\" >0</td>\n",
       "      <td id=\"T_24925_row1_col51\" class=\"data row1 col51\" >3</td>\n",
       "      <td id=\"T_24925_row1_col52\" class=\"data row1 col52\" >1</td>\n",
       "      <td id=\"T_24925_row1_col53\" class=\"data row1 col53\" >TA</td>\n",
       "      <td id=\"T_24925_row1_col54\" class=\"data row1 col54\" >6</td>\n",
       "      <td id=\"T_24925_row1_col55\" class=\"data row1 col55\" >Typ</td>\n",
       "      <td id=\"T_24925_row1_col56\" class=\"data row1 col56\" >1</td>\n",
       "      <td id=\"T_24925_row1_col57\" class=\"data row1 col57\" >TA</td>\n",
       "      <td id=\"T_24925_row1_col58\" class=\"data row1 col58\" >Attchd</td>\n",
       "      <td id=\"T_24925_row1_col59\" class=\"data row1 col59\" >1976.000000</td>\n",
       "      <td id=\"T_24925_row1_col60\" class=\"data row1 col60\" >RFn</td>\n",
       "      <td id=\"T_24925_row1_col61\" class=\"data row1 col61\" >2</td>\n",
       "      <td id=\"T_24925_row1_col62\" class=\"data row1 col62\" >460</td>\n",
       "      <td id=\"T_24925_row1_col63\" class=\"data row1 col63\" >TA</td>\n",
       "      <td id=\"T_24925_row1_col64\" class=\"data row1 col64\" >TA</td>\n",
       "      <td id=\"T_24925_row1_col65\" class=\"data row1 col65\" >Y</td>\n",
       "      <td id=\"T_24925_row1_col66\" class=\"data row1 col66\" >298</td>\n",
       "      <td id=\"T_24925_row1_col67\" class=\"data row1 col67\" >0</td>\n",
       "      <td id=\"T_24925_row1_col68\" class=\"data row1 col68\" >0</td>\n",
       "      <td id=\"T_24925_row1_col69\" class=\"data row1 col69\" >0</td>\n",
       "      <td id=\"T_24925_row1_col70\" class=\"data row1 col70\" >0</td>\n",
       "      <td id=\"T_24925_row1_col71\" class=\"data row1 col71\" >0</td>\n",
       "      <td id=\"T_24925_row1_col72\" class=\"data row1 col72\" >nan</td>\n",
       "      <td id=\"T_24925_row1_col73\" class=\"data row1 col73\" >nan</td>\n",
       "      <td id=\"T_24925_row1_col74\" class=\"data row1 col74\" >nan</td>\n",
       "      <td id=\"T_24925_row1_col75\" class=\"data row1 col75\" >0</td>\n",
       "      <td id=\"T_24925_row1_col76\" class=\"data row1 col76\" >5</td>\n",
       "      <td id=\"T_24925_row1_col77\" class=\"data row1 col77\" >2007</td>\n",
       "      <td id=\"T_24925_row1_col78\" class=\"data row1 col78\" >WD</td>\n",
       "      <td id=\"T_24925_row1_col79\" class=\"data row1 col79\" >Normal</td>\n",
       "      <td id=\"T_24925_row1_col80\" class=\"data row1 col80\" >181500</td>\n",
       "    </tr>\n",
       "    <tr>\n",
       "      <th id=\"T_24925_level0_row2\" class=\"row_heading level0 row2\" >2</th>\n",
       "      <td id=\"T_24925_row2_col0\" class=\"data row2 col0\" >3</td>\n",
       "      <td id=\"T_24925_row2_col1\" class=\"data row2 col1\" >60</td>\n",
       "      <td id=\"T_24925_row2_col2\" class=\"data row2 col2\" >RL</td>\n",
       "      <td id=\"T_24925_row2_col3\" class=\"data row2 col3\" >68.000000</td>\n",
       "      <td id=\"T_24925_row2_col4\" class=\"data row2 col4\" >11250</td>\n",
       "      <td id=\"T_24925_row2_col5\" class=\"data row2 col5\" >Pave</td>\n",
       "      <td id=\"T_24925_row2_col6\" class=\"data row2 col6\" >nan</td>\n",
       "      <td id=\"T_24925_row2_col7\" class=\"data row2 col7\" >IR1</td>\n",
       "      <td id=\"T_24925_row2_col8\" class=\"data row2 col8\" >Lvl</td>\n",
       "      <td id=\"T_24925_row2_col9\" class=\"data row2 col9\" >AllPub</td>\n",
       "      <td id=\"T_24925_row2_col10\" class=\"data row2 col10\" >Inside</td>\n",
       "      <td id=\"T_24925_row2_col11\" class=\"data row2 col11\" >Gtl</td>\n",
       "      <td id=\"T_24925_row2_col12\" class=\"data row2 col12\" >CollgCr</td>\n",
       "      <td id=\"T_24925_row2_col13\" class=\"data row2 col13\" >Norm</td>\n",
       "      <td id=\"T_24925_row2_col14\" class=\"data row2 col14\" >Norm</td>\n",
       "      <td id=\"T_24925_row2_col15\" class=\"data row2 col15\" >1Fam</td>\n",
       "      <td id=\"T_24925_row2_col16\" class=\"data row2 col16\" >2Story</td>\n",
       "      <td id=\"T_24925_row2_col17\" class=\"data row2 col17\" >7</td>\n",
       "      <td id=\"T_24925_row2_col18\" class=\"data row2 col18\" >5</td>\n",
       "      <td id=\"T_24925_row2_col19\" class=\"data row2 col19\" >2001</td>\n",
       "      <td id=\"T_24925_row2_col20\" class=\"data row2 col20\" >2002</td>\n",
       "      <td id=\"T_24925_row2_col21\" class=\"data row2 col21\" >Gable</td>\n",
       "      <td id=\"T_24925_row2_col22\" class=\"data row2 col22\" >CompShg</td>\n",
       "      <td id=\"T_24925_row2_col23\" class=\"data row2 col23\" >VinylSd</td>\n",
       "      <td id=\"T_24925_row2_col24\" class=\"data row2 col24\" >VinylSd</td>\n",
       "      <td id=\"T_24925_row2_col25\" class=\"data row2 col25\" >BrkFace</td>\n",
       "      <td id=\"T_24925_row2_col26\" class=\"data row2 col26\" >162.000000</td>\n",
       "      <td id=\"T_24925_row2_col27\" class=\"data row2 col27\" >Gd</td>\n",
       "      <td id=\"T_24925_row2_col28\" class=\"data row2 col28\" >TA</td>\n",
       "      <td id=\"T_24925_row2_col29\" class=\"data row2 col29\" >PConc</td>\n",
       "      <td id=\"T_24925_row2_col30\" class=\"data row2 col30\" >Gd</td>\n",
       "      <td id=\"T_24925_row2_col31\" class=\"data row2 col31\" >TA</td>\n",
       "      <td id=\"T_24925_row2_col32\" class=\"data row2 col32\" >Mn</td>\n",
       "      <td id=\"T_24925_row2_col33\" class=\"data row2 col33\" >GLQ</td>\n",
       "      <td id=\"T_24925_row2_col34\" class=\"data row2 col34\" >486</td>\n",
       "      <td id=\"T_24925_row2_col35\" class=\"data row2 col35\" >Unf</td>\n",
       "      <td id=\"T_24925_row2_col36\" class=\"data row2 col36\" >0</td>\n",
       "      <td id=\"T_24925_row2_col37\" class=\"data row2 col37\" >434</td>\n",
       "      <td id=\"T_24925_row2_col38\" class=\"data row2 col38\" >920</td>\n",
       "      <td id=\"T_24925_row2_col39\" class=\"data row2 col39\" >GasA</td>\n",
       "      <td id=\"T_24925_row2_col40\" class=\"data row2 col40\" >Ex</td>\n",
       "      <td id=\"T_24925_row2_col41\" class=\"data row2 col41\" >Y</td>\n",
       "      <td id=\"T_24925_row2_col42\" class=\"data row2 col42\" >SBrkr</td>\n",
       "      <td id=\"T_24925_row2_col43\" class=\"data row2 col43\" >920</td>\n",
       "      <td id=\"T_24925_row2_col44\" class=\"data row2 col44\" >866</td>\n",
       "      <td id=\"T_24925_row2_col45\" class=\"data row2 col45\" >0</td>\n",
       "      <td id=\"T_24925_row2_col46\" class=\"data row2 col46\" >1786</td>\n",
       "      <td id=\"T_24925_row2_col47\" class=\"data row2 col47\" >1</td>\n",
       "      <td id=\"T_24925_row2_col48\" class=\"data row2 col48\" >0</td>\n",
       "      <td id=\"T_24925_row2_col49\" class=\"data row2 col49\" >2</td>\n",
       "      <td id=\"T_24925_row2_col50\" class=\"data row2 col50\" >1</td>\n",
       "      <td id=\"T_24925_row2_col51\" class=\"data row2 col51\" >3</td>\n",
       "      <td id=\"T_24925_row2_col52\" class=\"data row2 col52\" >1</td>\n",
       "      <td id=\"T_24925_row2_col53\" class=\"data row2 col53\" >Gd</td>\n",
       "      <td id=\"T_24925_row2_col54\" class=\"data row2 col54\" >6</td>\n",
       "      <td id=\"T_24925_row2_col55\" class=\"data row2 col55\" >Typ</td>\n",
       "      <td id=\"T_24925_row2_col56\" class=\"data row2 col56\" >1</td>\n",
       "      <td id=\"T_24925_row2_col57\" class=\"data row2 col57\" >TA</td>\n",
       "      <td id=\"T_24925_row2_col58\" class=\"data row2 col58\" >Attchd</td>\n",
       "      <td id=\"T_24925_row2_col59\" class=\"data row2 col59\" >2001.000000</td>\n",
       "      <td id=\"T_24925_row2_col60\" class=\"data row2 col60\" >RFn</td>\n",
       "      <td id=\"T_24925_row2_col61\" class=\"data row2 col61\" >2</td>\n",
       "      <td id=\"T_24925_row2_col62\" class=\"data row2 col62\" >608</td>\n",
       "      <td id=\"T_24925_row2_col63\" class=\"data row2 col63\" >TA</td>\n",
       "      <td id=\"T_24925_row2_col64\" class=\"data row2 col64\" >TA</td>\n",
       "      <td id=\"T_24925_row2_col65\" class=\"data row2 col65\" >Y</td>\n",
       "      <td id=\"T_24925_row2_col66\" class=\"data row2 col66\" >0</td>\n",
       "      <td id=\"T_24925_row2_col67\" class=\"data row2 col67\" >42</td>\n",
       "      <td id=\"T_24925_row2_col68\" class=\"data row2 col68\" >0</td>\n",
       "      <td id=\"T_24925_row2_col69\" class=\"data row2 col69\" >0</td>\n",
       "      <td id=\"T_24925_row2_col70\" class=\"data row2 col70\" >0</td>\n",
       "      <td id=\"T_24925_row2_col71\" class=\"data row2 col71\" >0</td>\n",
       "      <td id=\"T_24925_row2_col72\" class=\"data row2 col72\" >nan</td>\n",
       "      <td id=\"T_24925_row2_col73\" class=\"data row2 col73\" >nan</td>\n",
       "      <td id=\"T_24925_row2_col74\" class=\"data row2 col74\" >nan</td>\n",
       "      <td id=\"T_24925_row2_col75\" class=\"data row2 col75\" >0</td>\n",
       "      <td id=\"T_24925_row2_col76\" class=\"data row2 col76\" >9</td>\n",
       "      <td id=\"T_24925_row2_col77\" class=\"data row2 col77\" >2008</td>\n",
       "      <td id=\"T_24925_row2_col78\" class=\"data row2 col78\" >WD</td>\n",
       "      <td id=\"T_24925_row2_col79\" class=\"data row2 col79\" >Normal</td>\n",
       "      <td id=\"T_24925_row2_col80\" class=\"data row2 col80\" >223500</td>\n",
       "    </tr>\n",
       "    <tr>\n",
       "      <th id=\"T_24925_level0_row3\" class=\"row_heading level0 row3\" >3</th>\n",
       "      <td id=\"T_24925_row3_col0\" class=\"data row3 col0\" >4</td>\n",
       "      <td id=\"T_24925_row3_col1\" class=\"data row3 col1\" >70</td>\n",
       "      <td id=\"T_24925_row3_col2\" class=\"data row3 col2\" >RL</td>\n",
       "      <td id=\"T_24925_row3_col3\" class=\"data row3 col3\" >60.000000</td>\n",
       "      <td id=\"T_24925_row3_col4\" class=\"data row3 col4\" >9550</td>\n",
       "      <td id=\"T_24925_row3_col5\" class=\"data row3 col5\" >Pave</td>\n",
       "      <td id=\"T_24925_row3_col6\" class=\"data row3 col6\" >nan</td>\n",
       "      <td id=\"T_24925_row3_col7\" class=\"data row3 col7\" >IR1</td>\n",
       "      <td id=\"T_24925_row3_col8\" class=\"data row3 col8\" >Lvl</td>\n",
       "      <td id=\"T_24925_row3_col9\" class=\"data row3 col9\" >AllPub</td>\n",
       "      <td id=\"T_24925_row3_col10\" class=\"data row3 col10\" >Corner</td>\n",
       "      <td id=\"T_24925_row3_col11\" class=\"data row3 col11\" >Gtl</td>\n",
       "      <td id=\"T_24925_row3_col12\" class=\"data row3 col12\" >Crawfor</td>\n",
       "      <td id=\"T_24925_row3_col13\" class=\"data row3 col13\" >Norm</td>\n",
       "      <td id=\"T_24925_row3_col14\" class=\"data row3 col14\" >Norm</td>\n",
       "      <td id=\"T_24925_row3_col15\" class=\"data row3 col15\" >1Fam</td>\n",
       "      <td id=\"T_24925_row3_col16\" class=\"data row3 col16\" >2Story</td>\n",
       "      <td id=\"T_24925_row3_col17\" class=\"data row3 col17\" >7</td>\n",
       "      <td id=\"T_24925_row3_col18\" class=\"data row3 col18\" >5</td>\n",
       "      <td id=\"T_24925_row3_col19\" class=\"data row3 col19\" >1915</td>\n",
       "      <td id=\"T_24925_row3_col20\" class=\"data row3 col20\" >1970</td>\n",
       "      <td id=\"T_24925_row3_col21\" class=\"data row3 col21\" >Gable</td>\n",
       "      <td id=\"T_24925_row3_col22\" class=\"data row3 col22\" >CompShg</td>\n",
       "      <td id=\"T_24925_row3_col23\" class=\"data row3 col23\" >Wd Sdng</td>\n",
       "      <td id=\"T_24925_row3_col24\" class=\"data row3 col24\" >Wd Shng</td>\n",
       "      <td id=\"T_24925_row3_col25\" class=\"data row3 col25\" >None</td>\n",
       "      <td id=\"T_24925_row3_col26\" class=\"data row3 col26\" >0.000000</td>\n",
       "      <td id=\"T_24925_row3_col27\" class=\"data row3 col27\" >TA</td>\n",
       "      <td id=\"T_24925_row3_col28\" class=\"data row3 col28\" >TA</td>\n",
       "      <td id=\"T_24925_row3_col29\" class=\"data row3 col29\" >BrkTil</td>\n",
       "      <td id=\"T_24925_row3_col30\" class=\"data row3 col30\" >TA</td>\n",
       "      <td id=\"T_24925_row3_col31\" class=\"data row3 col31\" >Gd</td>\n",
       "      <td id=\"T_24925_row3_col32\" class=\"data row3 col32\" >No</td>\n",
       "      <td id=\"T_24925_row3_col33\" class=\"data row3 col33\" >ALQ</td>\n",
       "      <td id=\"T_24925_row3_col34\" class=\"data row3 col34\" >216</td>\n",
       "      <td id=\"T_24925_row3_col35\" class=\"data row3 col35\" >Unf</td>\n",
       "      <td id=\"T_24925_row3_col36\" class=\"data row3 col36\" >0</td>\n",
       "      <td id=\"T_24925_row3_col37\" class=\"data row3 col37\" >540</td>\n",
       "      <td id=\"T_24925_row3_col38\" class=\"data row3 col38\" >756</td>\n",
       "      <td id=\"T_24925_row3_col39\" class=\"data row3 col39\" >GasA</td>\n",
       "      <td id=\"T_24925_row3_col40\" class=\"data row3 col40\" >Gd</td>\n",
       "      <td id=\"T_24925_row3_col41\" class=\"data row3 col41\" >Y</td>\n",
       "      <td id=\"T_24925_row3_col42\" class=\"data row3 col42\" >SBrkr</td>\n",
       "      <td id=\"T_24925_row3_col43\" class=\"data row3 col43\" >961</td>\n",
       "      <td id=\"T_24925_row3_col44\" class=\"data row3 col44\" >756</td>\n",
       "      <td id=\"T_24925_row3_col45\" class=\"data row3 col45\" >0</td>\n",
       "      <td id=\"T_24925_row3_col46\" class=\"data row3 col46\" >1717</td>\n",
       "      <td id=\"T_24925_row3_col47\" class=\"data row3 col47\" >1</td>\n",
       "      <td id=\"T_24925_row3_col48\" class=\"data row3 col48\" >0</td>\n",
       "      <td id=\"T_24925_row3_col49\" class=\"data row3 col49\" >1</td>\n",
       "      <td id=\"T_24925_row3_col50\" class=\"data row3 col50\" >0</td>\n",
       "      <td id=\"T_24925_row3_col51\" class=\"data row3 col51\" >3</td>\n",
       "      <td id=\"T_24925_row3_col52\" class=\"data row3 col52\" >1</td>\n",
       "      <td id=\"T_24925_row3_col53\" class=\"data row3 col53\" >Gd</td>\n",
       "      <td id=\"T_24925_row3_col54\" class=\"data row3 col54\" >7</td>\n",
       "      <td id=\"T_24925_row3_col55\" class=\"data row3 col55\" >Typ</td>\n",
       "      <td id=\"T_24925_row3_col56\" class=\"data row3 col56\" >1</td>\n",
       "      <td id=\"T_24925_row3_col57\" class=\"data row3 col57\" >Gd</td>\n",
       "      <td id=\"T_24925_row3_col58\" class=\"data row3 col58\" >Detchd</td>\n",
       "      <td id=\"T_24925_row3_col59\" class=\"data row3 col59\" >1998.000000</td>\n",
       "      <td id=\"T_24925_row3_col60\" class=\"data row3 col60\" >Unf</td>\n",
       "      <td id=\"T_24925_row3_col61\" class=\"data row3 col61\" >3</td>\n",
       "      <td id=\"T_24925_row3_col62\" class=\"data row3 col62\" >642</td>\n",
       "      <td id=\"T_24925_row3_col63\" class=\"data row3 col63\" >TA</td>\n",
       "      <td id=\"T_24925_row3_col64\" class=\"data row3 col64\" >TA</td>\n",
       "      <td id=\"T_24925_row3_col65\" class=\"data row3 col65\" >Y</td>\n",
       "      <td id=\"T_24925_row3_col66\" class=\"data row3 col66\" >0</td>\n",
       "      <td id=\"T_24925_row3_col67\" class=\"data row3 col67\" >35</td>\n",
       "      <td id=\"T_24925_row3_col68\" class=\"data row3 col68\" >272</td>\n",
       "      <td id=\"T_24925_row3_col69\" class=\"data row3 col69\" >0</td>\n",
       "      <td id=\"T_24925_row3_col70\" class=\"data row3 col70\" >0</td>\n",
       "      <td id=\"T_24925_row3_col71\" class=\"data row3 col71\" >0</td>\n",
       "      <td id=\"T_24925_row3_col72\" class=\"data row3 col72\" >nan</td>\n",
       "      <td id=\"T_24925_row3_col73\" class=\"data row3 col73\" >nan</td>\n",
       "      <td id=\"T_24925_row3_col74\" class=\"data row3 col74\" >nan</td>\n",
       "      <td id=\"T_24925_row3_col75\" class=\"data row3 col75\" >0</td>\n",
       "      <td id=\"T_24925_row3_col76\" class=\"data row3 col76\" >2</td>\n",
       "      <td id=\"T_24925_row3_col77\" class=\"data row3 col77\" >2006</td>\n",
       "      <td id=\"T_24925_row3_col78\" class=\"data row3 col78\" >WD</td>\n",
       "      <td id=\"T_24925_row3_col79\" class=\"data row3 col79\" >Abnorml</td>\n",
       "      <td id=\"T_24925_row3_col80\" class=\"data row3 col80\" >140000</td>\n",
       "    </tr>\n",
       "    <tr>\n",
       "      <th id=\"T_24925_level0_row4\" class=\"row_heading level0 row4\" >4</th>\n",
       "      <td id=\"T_24925_row4_col0\" class=\"data row4 col0\" >5</td>\n",
       "      <td id=\"T_24925_row4_col1\" class=\"data row4 col1\" >60</td>\n",
       "      <td id=\"T_24925_row4_col2\" class=\"data row4 col2\" >RL</td>\n",
       "      <td id=\"T_24925_row4_col3\" class=\"data row4 col3\" >84.000000</td>\n",
       "      <td id=\"T_24925_row4_col4\" class=\"data row4 col4\" >14260</td>\n",
       "      <td id=\"T_24925_row4_col5\" class=\"data row4 col5\" >Pave</td>\n",
       "      <td id=\"T_24925_row4_col6\" class=\"data row4 col6\" >nan</td>\n",
       "      <td id=\"T_24925_row4_col7\" class=\"data row4 col7\" >IR1</td>\n",
       "      <td id=\"T_24925_row4_col8\" class=\"data row4 col8\" >Lvl</td>\n",
       "      <td id=\"T_24925_row4_col9\" class=\"data row4 col9\" >AllPub</td>\n",
       "      <td id=\"T_24925_row4_col10\" class=\"data row4 col10\" >FR2</td>\n",
       "      <td id=\"T_24925_row4_col11\" class=\"data row4 col11\" >Gtl</td>\n",
       "      <td id=\"T_24925_row4_col12\" class=\"data row4 col12\" >NoRidge</td>\n",
       "      <td id=\"T_24925_row4_col13\" class=\"data row4 col13\" >Norm</td>\n",
       "      <td id=\"T_24925_row4_col14\" class=\"data row4 col14\" >Norm</td>\n",
       "      <td id=\"T_24925_row4_col15\" class=\"data row4 col15\" >1Fam</td>\n",
       "      <td id=\"T_24925_row4_col16\" class=\"data row4 col16\" >2Story</td>\n",
       "      <td id=\"T_24925_row4_col17\" class=\"data row4 col17\" >8</td>\n",
       "      <td id=\"T_24925_row4_col18\" class=\"data row4 col18\" >5</td>\n",
       "      <td id=\"T_24925_row4_col19\" class=\"data row4 col19\" >2000</td>\n",
       "      <td id=\"T_24925_row4_col20\" class=\"data row4 col20\" >2000</td>\n",
       "      <td id=\"T_24925_row4_col21\" class=\"data row4 col21\" >Gable</td>\n",
       "      <td id=\"T_24925_row4_col22\" class=\"data row4 col22\" >CompShg</td>\n",
       "      <td id=\"T_24925_row4_col23\" class=\"data row4 col23\" >VinylSd</td>\n",
       "      <td id=\"T_24925_row4_col24\" class=\"data row4 col24\" >VinylSd</td>\n",
       "      <td id=\"T_24925_row4_col25\" class=\"data row4 col25\" >BrkFace</td>\n",
       "      <td id=\"T_24925_row4_col26\" class=\"data row4 col26\" >350.000000</td>\n",
       "      <td id=\"T_24925_row4_col27\" class=\"data row4 col27\" >Gd</td>\n",
       "      <td id=\"T_24925_row4_col28\" class=\"data row4 col28\" >TA</td>\n",
       "      <td id=\"T_24925_row4_col29\" class=\"data row4 col29\" >PConc</td>\n",
       "      <td id=\"T_24925_row4_col30\" class=\"data row4 col30\" >Gd</td>\n",
       "      <td id=\"T_24925_row4_col31\" class=\"data row4 col31\" >TA</td>\n",
       "      <td id=\"T_24925_row4_col32\" class=\"data row4 col32\" >Av</td>\n",
       "      <td id=\"T_24925_row4_col33\" class=\"data row4 col33\" >GLQ</td>\n",
       "      <td id=\"T_24925_row4_col34\" class=\"data row4 col34\" >655</td>\n",
       "      <td id=\"T_24925_row4_col35\" class=\"data row4 col35\" >Unf</td>\n",
       "      <td id=\"T_24925_row4_col36\" class=\"data row4 col36\" >0</td>\n",
       "      <td id=\"T_24925_row4_col37\" class=\"data row4 col37\" >490</td>\n",
       "      <td id=\"T_24925_row4_col38\" class=\"data row4 col38\" >1145</td>\n",
       "      <td id=\"T_24925_row4_col39\" class=\"data row4 col39\" >GasA</td>\n",
       "      <td id=\"T_24925_row4_col40\" class=\"data row4 col40\" >Ex</td>\n",
       "      <td id=\"T_24925_row4_col41\" class=\"data row4 col41\" >Y</td>\n",
       "      <td id=\"T_24925_row4_col42\" class=\"data row4 col42\" >SBrkr</td>\n",
       "      <td id=\"T_24925_row4_col43\" class=\"data row4 col43\" >1145</td>\n",
       "      <td id=\"T_24925_row4_col44\" class=\"data row4 col44\" >1053</td>\n",
       "      <td id=\"T_24925_row4_col45\" class=\"data row4 col45\" >0</td>\n",
       "      <td id=\"T_24925_row4_col46\" class=\"data row4 col46\" >2198</td>\n",
       "      <td id=\"T_24925_row4_col47\" class=\"data row4 col47\" >1</td>\n",
       "      <td id=\"T_24925_row4_col48\" class=\"data row4 col48\" >0</td>\n",
       "      <td id=\"T_24925_row4_col49\" class=\"data row4 col49\" >2</td>\n",
       "      <td id=\"T_24925_row4_col50\" class=\"data row4 col50\" >1</td>\n",
       "      <td id=\"T_24925_row4_col51\" class=\"data row4 col51\" >4</td>\n",
       "      <td id=\"T_24925_row4_col52\" class=\"data row4 col52\" >1</td>\n",
       "      <td id=\"T_24925_row4_col53\" class=\"data row4 col53\" >Gd</td>\n",
       "      <td id=\"T_24925_row4_col54\" class=\"data row4 col54\" >9</td>\n",
       "      <td id=\"T_24925_row4_col55\" class=\"data row4 col55\" >Typ</td>\n",
       "      <td id=\"T_24925_row4_col56\" class=\"data row4 col56\" >1</td>\n",
       "      <td id=\"T_24925_row4_col57\" class=\"data row4 col57\" >TA</td>\n",
       "      <td id=\"T_24925_row4_col58\" class=\"data row4 col58\" >Attchd</td>\n",
       "      <td id=\"T_24925_row4_col59\" class=\"data row4 col59\" >2000.000000</td>\n",
       "      <td id=\"T_24925_row4_col60\" class=\"data row4 col60\" >RFn</td>\n",
       "      <td id=\"T_24925_row4_col61\" class=\"data row4 col61\" >3</td>\n",
       "      <td id=\"T_24925_row4_col62\" class=\"data row4 col62\" >836</td>\n",
       "      <td id=\"T_24925_row4_col63\" class=\"data row4 col63\" >TA</td>\n",
       "      <td id=\"T_24925_row4_col64\" class=\"data row4 col64\" >TA</td>\n",
       "      <td id=\"T_24925_row4_col65\" class=\"data row4 col65\" >Y</td>\n",
       "      <td id=\"T_24925_row4_col66\" class=\"data row4 col66\" >192</td>\n",
       "      <td id=\"T_24925_row4_col67\" class=\"data row4 col67\" >84</td>\n",
       "      <td id=\"T_24925_row4_col68\" class=\"data row4 col68\" >0</td>\n",
       "      <td id=\"T_24925_row4_col69\" class=\"data row4 col69\" >0</td>\n",
       "      <td id=\"T_24925_row4_col70\" class=\"data row4 col70\" >0</td>\n",
       "      <td id=\"T_24925_row4_col71\" class=\"data row4 col71\" >0</td>\n",
       "      <td id=\"T_24925_row4_col72\" class=\"data row4 col72\" >nan</td>\n",
       "      <td id=\"T_24925_row4_col73\" class=\"data row4 col73\" >nan</td>\n",
       "      <td id=\"T_24925_row4_col74\" class=\"data row4 col74\" >nan</td>\n",
       "      <td id=\"T_24925_row4_col75\" class=\"data row4 col75\" >0</td>\n",
       "      <td id=\"T_24925_row4_col76\" class=\"data row4 col76\" >12</td>\n",
       "      <td id=\"T_24925_row4_col77\" class=\"data row4 col77\" >2008</td>\n",
       "      <td id=\"T_24925_row4_col78\" class=\"data row4 col78\" >WD</td>\n",
       "      <td id=\"T_24925_row4_col79\" class=\"data row4 col79\" >Normal</td>\n",
       "      <td id=\"T_24925_row4_col80\" class=\"data row4 col80\" >250000</td>\n",
       "    </tr>\n",
       "  </tbody>\n",
       "</table>\n"
      ],
      "text/plain": [
       "<pandas.io.formats.style.Styler at 0x167ab640>"
      ]
     },
     "metadata": {},
     "output_type": "display_data"
    }
   ],
   "source": [
    "# Resumen de los datos\n",
    "head = train.head().style.set_properties(**{'text-align': 'center'}) \n",
    "display(head)\n",
    "del head"
   ]
  },
  {
   "cell_type": "markdown",
   "metadata": {},
   "source": [
    "## Exploración de variables cualitativas\n",
    "Análisis de frecuencia para observar la distribución de las variables cualitativas"
   ]
  },
  {
   "cell_type": "markdown",
   "metadata": {},
   "source": [
    "#### ¿Cuál es el estilo de vivienda predominante?\n",
    "Es estilo de vivienda predominante o el que más se ha vendido según los datos de entrenamiento son aquellas casas de 1 piso estilo 1946 y más pisos con diferentes estilos."
   ]
  },
  {
   "cell_type": "code",
   "execution_count": 105,
   "metadata": {},
   "outputs": [
    {
     "data": {
      "text/html": [
       "<style type=\"text/css\">\n",
       "#T_8729e_row0_col0, #T_8729e_row0_col1, #T_8729e_row0_col2, #T_8729e_row0_col3, #T_8729e_row1_col0, #T_8729e_row1_col1, #T_8729e_row1_col2, #T_8729e_row1_col3, #T_8729e_row2_col0, #T_8729e_row2_col1, #T_8729e_row2_col2, #T_8729e_row2_col3, #T_8729e_row3_col0, #T_8729e_row3_col1, #T_8729e_row3_col2, #T_8729e_row3_col3, #T_8729e_row4_col0, #T_8729e_row4_col1, #T_8729e_row4_col2, #T_8729e_row4_col3, #T_8729e_row5_col0, #T_8729e_row5_col1, #T_8729e_row5_col2, #T_8729e_row5_col3, #T_8729e_row6_col0, #T_8729e_row6_col1, #T_8729e_row6_col2, #T_8729e_row6_col3, #T_8729e_row7_col0, #T_8729e_row7_col1, #T_8729e_row7_col2, #T_8729e_row7_col3, #T_8729e_row8_col0, #T_8729e_row8_col1, #T_8729e_row8_col2, #T_8729e_row8_col3, #T_8729e_row9_col0, #T_8729e_row9_col1, #T_8729e_row9_col2, #T_8729e_row9_col3, #T_8729e_row10_col0, #T_8729e_row10_col1, #T_8729e_row10_col2, #T_8729e_row10_col3, #T_8729e_row11_col0, #T_8729e_row11_col1, #T_8729e_row11_col2, #T_8729e_row11_col3, #T_8729e_row12_col0, #T_8729e_row12_col1, #T_8729e_row12_col2, #T_8729e_row12_col3, #T_8729e_row13_col0, #T_8729e_row13_col1, #T_8729e_row13_col2, #T_8729e_row13_col3, #T_8729e_row14_col0, #T_8729e_row14_col1, #T_8729e_row14_col2, #T_8729e_row14_col3 {\n",
       "  text-align: center;\n",
       "}\n",
       "</style>\n",
       "<table id=\"T_8729e\">\n",
       "  <thead>\n",
       "    <tr>\n",
       "      <th class=\"blank level0\" >&nbsp;</th>\n",
       "      <th id=\"T_8729e_level0_col0\" class=\"col_heading level0 col0\" >MSSubClass</th>\n",
       "      <th id=\"T_8729e_level0_col1\" class=\"col_heading level0 col1\" >frecuency</th>\n",
       "      <th id=\"T_8729e_level0_col2\" class=\"col_heading level0 col2\" >relative_frecuency (%)</th>\n",
       "      <th id=\"T_8729e_level0_col3\" class=\"col_heading level0 col3\" >relative_acc_frecuency</th>\n",
       "    </tr>\n",
       "  </thead>\n",
       "  <tbody>\n",
       "    <tr>\n",
       "      <th id=\"T_8729e_level0_row0\" class=\"row_heading level0 row0\" >0</th>\n",
       "      <td id=\"T_8729e_row0_col0\" class=\"data row0 col0\" >20</td>\n",
       "      <td id=\"T_8729e_row0_col1\" class=\"data row0 col1\" >536</td>\n",
       "      <td id=\"T_8729e_row0_col2\" class=\"data row0 col2\" >36.712329</td>\n",
       "      <td id=\"T_8729e_row0_col3\" class=\"data row0 col3\" >0.367123</td>\n",
       "    </tr>\n",
       "    <tr>\n",
       "      <th id=\"T_8729e_level0_row1\" class=\"row_heading level0 row1\" >1</th>\n",
       "      <td id=\"T_8729e_row1_col0\" class=\"data row1 col0\" >60</td>\n",
       "      <td id=\"T_8729e_row1_col1\" class=\"data row1 col1\" >299</td>\n",
       "      <td id=\"T_8729e_row1_col2\" class=\"data row1 col2\" >20.479452</td>\n",
       "      <td id=\"T_8729e_row1_col3\" class=\"data row1 col3\" >0.571918</td>\n",
       "    </tr>\n",
       "    <tr>\n",
       "      <th id=\"T_8729e_level0_row2\" class=\"row_heading level0 row2\" >2</th>\n",
       "      <td id=\"T_8729e_row2_col0\" class=\"data row2 col0\" >50</td>\n",
       "      <td id=\"T_8729e_row2_col1\" class=\"data row2 col1\" >144</td>\n",
       "      <td id=\"T_8729e_row2_col2\" class=\"data row2 col2\" >9.863014</td>\n",
       "      <td id=\"T_8729e_row2_col3\" class=\"data row2 col3\" >0.670548</td>\n",
       "    </tr>\n",
       "    <tr>\n",
       "      <th id=\"T_8729e_level0_row3\" class=\"row_heading level0 row3\" >3</th>\n",
       "      <td id=\"T_8729e_row3_col0\" class=\"data row3 col0\" >120</td>\n",
       "      <td id=\"T_8729e_row3_col1\" class=\"data row3 col1\" >87</td>\n",
       "      <td id=\"T_8729e_row3_col2\" class=\"data row3 col2\" >5.958904</td>\n",
       "      <td id=\"T_8729e_row3_col3\" class=\"data row3 col3\" >0.730137</td>\n",
       "    </tr>\n",
       "    <tr>\n",
       "      <th id=\"T_8729e_level0_row4\" class=\"row_heading level0 row4\" >4</th>\n",
       "      <td id=\"T_8729e_row4_col0\" class=\"data row4 col0\" >30</td>\n",
       "      <td id=\"T_8729e_row4_col1\" class=\"data row4 col1\" >69</td>\n",
       "      <td id=\"T_8729e_row4_col2\" class=\"data row4 col2\" >4.726027</td>\n",
       "      <td id=\"T_8729e_row4_col3\" class=\"data row4 col3\" >0.777397</td>\n",
       "    </tr>\n",
       "    <tr>\n",
       "      <th id=\"T_8729e_level0_row5\" class=\"row_heading level0 row5\" >5</th>\n",
       "      <td id=\"T_8729e_row5_col0\" class=\"data row5 col0\" >160</td>\n",
       "      <td id=\"T_8729e_row5_col1\" class=\"data row5 col1\" >63</td>\n",
       "      <td id=\"T_8729e_row5_col2\" class=\"data row5 col2\" >4.315068</td>\n",
       "      <td id=\"T_8729e_row5_col3\" class=\"data row5 col3\" >0.820548</td>\n",
       "    </tr>\n",
       "    <tr>\n",
       "      <th id=\"T_8729e_level0_row6\" class=\"row_heading level0 row6\" >6</th>\n",
       "      <td id=\"T_8729e_row6_col0\" class=\"data row6 col0\" >70</td>\n",
       "      <td id=\"T_8729e_row6_col1\" class=\"data row6 col1\" >60</td>\n",
       "      <td id=\"T_8729e_row6_col2\" class=\"data row6 col2\" >4.109589</td>\n",
       "      <td id=\"T_8729e_row6_col3\" class=\"data row6 col3\" >0.861644</td>\n",
       "    </tr>\n",
       "    <tr>\n",
       "      <th id=\"T_8729e_level0_row7\" class=\"row_heading level0 row7\" >7</th>\n",
       "      <td id=\"T_8729e_row7_col0\" class=\"data row7 col0\" >80</td>\n",
       "      <td id=\"T_8729e_row7_col1\" class=\"data row7 col1\" >58</td>\n",
       "      <td id=\"T_8729e_row7_col2\" class=\"data row7 col2\" >3.972603</td>\n",
       "      <td id=\"T_8729e_row7_col3\" class=\"data row7 col3\" >0.901370</td>\n",
       "    </tr>\n",
       "    <tr>\n",
       "      <th id=\"T_8729e_level0_row8\" class=\"row_heading level0 row8\" >8</th>\n",
       "      <td id=\"T_8729e_row8_col0\" class=\"data row8 col0\" >90</td>\n",
       "      <td id=\"T_8729e_row8_col1\" class=\"data row8 col1\" >52</td>\n",
       "      <td id=\"T_8729e_row8_col2\" class=\"data row8 col2\" >3.561644</td>\n",
       "      <td id=\"T_8729e_row8_col3\" class=\"data row8 col3\" >0.936986</td>\n",
       "    </tr>\n",
       "    <tr>\n",
       "      <th id=\"T_8729e_level0_row9\" class=\"row_heading level0 row9\" >9</th>\n",
       "      <td id=\"T_8729e_row9_col0\" class=\"data row9 col0\" >190</td>\n",
       "      <td id=\"T_8729e_row9_col1\" class=\"data row9 col1\" >30</td>\n",
       "      <td id=\"T_8729e_row9_col2\" class=\"data row9 col2\" >2.054795</td>\n",
       "      <td id=\"T_8729e_row9_col3\" class=\"data row9 col3\" >0.957534</td>\n",
       "    </tr>\n",
       "    <tr>\n",
       "      <th id=\"T_8729e_level0_row10\" class=\"row_heading level0 row10\" >10</th>\n",
       "      <td id=\"T_8729e_row10_col0\" class=\"data row10 col0\" >85</td>\n",
       "      <td id=\"T_8729e_row10_col1\" class=\"data row10 col1\" >20</td>\n",
       "      <td id=\"T_8729e_row10_col2\" class=\"data row10 col2\" >1.369863</td>\n",
       "      <td id=\"T_8729e_row10_col3\" class=\"data row10 col3\" >0.971233</td>\n",
       "    </tr>\n",
       "    <tr>\n",
       "      <th id=\"T_8729e_level0_row11\" class=\"row_heading level0 row11\" >11</th>\n",
       "      <td id=\"T_8729e_row11_col0\" class=\"data row11 col0\" >75</td>\n",
       "      <td id=\"T_8729e_row11_col1\" class=\"data row11 col1\" >16</td>\n",
       "      <td id=\"T_8729e_row11_col2\" class=\"data row11 col2\" >1.095890</td>\n",
       "      <td id=\"T_8729e_row11_col3\" class=\"data row11 col3\" >0.982192</td>\n",
       "    </tr>\n",
       "    <tr>\n",
       "      <th id=\"T_8729e_level0_row12\" class=\"row_heading level0 row12\" >12</th>\n",
       "      <td id=\"T_8729e_row12_col0\" class=\"data row12 col0\" >45</td>\n",
       "      <td id=\"T_8729e_row12_col1\" class=\"data row12 col1\" >12</td>\n",
       "      <td id=\"T_8729e_row12_col2\" class=\"data row12 col2\" >0.821918</td>\n",
       "      <td id=\"T_8729e_row12_col3\" class=\"data row12 col3\" >0.990411</td>\n",
       "    </tr>\n",
       "    <tr>\n",
       "      <th id=\"T_8729e_level0_row13\" class=\"row_heading level0 row13\" >13</th>\n",
       "      <td id=\"T_8729e_row13_col0\" class=\"data row13 col0\" >180</td>\n",
       "      <td id=\"T_8729e_row13_col1\" class=\"data row13 col1\" >10</td>\n",
       "      <td id=\"T_8729e_row13_col2\" class=\"data row13 col2\" >0.684932</td>\n",
       "      <td id=\"T_8729e_row13_col3\" class=\"data row13 col3\" >0.997260</td>\n",
       "    </tr>\n",
       "    <tr>\n",
       "      <th id=\"T_8729e_level0_row14\" class=\"row_heading level0 row14\" >14</th>\n",
       "      <td id=\"T_8729e_row14_col0\" class=\"data row14 col0\" >40</td>\n",
       "      <td id=\"T_8729e_row14_col1\" class=\"data row14 col1\" >4</td>\n",
       "      <td id=\"T_8729e_row14_col2\" class=\"data row14 col2\" >0.273973</td>\n",
       "      <td id=\"T_8729e_row14_col3\" class=\"data row14 col3\" >1.000000</td>\n",
       "    </tr>\n",
       "  </tbody>\n",
       "</table>\n"
      ],
      "text/plain": [
       "<pandas.io.formats.style.Styler at 0x157bdc0>"
      ]
     },
     "metadata": {},
     "output_type": "display_data"
    }
   ],
   "source": [
    "subclas = calculate_frecuency(train, 'MSSubClass')\n",
    "del subclas"
   ]
  },
  {
   "cell_type": "markdown",
   "metadata": {},
   "source": [
    "#### ¿En qué zona se encuentran las casas más vendidas?\n",
    "Las zonas en las cuales se encuentran las casas más vendidas son en residenciales con baja densidad. Algo interesante es que no existen casas en zonas industriales o de agricultura."
   ]
  },
  {
   "cell_type": "code",
   "execution_count": 106,
   "metadata": {},
   "outputs": [
    {
     "data": {
      "text/html": [
       "<style type=\"text/css\">\n",
       "#T_13b18_row0_col0, #T_13b18_row0_col1, #T_13b18_row0_col2, #T_13b18_row0_col3, #T_13b18_row1_col0, #T_13b18_row1_col1, #T_13b18_row1_col2, #T_13b18_row1_col3, #T_13b18_row2_col0, #T_13b18_row2_col1, #T_13b18_row2_col2, #T_13b18_row2_col3, #T_13b18_row3_col0, #T_13b18_row3_col1, #T_13b18_row3_col2, #T_13b18_row3_col3, #T_13b18_row4_col0, #T_13b18_row4_col1, #T_13b18_row4_col2, #T_13b18_row4_col3 {\n",
       "  text-align: center;\n",
       "}\n",
       "</style>\n",
       "<table id=\"T_13b18\">\n",
       "  <thead>\n",
       "    <tr>\n",
       "      <th class=\"blank level0\" >&nbsp;</th>\n",
       "      <th id=\"T_13b18_level0_col0\" class=\"col_heading level0 col0\" >MSZoning</th>\n",
       "      <th id=\"T_13b18_level0_col1\" class=\"col_heading level0 col1\" >frecuency</th>\n",
       "      <th id=\"T_13b18_level0_col2\" class=\"col_heading level0 col2\" >relative_frecuency (%)</th>\n",
       "      <th id=\"T_13b18_level0_col3\" class=\"col_heading level0 col3\" >relative_acc_frecuency</th>\n",
       "    </tr>\n",
       "  </thead>\n",
       "  <tbody>\n",
       "    <tr>\n",
       "      <th id=\"T_13b18_level0_row0\" class=\"row_heading level0 row0\" >0</th>\n",
       "      <td id=\"T_13b18_row0_col0\" class=\"data row0 col0\" >RL</td>\n",
       "      <td id=\"T_13b18_row0_col1\" class=\"data row0 col1\" >1151</td>\n",
       "      <td id=\"T_13b18_row0_col2\" class=\"data row0 col2\" >78.835616</td>\n",
       "      <td id=\"T_13b18_row0_col3\" class=\"data row0 col3\" >0.788356</td>\n",
       "    </tr>\n",
       "    <tr>\n",
       "      <th id=\"T_13b18_level0_row1\" class=\"row_heading level0 row1\" >1</th>\n",
       "      <td id=\"T_13b18_row1_col0\" class=\"data row1 col0\" >RM</td>\n",
       "      <td id=\"T_13b18_row1_col1\" class=\"data row1 col1\" >218</td>\n",
       "      <td id=\"T_13b18_row1_col2\" class=\"data row1 col2\" >14.931507</td>\n",
       "      <td id=\"T_13b18_row1_col3\" class=\"data row1 col3\" >0.937671</td>\n",
       "    </tr>\n",
       "    <tr>\n",
       "      <th id=\"T_13b18_level0_row2\" class=\"row_heading level0 row2\" >2</th>\n",
       "      <td id=\"T_13b18_row2_col0\" class=\"data row2 col0\" >FV</td>\n",
       "      <td id=\"T_13b18_row2_col1\" class=\"data row2 col1\" >65</td>\n",
       "      <td id=\"T_13b18_row2_col2\" class=\"data row2 col2\" >4.452055</td>\n",
       "      <td id=\"T_13b18_row2_col3\" class=\"data row2 col3\" >0.982192</td>\n",
       "    </tr>\n",
       "    <tr>\n",
       "      <th id=\"T_13b18_level0_row3\" class=\"row_heading level0 row3\" >3</th>\n",
       "      <td id=\"T_13b18_row3_col0\" class=\"data row3 col0\" >RH</td>\n",
       "      <td id=\"T_13b18_row3_col1\" class=\"data row3 col1\" >16</td>\n",
       "      <td id=\"T_13b18_row3_col2\" class=\"data row3 col2\" >1.095890</td>\n",
       "      <td id=\"T_13b18_row3_col3\" class=\"data row3 col3\" >0.993151</td>\n",
       "    </tr>\n",
       "    <tr>\n",
       "      <th id=\"T_13b18_level0_row4\" class=\"row_heading level0 row4\" >4</th>\n",
       "      <td id=\"T_13b18_row4_col0\" class=\"data row4 col0\" >C (all)</td>\n",
       "      <td id=\"T_13b18_row4_col1\" class=\"data row4 col1\" >10</td>\n",
       "      <td id=\"T_13b18_row4_col2\" class=\"data row4 col2\" >0.684932</td>\n",
       "      <td id=\"T_13b18_row4_col3\" class=\"data row4 col3\" >1.000000</td>\n",
       "    </tr>\n",
       "  </tbody>\n",
       "</table>\n"
      ],
      "text/plain": [
       "<pandas.io.formats.style.Styler at 0x148bfe8>"
      ]
     },
     "metadata": {},
     "output_type": "display_data"
    }
   ],
   "source": [
    "zoning = calculate_frecuency(train, 'MSZoning')\n",
    "del zoning"
   ]
  },
  {
   "cell_type": "markdown",
   "metadata": {},
   "source": [
    "#### ¿Son mayores las ventas si el tipo de vía de acceso a la propiedad es pavimentado?\n",
    "Sí son mayores las ventas con la vía de acceso pavimentada. De hecho, el 99.5% de las casas vendidas, en los datos de entrenamiento, tienen acceso pavimentado."
   ]
  },
  {
   "cell_type": "code",
   "execution_count": 107,
   "metadata": {},
   "outputs": [
    {
     "data": {
      "text/html": [
       "<style type=\"text/css\">\n",
       "#T_c14cc_row0_col0, #T_c14cc_row0_col1, #T_c14cc_row0_col2, #T_c14cc_row0_col3, #T_c14cc_row1_col0, #T_c14cc_row1_col1, #T_c14cc_row1_col2, #T_c14cc_row1_col3 {\n",
       "  text-align: center;\n",
       "}\n",
       "</style>\n",
       "<table id=\"T_c14cc\">\n",
       "  <thead>\n",
       "    <tr>\n",
       "      <th class=\"blank level0\" >&nbsp;</th>\n",
       "      <th id=\"T_c14cc_level0_col0\" class=\"col_heading level0 col0\" >Street</th>\n",
       "      <th id=\"T_c14cc_level0_col1\" class=\"col_heading level0 col1\" >frecuency</th>\n",
       "      <th id=\"T_c14cc_level0_col2\" class=\"col_heading level0 col2\" >relative_frecuency (%)</th>\n",
       "      <th id=\"T_c14cc_level0_col3\" class=\"col_heading level0 col3\" >relative_acc_frecuency</th>\n",
       "    </tr>\n",
       "  </thead>\n",
       "  <tbody>\n",
       "    <tr>\n",
       "      <th id=\"T_c14cc_level0_row0\" class=\"row_heading level0 row0\" >0</th>\n",
       "      <td id=\"T_c14cc_row0_col0\" class=\"data row0 col0\" >Pave</td>\n",
       "      <td id=\"T_c14cc_row0_col1\" class=\"data row0 col1\" >1454</td>\n",
       "      <td id=\"T_c14cc_row0_col2\" class=\"data row0 col2\" >99.589041</td>\n",
       "      <td id=\"T_c14cc_row0_col3\" class=\"data row0 col3\" >0.995890</td>\n",
       "    </tr>\n",
       "    <tr>\n",
       "      <th id=\"T_c14cc_level0_row1\" class=\"row_heading level0 row1\" >1</th>\n",
       "      <td id=\"T_c14cc_row1_col0\" class=\"data row1 col0\" >Grvl</td>\n",
       "      <td id=\"T_c14cc_row1_col1\" class=\"data row1 col1\" >6</td>\n",
       "      <td id=\"T_c14cc_row1_col2\" class=\"data row1 col2\" >0.410959</td>\n",
       "      <td id=\"T_c14cc_row1_col3\" class=\"data row1 col3\" >1.000000</td>\n",
       "    </tr>\n",
       "  </tbody>\n",
       "</table>\n"
      ],
      "text/plain": [
       "<pandas.io.formats.style.Styler at 0x1659d3d0>"
      ]
     },
     "metadata": {},
     "output_type": "display_data"
    }
   ],
   "source": [
    "street = calculate_frecuency(train, 'Street')\n",
    "del street"
   ]
  },
  {
   "cell_type": "markdown",
   "metadata": {},
   "source": [
    "#### Predominan las casas con todo tipo de utilidades públicas\n",
    "El 99.93% de casas cuentan con todo tipo de utilidades públicas, las cuales incluyen, electricidad, gas, agua y tanque séptico."
   ]
  },
  {
   "cell_type": "code",
   "execution_count": 108,
   "metadata": {},
   "outputs": [
    {
     "data": {
      "text/html": [
       "<style type=\"text/css\">\n",
       "#T_18bd3_row0_col0, #T_18bd3_row0_col1, #T_18bd3_row0_col2, #T_18bd3_row0_col3, #T_18bd3_row1_col0, #T_18bd3_row1_col1, #T_18bd3_row1_col2, #T_18bd3_row1_col3 {\n",
       "  text-align: center;\n",
       "}\n",
       "</style>\n",
       "<table id=\"T_18bd3\">\n",
       "  <thead>\n",
       "    <tr>\n",
       "      <th class=\"blank level0\" >&nbsp;</th>\n",
       "      <th id=\"T_18bd3_level0_col0\" class=\"col_heading level0 col0\" >Utilities</th>\n",
       "      <th id=\"T_18bd3_level0_col1\" class=\"col_heading level0 col1\" >frecuency</th>\n",
       "      <th id=\"T_18bd3_level0_col2\" class=\"col_heading level0 col2\" >relative_frecuency (%)</th>\n",
       "      <th id=\"T_18bd3_level0_col3\" class=\"col_heading level0 col3\" >relative_acc_frecuency</th>\n",
       "    </tr>\n",
       "  </thead>\n",
       "  <tbody>\n",
       "    <tr>\n",
       "      <th id=\"T_18bd3_level0_row0\" class=\"row_heading level0 row0\" >0</th>\n",
       "      <td id=\"T_18bd3_row0_col0\" class=\"data row0 col0\" >AllPub</td>\n",
       "      <td id=\"T_18bd3_row0_col1\" class=\"data row0 col1\" >1459</td>\n",
       "      <td id=\"T_18bd3_row0_col2\" class=\"data row0 col2\" >99.931507</td>\n",
       "      <td id=\"T_18bd3_row0_col3\" class=\"data row0 col3\" >0.999315</td>\n",
       "    </tr>\n",
       "    <tr>\n",
       "      <th id=\"T_18bd3_level0_row1\" class=\"row_heading level0 row1\" >1</th>\n",
       "      <td id=\"T_18bd3_row1_col0\" class=\"data row1 col0\" >NoSeWa</td>\n",
       "      <td id=\"T_18bd3_row1_col1\" class=\"data row1 col1\" >1</td>\n",
       "      <td id=\"T_18bd3_row1_col2\" class=\"data row1 col2\" >0.068493</td>\n",
       "      <td id=\"T_18bd3_row1_col3\" class=\"data row1 col3\" >1.000000</td>\n",
       "    </tr>\n",
       "  </tbody>\n",
       "</table>\n"
      ],
      "text/plain": [
       "<pandas.io.formats.style.Styler at 0x14ee4f0>"
      ]
     },
     "metadata": {},
     "output_type": "display_data"
    }
   ],
   "source": [
    "utilities = calculate_frecuency(train, 'Utilities')\n",
    "del utilities"
   ]
  },
  {
   "cell_type": "markdown",
   "metadata": {},
   "source": [
    "#### ¿La mayor cantidad de casas que se venden se encuentran en excelente estado?\n",
    "No, las casas que más se venden son las que se encuentran en un estado promedio, aquellas que no están ni excelente pero tampoco mal. Y estás representan un 56% de las ventas totales."
   ]
  },
  {
   "cell_type": "code",
   "execution_count": 109,
   "metadata": {},
   "outputs": [
    {
     "data": {
      "text/html": [
       "<style type=\"text/css\">\n",
       "#T_7ab10_row0_col0, #T_7ab10_row0_col1, #T_7ab10_row0_col2, #T_7ab10_row0_col3, #T_7ab10_row1_col0, #T_7ab10_row1_col1, #T_7ab10_row1_col2, #T_7ab10_row1_col3, #T_7ab10_row2_col0, #T_7ab10_row2_col1, #T_7ab10_row2_col2, #T_7ab10_row2_col3, #T_7ab10_row3_col0, #T_7ab10_row3_col1, #T_7ab10_row3_col2, #T_7ab10_row3_col3, #T_7ab10_row4_col0, #T_7ab10_row4_col1, #T_7ab10_row4_col2, #T_7ab10_row4_col3, #T_7ab10_row5_col0, #T_7ab10_row5_col1, #T_7ab10_row5_col2, #T_7ab10_row5_col3, #T_7ab10_row6_col0, #T_7ab10_row6_col1, #T_7ab10_row6_col2, #T_7ab10_row6_col3, #T_7ab10_row7_col0, #T_7ab10_row7_col1, #T_7ab10_row7_col2, #T_7ab10_row7_col3, #T_7ab10_row8_col0, #T_7ab10_row8_col1, #T_7ab10_row8_col2, #T_7ab10_row8_col3 {\n",
       "  text-align: center;\n",
       "}\n",
       "</style>\n",
       "<table id=\"T_7ab10\">\n",
       "  <thead>\n",
       "    <tr>\n",
       "      <th class=\"blank level0\" >&nbsp;</th>\n",
       "      <th id=\"T_7ab10_level0_col0\" class=\"col_heading level0 col0\" >OverallCond</th>\n",
       "      <th id=\"T_7ab10_level0_col1\" class=\"col_heading level0 col1\" >frecuency</th>\n",
       "      <th id=\"T_7ab10_level0_col2\" class=\"col_heading level0 col2\" >relative_frecuency (%)</th>\n",
       "      <th id=\"T_7ab10_level0_col3\" class=\"col_heading level0 col3\" >relative_acc_frecuency</th>\n",
       "    </tr>\n",
       "  </thead>\n",
       "  <tbody>\n",
       "    <tr>\n",
       "      <th id=\"T_7ab10_level0_row0\" class=\"row_heading level0 row0\" >0</th>\n",
       "      <td id=\"T_7ab10_row0_col0\" class=\"data row0 col0\" >5</td>\n",
       "      <td id=\"T_7ab10_row0_col1\" class=\"data row0 col1\" >821</td>\n",
       "      <td id=\"T_7ab10_row0_col2\" class=\"data row0 col2\" >56.232877</td>\n",
       "      <td id=\"T_7ab10_row0_col3\" class=\"data row0 col3\" >0.562329</td>\n",
       "    </tr>\n",
       "    <tr>\n",
       "      <th id=\"T_7ab10_level0_row1\" class=\"row_heading level0 row1\" >1</th>\n",
       "      <td id=\"T_7ab10_row1_col0\" class=\"data row1 col0\" >6</td>\n",
       "      <td id=\"T_7ab10_row1_col1\" class=\"data row1 col1\" >252</td>\n",
       "      <td id=\"T_7ab10_row1_col2\" class=\"data row1 col2\" >17.260274</td>\n",
       "      <td id=\"T_7ab10_row1_col3\" class=\"data row1 col3\" >0.734932</td>\n",
       "    </tr>\n",
       "    <tr>\n",
       "      <th id=\"T_7ab10_level0_row2\" class=\"row_heading level0 row2\" >2</th>\n",
       "      <td id=\"T_7ab10_row2_col0\" class=\"data row2 col0\" >7</td>\n",
       "      <td id=\"T_7ab10_row2_col1\" class=\"data row2 col1\" >205</td>\n",
       "      <td id=\"T_7ab10_row2_col2\" class=\"data row2 col2\" >14.041096</td>\n",
       "      <td id=\"T_7ab10_row2_col3\" class=\"data row2 col3\" >0.875342</td>\n",
       "    </tr>\n",
       "    <tr>\n",
       "      <th id=\"T_7ab10_level0_row3\" class=\"row_heading level0 row3\" >3</th>\n",
       "      <td id=\"T_7ab10_row3_col0\" class=\"data row3 col0\" >8</td>\n",
       "      <td id=\"T_7ab10_row3_col1\" class=\"data row3 col1\" >72</td>\n",
       "      <td id=\"T_7ab10_row3_col2\" class=\"data row3 col2\" >4.931507</td>\n",
       "      <td id=\"T_7ab10_row3_col3\" class=\"data row3 col3\" >0.924658</td>\n",
       "    </tr>\n",
       "    <tr>\n",
       "      <th id=\"T_7ab10_level0_row4\" class=\"row_heading level0 row4\" >4</th>\n",
       "      <td id=\"T_7ab10_row4_col0\" class=\"data row4 col0\" >4</td>\n",
       "      <td id=\"T_7ab10_row4_col1\" class=\"data row4 col1\" >57</td>\n",
       "      <td id=\"T_7ab10_row4_col2\" class=\"data row4 col2\" >3.904110</td>\n",
       "      <td id=\"T_7ab10_row4_col3\" class=\"data row4 col3\" >0.963699</td>\n",
       "    </tr>\n",
       "    <tr>\n",
       "      <th id=\"T_7ab10_level0_row5\" class=\"row_heading level0 row5\" >5</th>\n",
       "      <td id=\"T_7ab10_row5_col0\" class=\"data row5 col0\" >3</td>\n",
       "      <td id=\"T_7ab10_row5_col1\" class=\"data row5 col1\" >25</td>\n",
       "      <td id=\"T_7ab10_row5_col2\" class=\"data row5 col2\" >1.712329</td>\n",
       "      <td id=\"T_7ab10_row5_col3\" class=\"data row5 col3\" >0.980822</td>\n",
       "    </tr>\n",
       "    <tr>\n",
       "      <th id=\"T_7ab10_level0_row6\" class=\"row_heading level0 row6\" >6</th>\n",
       "      <td id=\"T_7ab10_row6_col0\" class=\"data row6 col0\" >9</td>\n",
       "      <td id=\"T_7ab10_row6_col1\" class=\"data row6 col1\" >22</td>\n",
       "      <td id=\"T_7ab10_row6_col2\" class=\"data row6 col2\" >1.506849</td>\n",
       "      <td id=\"T_7ab10_row6_col3\" class=\"data row6 col3\" >0.995890</td>\n",
       "    </tr>\n",
       "    <tr>\n",
       "      <th id=\"T_7ab10_level0_row7\" class=\"row_heading level0 row7\" >7</th>\n",
       "      <td id=\"T_7ab10_row7_col0\" class=\"data row7 col0\" >2</td>\n",
       "      <td id=\"T_7ab10_row7_col1\" class=\"data row7 col1\" >5</td>\n",
       "      <td id=\"T_7ab10_row7_col2\" class=\"data row7 col2\" >0.342466</td>\n",
       "      <td id=\"T_7ab10_row7_col3\" class=\"data row7 col3\" >0.999315</td>\n",
       "    </tr>\n",
       "    <tr>\n",
       "      <th id=\"T_7ab10_level0_row8\" class=\"row_heading level0 row8\" >8</th>\n",
       "      <td id=\"T_7ab10_row8_col0\" class=\"data row8 col0\" >1</td>\n",
       "      <td id=\"T_7ab10_row8_col1\" class=\"data row8 col1\" >1</td>\n",
       "      <td id=\"T_7ab10_row8_col2\" class=\"data row8 col2\" >0.068493</td>\n",
       "      <td id=\"T_7ab10_row8_col3\" class=\"data row8 col3\" >1.000000</td>\n",
       "    </tr>\n",
       "  </tbody>\n",
       "</table>\n"
      ],
      "text/plain": [
       "<pandas.io.formats.style.Styler at 0xb49d90>"
      ]
     },
     "metadata": {},
     "output_type": "display_data"
    },
    {
     "data": {
      "image/png": "[encoded data removed]",
      "text/plain": [
       "<Figure size 504x504 with 1 Axes>"
      ]
     },
     "metadata": {},
     "output_type": "display_data"
    }
   ],
   "source": [
    "overall = calculate_frecuency(train, 'OverallCond')\n",
    "# giving the numbers a cualitative meaning\n",
    "overall['OverallCond'] = overall['OverallCond'].replace([1, 2, 3, 4, 5, 6, 7, 8, 9, 10], ['Very Excelente', 'Excelente', 'Very Good', 'Good', 'Above Average', 'Average', 'Below Average', 'Fair', 'Poor', 'Very Poor']) \n",
    "\n",
    "fig, ax = plt.subplots(figsize=(7, 7), subplot_kw=dict(aspect=\"equal\"))\n",
    "explode = (0.01, 0.01, 0.01, 0.01, 0.01, 0.01, 0.01, 0.05, 0.05)\n",
    "wedges, texts = ax.pie(overall['relative_frecuency (%)'], wedgeprops=dict(width=0.6), startangle=-30, explode=explode)\n",
    "\n",
    "bbox_props = dict(boxstyle=\"square,pad=0.5\", fc=\"w\", ec=\"k\", lw=0.77)\n",
    "kw = dict(arrowprops=dict(arrowstyle=\"-\"),\n",
    "          bbox=bbox_props, zorder=0, va=\"center\")\n",
    "\n",
    "for i, p in enumerate(wedges):\n",
    "    ang = (p.theta2 - p.theta1)/5. + p.theta1\n",
    "    y = np.sin(np.deg2rad(ang))\n",
    "    x = np.cos(np.deg2rad(ang))\n",
    "    horizontalalignment = {-1: \"right\", 1: \"left\"}[int(np.sign(x))]\n",
    "    connectionstyle = \"angle,angleA=0,angleB={}\".format(ang)\n",
    "    kw[\"arrowprops\"].update({\"connectionstyle\": connectionstyle})\n",
    "    ax.annotate(overall['OverallCond'][i] + ' ' + str(round(overall['relative_frecuency (%)'][i], 3)) + '%', xy=(x, y), xytext=(1.5*np.sign(x), 1.5*y),\n",
    "                horizontalalignment=horizontalalignment, **kw)\n",
    "plt.show()"
   ]
  },
  {
   "cell_type": "markdown",
   "metadata": {},
   "source": [
    "#### ¿Las personas prefieren casas fundidas en concreto vertido?\n",
    "Sí, al menos un 44% de las personas prefieren las casas de cemento vertido, sin embargo, un 43% prefieren las casas de bloques de cemento."
   ]
  },
  {
   "cell_type": "code",
   "execution_count": 110,
   "metadata": {},
   "outputs": [
    {
     "data": {
      "text/html": [
       "<style type=\"text/css\">\n",
       "#T_4ce9e_row0_col0, #T_4ce9e_row0_col1, #T_4ce9e_row0_col2, #T_4ce9e_row0_col3, #T_4ce9e_row1_col0, #T_4ce9e_row1_col1, #T_4ce9e_row1_col2, #T_4ce9e_row1_col3, #T_4ce9e_row2_col0, #T_4ce9e_row2_col1, #T_4ce9e_row2_col2, #T_4ce9e_row2_col3, #T_4ce9e_row3_col0, #T_4ce9e_row3_col1, #T_4ce9e_row3_col2, #T_4ce9e_row3_col3, #T_4ce9e_row4_col0, #T_4ce9e_row4_col1, #T_4ce9e_row4_col2, #T_4ce9e_row4_col3, #T_4ce9e_row5_col0, #T_4ce9e_row5_col1, #T_4ce9e_row5_col2, #T_4ce9e_row5_col3 {\n",
       "  text-align: center;\n",
       "}\n",
       "</style>\n",
       "<table id=\"T_4ce9e\">\n",
       "  <thead>\n",
       "    <tr>\n",
       "      <th class=\"blank level0\" >&nbsp;</th>\n",
       "      <th id=\"T_4ce9e_level0_col0\" class=\"col_heading level0 col0\" >Foundation</th>\n",
       "      <th id=\"T_4ce9e_level0_col1\" class=\"col_heading level0 col1\" >frecuency</th>\n",
       "      <th id=\"T_4ce9e_level0_col2\" class=\"col_heading level0 col2\" >relative_frecuency (%)</th>\n",
       "      <th id=\"T_4ce9e_level0_col3\" class=\"col_heading level0 col3\" >relative_acc_frecuency</th>\n",
       "    </tr>\n",
       "  </thead>\n",
       "  <tbody>\n",
       "    <tr>\n",
       "      <th id=\"T_4ce9e_level0_row0\" class=\"row_heading level0 row0\" >0</th>\n",
       "      <td id=\"T_4ce9e_row0_col0\" class=\"data row0 col0\" >PConc</td>\n",
       "      <td id=\"T_4ce9e_row0_col1\" class=\"data row0 col1\" >647</td>\n",
       "      <td id=\"T_4ce9e_row0_col2\" class=\"data row0 col2\" >44.315068</td>\n",
       "      <td id=\"T_4ce9e_row0_col3\" class=\"data row0 col3\" >0.443151</td>\n",
       "    </tr>\n",
       "    <tr>\n",
       "      <th id=\"T_4ce9e_level0_row1\" class=\"row_heading level0 row1\" >1</th>\n",
       "      <td id=\"T_4ce9e_row1_col0\" class=\"data row1 col0\" >CBlock</td>\n",
       "      <td id=\"T_4ce9e_row1_col1\" class=\"data row1 col1\" >634</td>\n",
       "      <td id=\"T_4ce9e_row1_col2\" class=\"data row1 col2\" >43.424658</td>\n",
       "      <td id=\"T_4ce9e_row1_col3\" class=\"data row1 col3\" >0.877397</td>\n",
       "    </tr>\n",
       "    <tr>\n",
       "      <th id=\"T_4ce9e_level0_row2\" class=\"row_heading level0 row2\" >2</th>\n",
       "      <td id=\"T_4ce9e_row2_col0\" class=\"data row2 col0\" >BrkTil</td>\n",
       "      <td id=\"T_4ce9e_row2_col1\" class=\"data row2 col1\" >146</td>\n",
       "      <td id=\"T_4ce9e_row2_col2\" class=\"data row2 col2\" >10.000000</td>\n",
       "      <td id=\"T_4ce9e_row2_col3\" class=\"data row2 col3\" >0.977397</td>\n",
       "    </tr>\n",
       "    <tr>\n",
       "      <th id=\"T_4ce9e_level0_row3\" class=\"row_heading level0 row3\" >3</th>\n",
       "      <td id=\"T_4ce9e_row3_col0\" class=\"data row3 col0\" >Slab</td>\n",
       "      <td id=\"T_4ce9e_row3_col1\" class=\"data row3 col1\" >24</td>\n",
       "      <td id=\"T_4ce9e_row3_col2\" class=\"data row3 col2\" >1.643836</td>\n",
       "      <td id=\"T_4ce9e_row3_col3\" class=\"data row3 col3\" >0.993836</td>\n",
       "    </tr>\n",
       "    <tr>\n",
       "      <th id=\"T_4ce9e_level0_row4\" class=\"row_heading level0 row4\" >4</th>\n",
       "      <td id=\"T_4ce9e_row4_col0\" class=\"data row4 col0\" >Stone</td>\n",
       "      <td id=\"T_4ce9e_row4_col1\" class=\"data row4 col1\" >6</td>\n",
       "      <td id=\"T_4ce9e_row4_col2\" class=\"data row4 col2\" >0.410959</td>\n",
       "      <td id=\"T_4ce9e_row4_col3\" class=\"data row4 col3\" >0.997945</td>\n",
       "    </tr>\n",
       "    <tr>\n",
       "      <th id=\"T_4ce9e_level0_row5\" class=\"row_heading level0 row5\" >5</th>\n",
       "      <td id=\"T_4ce9e_row5_col0\" class=\"data row5 col0\" >Wood</td>\n",
       "      <td id=\"T_4ce9e_row5_col1\" class=\"data row5 col1\" >3</td>\n",
       "      <td id=\"T_4ce9e_row5_col2\" class=\"data row5 col2\" >0.205479</td>\n",
       "      <td id=\"T_4ce9e_row5_col3\" class=\"data row5 col3\" >1.000000</td>\n",
       "    </tr>\n",
       "  </tbody>\n",
       "</table>\n"
      ],
      "text/plain": [
       "<pandas.io.formats.style.Styler at 0x1655c5f8>"
      ]
     },
     "metadata": {},
     "output_type": "display_data"
    }
   ],
   "source": [
    "foundation = calculate_frecuency(train, 'Foundation')\n",
    "del foundation"
   ]
  },
  {
   "cell_type": "markdown",
   "metadata": {},
   "source": [
    "#### Las casas con sótanos de al menos 100 pulgadas de altura son las más vendidas\n",
    "No, las casa más vendidas son aquellas que tienen sótanos promedio, aproximadamente entre las 80-89 pulgadas."
   ]
  },
  {
   "cell_type": "code",
   "execution_count": 111,
   "metadata": {},
   "outputs": [
    {
     "data": {
      "text/html": [
       "<style type=\"text/css\">\n",
       "#T_c4927_row0_col0, #T_c4927_row0_col1, #T_c4927_row0_col2, #T_c4927_row0_col3, #T_c4927_row1_col0, #T_c4927_row1_col1, #T_c4927_row1_col2, #T_c4927_row1_col3, #T_c4927_row2_col0, #T_c4927_row2_col1, #T_c4927_row2_col2, #T_c4927_row2_col3, #T_c4927_row3_col0, #T_c4927_row3_col1, #T_c4927_row3_col2, #T_c4927_row3_col3 {\n",
       "  text-align: center;\n",
       "}\n",
       "</style>\n",
       "<table id=\"T_c4927\">\n",
       "  <thead>\n",
       "    <tr>\n",
       "      <th class=\"blank level0\" >&nbsp;</th>\n",
       "      <th id=\"T_c4927_level0_col0\" class=\"col_heading level0 col0\" >BsmtQual</th>\n",
       "      <th id=\"T_c4927_level0_col1\" class=\"col_heading level0 col1\" >frecuency</th>\n",
       "      <th id=\"T_c4927_level0_col2\" class=\"col_heading level0 col2\" >relative_frecuency (%)</th>\n",
       "      <th id=\"T_c4927_level0_col3\" class=\"col_heading level0 col3\" >relative_acc_frecuency</th>\n",
       "    </tr>\n",
       "  </thead>\n",
       "  <tbody>\n",
       "    <tr>\n",
       "      <th id=\"T_c4927_level0_row0\" class=\"row_heading level0 row0\" >0</th>\n",
       "      <td id=\"T_c4927_row0_col0\" class=\"data row0 col0\" >TA</td>\n",
       "      <td id=\"T_c4927_row0_col1\" class=\"data row0 col1\" >649</td>\n",
       "      <td id=\"T_c4927_row0_col2\" class=\"data row0 col2\" >45.607871</td>\n",
       "      <td id=\"T_c4927_row0_col3\" class=\"data row0 col3\" >0.456079</td>\n",
       "    </tr>\n",
       "    <tr>\n",
       "      <th id=\"T_c4927_level0_row1\" class=\"row_heading level0 row1\" >1</th>\n",
       "      <td id=\"T_c4927_row1_col0\" class=\"data row1 col0\" >Gd</td>\n",
       "      <td id=\"T_c4927_row1_col1\" class=\"data row1 col1\" >618</td>\n",
       "      <td id=\"T_c4927_row1_col2\" class=\"data row1 col2\" >43.429375</td>\n",
       "      <td id=\"T_c4927_row1_col3\" class=\"data row1 col3\" >0.890372</td>\n",
       "    </tr>\n",
       "    <tr>\n",
       "      <th id=\"T_c4927_level0_row2\" class=\"row_heading level0 row2\" >2</th>\n",
       "      <td id=\"T_c4927_row2_col0\" class=\"data row2 col0\" >Ex</td>\n",
       "      <td id=\"T_c4927_row2_col1\" class=\"data row2 col1\" >121</td>\n",
       "      <td id=\"T_c4927_row2_col2\" class=\"data row2 col2\" >8.503162</td>\n",
       "      <td id=\"T_c4927_row2_col3\" class=\"data row2 col3\" >0.975404</td>\n",
       "    </tr>\n",
       "    <tr>\n",
       "      <th id=\"T_c4927_level0_row3\" class=\"row_heading level0 row3\" >3</th>\n",
       "      <td id=\"T_c4927_row3_col0\" class=\"data row3 col0\" >Fa</td>\n",
       "      <td id=\"T_c4927_row3_col1\" class=\"data row3 col1\" >35</td>\n",
       "      <td id=\"T_c4927_row3_col2\" class=\"data row3 col2\" >2.459592</td>\n",
       "      <td id=\"T_c4927_row3_col3\" class=\"data row3 col3\" >1.000000</td>\n",
       "    </tr>\n",
       "  </tbody>\n",
       "</table>\n"
      ],
      "text/plain": [
       "<pandas.io.formats.style.Styler at 0x1424448>"
      ]
     },
     "metadata": {},
     "output_type": "display_data"
    }
   ],
   "source": [
    "bsmt = calculate_frecuency(train, 'BsmtQual')\n",
    "del bsmt"
   ]
  },
  {
   "cell_type": "markdown",
   "metadata": {},
   "source": [
    "#### La mayoría de viviendas cuentan con un sistema de aire acondicionado central y calefacción en buena calidad\n",
    "Al menos un 96% de las viviendas cuentan con calefacción en condiciones promedio y un 93.5% cuenta con aire acondicionado central"
   ]
  },
  {
   "cell_type": "code",
   "execution_count": 112,
   "metadata": {},
   "outputs": [
    {
     "data": {
      "text/html": [
       "<style type=\"text/css\">\n",
       "#T_ad815_row0_col0, #T_ad815_row0_col1, #T_ad815_row0_col2, #T_ad815_row0_col3, #T_ad815_row1_col0, #T_ad815_row1_col1, #T_ad815_row1_col2, #T_ad815_row1_col3, #T_ad815_row2_col0, #T_ad815_row2_col1, #T_ad815_row2_col2, #T_ad815_row2_col3, #T_ad815_row3_col0, #T_ad815_row3_col1, #T_ad815_row3_col2, #T_ad815_row3_col3, #T_ad815_row4_col0, #T_ad815_row4_col1, #T_ad815_row4_col2, #T_ad815_row4_col3 {\n",
       "  text-align: center;\n",
       "}\n",
       "</style>\n",
       "<table id=\"T_ad815\">\n",
       "  <thead>\n",
       "    <tr>\n",
       "      <th class=\"blank level0\" >&nbsp;</th>\n",
       "      <th id=\"T_ad815_level0_col0\" class=\"col_heading level0 col0\" >HeatingQC</th>\n",
       "      <th id=\"T_ad815_level0_col1\" class=\"col_heading level0 col1\" >frecuency</th>\n",
       "      <th id=\"T_ad815_level0_col2\" class=\"col_heading level0 col2\" >relative_frecuency (%)</th>\n",
       "      <th id=\"T_ad815_level0_col3\" class=\"col_heading level0 col3\" >relative_acc_frecuency</th>\n",
       "    </tr>\n",
       "  </thead>\n",
       "  <tbody>\n",
       "    <tr>\n",
       "      <th id=\"T_ad815_level0_row0\" class=\"row_heading level0 row0\" >0</th>\n",
       "      <td id=\"T_ad815_row0_col0\" class=\"data row0 col0\" >Ex</td>\n",
       "      <td id=\"T_ad815_row0_col1\" class=\"data row0 col1\" >741</td>\n",
       "      <td id=\"T_ad815_row0_col2\" class=\"data row0 col2\" >50.753425</td>\n",
       "      <td id=\"T_ad815_row0_col3\" class=\"data row0 col3\" >0.507534</td>\n",
       "    </tr>\n",
       "    <tr>\n",
       "      <th id=\"T_ad815_level0_row1\" class=\"row_heading level0 row1\" >1</th>\n",
       "      <td id=\"T_ad815_row1_col0\" class=\"data row1 col0\" >TA</td>\n",
       "      <td id=\"T_ad815_row1_col1\" class=\"data row1 col1\" >428</td>\n",
       "      <td id=\"T_ad815_row1_col2\" class=\"data row1 col2\" >29.315068</td>\n",
       "      <td id=\"T_ad815_row1_col3\" class=\"data row1 col3\" >0.800685</td>\n",
       "    </tr>\n",
       "    <tr>\n",
       "      <th id=\"T_ad815_level0_row2\" class=\"row_heading level0 row2\" >2</th>\n",
       "      <td id=\"T_ad815_row2_col0\" class=\"data row2 col0\" >Gd</td>\n",
       "      <td id=\"T_ad815_row2_col1\" class=\"data row2 col1\" >241</td>\n",
       "      <td id=\"T_ad815_row2_col2\" class=\"data row2 col2\" >16.506849</td>\n",
       "      <td id=\"T_ad815_row2_col3\" class=\"data row2 col3\" >0.965753</td>\n",
       "    </tr>\n",
       "    <tr>\n",
       "      <th id=\"T_ad815_level0_row3\" class=\"row_heading level0 row3\" >3</th>\n",
       "      <td id=\"T_ad815_row3_col0\" class=\"data row3 col0\" >Fa</td>\n",
       "      <td id=\"T_ad815_row3_col1\" class=\"data row3 col1\" >49</td>\n",
       "      <td id=\"T_ad815_row3_col2\" class=\"data row3 col2\" >3.356164</td>\n",
       "      <td id=\"T_ad815_row3_col3\" class=\"data row3 col3\" >0.999315</td>\n",
       "    </tr>\n",
       "    <tr>\n",
       "      <th id=\"T_ad815_level0_row4\" class=\"row_heading level0 row4\" >4</th>\n",
       "      <td id=\"T_ad815_row4_col0\" class=\"data row4 col0\" >Po</td>\n",
       "      <td id=\"T_ad815_row4_col1\" class=\"data row4 col1\" >1</td>\n",
       "      <td id=\"T_ad815_row4_col2\" class=\"data row4 col2\" >0.068493</td>\n",
       "      <td id=\"T_ad815_row4_col3\" class=\"data row4 col3\" >1.000000</td>\n",
       "    </tr>\n",
       "  </tbody>\n",
       "</table>\n"
      ],
      "text/plain": [
       "<pandas.io.formats.style.Styler at 0x14df040>"
      ]
     },
     "metadata": {},
     "output_type": "display_data"
    }
   ],
   "source": [
    "heating = calculate_frecuency(train, 'HeatingQC')"
   ]
  },
  {
   "cell_type": "code",
   "execution_count": 113,
   "metadata": {},
   "outputs": [
    {
     "data": {
      "text/html": [
       "<style type=\"text/css\">\n",
       "#T_bfc3b_row0_col0, #T_bfc3b_row0_col1, #T_bfc3b_row0_col2, #T_bfc3b_row0_col3, #T_bfc3b_row1_col0, #T_bfc3b_row1_col1, #T_bfc3b_row1_col2, #T_bfc3b_row1_col3 {\n",
       "  text-align: center;\n",
       "}\n",
       "</style>\n",
       "<table id=\"T_bfc3b\">\n",
       "  <thead>\n",
       "    <tr>\n",
       "      <th class=\"blank level0\" >&nbsp;</th>\n",
       "      <th id=\"T_bfc3b_level0_col0\" class=\"col_heading level0 col0\" >CentralAir</th>\n",
       "      <th id=\"T_bfc3b_level0_col1\" class=\"col_heading level0 col1\" >frecuency</th>\n",
       "      <th id=\"T_bfc3b_level0_col2\" class=\"col_heading level0 col2\" >relative_frecuency (%)</th>\n",
       "      <th id=\"T_bfc3b_level0_col3\" class=\"col_heading level0 col3\" >relative_acc_frecuency</th>\n",
       "    </tr>\n",
       "  </thead>\n",
       "  <tbody>\n",
       "    <tr>\n",
       "      <th id=\"T_bfc3b_level0_row0\" class=\"row_heading level0 row0\" >0</th>\n",
       "      <td id=\"T_bfc3b_row0_col0\" class=\"data row0 col0\" >Y</td>\n",
       "      <td id=\"T_bfc3b_row0_col1\" class=\"data row0 col1\" >1365</td>\n",
       "      <td id=\"T_bfc3b_row0_col2\" class=\"data row0 col2\" >93.493151</td>\n",
       "      <td id=\"T_bfc3b_row0_col3\" class=\"data row0 col3\" >0.934932</td>\n",
       "    </tr>\n",
       "    <tr>\n",
       "      <th id=\"T_bfc3b_level0_row1\" class=\"row_heading level0 row1\" >1</th>\n",
       "      <td id=\"T_bfc3b_row1_col0\" class=\"data row1 col0\" >N</td>\n",
       "      <td id=\"T_bfc3b_row1_col1\" class=\"data row1 col1\" >95</td>\n",
       "      <td id=\"T_bfc3b_row1_col2\" class=\"data row1 col2\" >6.506849</td>\n",
       "      <td id=\"T_bfc3b_row1_col3\" class=\"data row1 col3\" >1.000000</td>\n",
       "    </tr>\n",
       "  </tbody>\n",
       "</table>\n"
      ],
      "text/plain": [
       "<pandas.io.formats.style.Styler at 0x13d01d8>"
      ]
     },
     "metadata": {},
     "output_type": "display_data"
    }
   ],
   "source": [
    "central = calculate_frecuency(train, 'CentralAir')"
   ]
  },
  {
   "cell_type": "code",
   "execution_count": 114,
   "metadata": {},
   "outputs": [
    {
     "data": {
      "image/png": "[encoded data removed]",
      "text/plain": [
       "<Figure size 864x432 with 2 Axes>"
      ]
     },
     "metadata": {},
     "output_type": "display_data"
    }
   ],
   "source": [
    "plt.figure(figsize=(12, 6))\n",
    "# Calefacción\n",
    "plt.subplot(1, 2, 1)\n",
    "sns.barplot(x='HeatingQC',y='frecuency',data=heating);\n",
    "plt.title('Calidad de Calefacción')\n",
    "\n",
    "# Aire acondicionado\n",
    "plt.subplot(1, 2, 2)\n",
    "sns.barplot(x='CentralAir',y='frecuency',data=central);\n",
    "plt.title('Sistema Central de Aire Acondicionado')\n",
    "\n",
    "plt.suptitle(\"Calefacción y Aire Acondicionado\")\n",
    "\n",
    "plt.show()"
   ]
  },
  {
   "cell_type": "markdown",
   "metadata": {},
   "source": [
    "#### Al menos un 50% de las viviendas cuenta con garage en buenas condiciones\n",
    "Un 96% de los garages de las viviendas se encuentran en condiciones promedio, y solo apenas un 0.802 tiene garage en buenas condiciones"
   ]
  },
  {
   "cell_type": "code",
   "execution_count": 115,
   "metadata": {},
   "outputs": [
    {
     "data": {
      "text/html": [
       "<style type=\"text/css\">\n",
       "#T_7a2fc_row0_col0, #T_7a2fc_row0_col1, #T_7a2fc_row0_col2, #T_7a2fc_row0_col3, #T_7a2fc_row1_col0, #T_7a2fc_row1_col1, #T_7a2fc_row1_col2, #T_7a2fc_row1_col3, #T_7a2fc_row2_col0, #T_7a2fc_row2_col1, #T_7a2fc_row2_col2, #T_7a2fc_row2_col3, #T_7a2fc_row3_col0, #T_7a2fc_row3_col1, #T_7a2fc_row3_col2, #T_7a2fc_row3_col3, #T_7a2fc_row4_col0, #T_7a2fc_row4_col1, #T_7a2fc_row4_col2, #T_7a2fc_row4_col3 {\n",
       "  text-align: center;\n",
       "}\n",
       "</style>\n",
       "<table id=\"T_7a2fc\">\n",
       "  <thead>\n",
       "    <tr>\n",
       "      <th class=\"blank level0\" >&nbsp;</th>\n",
       "      <th id=\"T_7a2fc_level0_col0\" class=\"col_heading level0 col0\" >GarageCond</th>\n",
       "      <th id=\"T_7a2fc_level0_col1\" class=\"col_heading level0 col1\" >frecuency</th>\n",
       "      <th id=\"T_7a2fc_level0_col2\" class=\"col_heading level0 col2\" >relative_frecuency (%)</th>\n",
       "      <th id=\"T_7a2fc_level0_col3\" class=\"col_heading level0 col3\" >relative_acc_frecuency</th>\n",
       "    </tr>\n",
       "  </thead>\n",
       "  <tbody>\n",
       "    <tr>\n",
       "      <th id=\"T_7a2fc_level0_row0\" class=\"row_heading level0 row0\" >0</th>\n",
       "      <td id=\"T_7a2fc_row0_col0\" class=\"data row0 col0\" >TA</td>\n",
       "      <td id=\"T_7a2fc_row0_col1\" class=\"data row0 col1\" >1326</td>\n",
       "      <td id=\"T_7a2fc_row0_col2\" class=\"data row0 col2\" >96.156635</td>\n",
       "      <td id=\"T_7a2fc_row0_col3\" class=\"data row0 col3\" >0.961566</td>\n",
       "    </tr>\n",
       "    <tr>\n",
       "      <th id=\"T_7a2fc_level0_row1\" class=\"row_heading level0 row1\" >1</th>\n",
       "      <td id=\"T_7a2fc_row1_col0\" class=\"data row1 col0\" >Fa</td>\n",
       "      <td id=\"T_7a2fc_row1_col1\" class=\"data row1 col1\" >35</td>\n",
       "      <td id=\"T_7a2fc_row1_col2\" class=\"data row1 col2\" >2.538071</td>\n",
       "      <td id=\"T_7a2fc_row1_col3\" class=\"data row1 col3\" >0.986947</td>\n",
       "    </tr>\n",
       "    <tr>\n",
       "      <th id=\"T_7a2fc_level0_row2\" class=\"row_heading level0 row2\" >2</th>\n",
       "      <td id=\"T_7a2fc_row2_col0\" class=\"data row2 col0\" >Gd</td>\n",
       "      <td id=\"T_7a2fc_row2_col1\" class=\"data row2 col1\" >9</td>\n",
       "      <td id=\"T_7a2fc_row2_col2\" class=\"data row2 col2\" >0.652647</td>\n",
       "      <td id=\"T_7a2fc_row2_col3\" class=\"data row2 col3\" >0.993474</td>\n",
       "    </tr>\n",
       "    <tr>\n",
       "      <th id=\"T_7a2fc_level0_row3\" class=\"row_heading level0 row3\" >3</th>\n",
       "      <td id=\"T_7a2fc_row3_col0\" class=\"data row3 col0\" >Po</td>\n",
       "      <td id=\"T_7a2fc_row3_col1\" class=\"data row3 col1\" >7</td>\n",
       "      <td id=\"T_7a2fc_row3_col2\" class=\"data row3 col2\" >0.507614</td>\n",
       "      <td id=\"T_7a2fc_row3_col3\" class=\"data row3 col3\" >0.998550</td>\n",
       "    </tr>\n",
       "    <tr>\n",
       "      <th id=\"T_7a2fc_level0_row4\" class=\"row_heading level0 row4\" >4</th>\n",
       "      <td id=\"T_7a2fc_row4_col0\" class=\"data row4 col0\" >Ex</td>\n",
       "      <td id=\"T_7a2fc_row4_col1\" class=\"data row4 col1\" >2</td>\n",
       "      <td id=\"T_7a2fc_row4_col2\" class=\"data row4 col2\" >0.145033</td>\n",
       "      <td id=\"T_7a2fc_row4_col3\" class=\"data row4 col3\" >1.000000</td>\n",
       "    </tr>\n",
       "  </tbody>\n",
       "</table>\n"
      ],
      "text/plain": [
       "<pandas.io.formats.style.Styler at 0x1a81c58>"
      ]
     },
     "metadata": {},
     "output_type": "display_data"
    }
   ],
   "source": [
    "garage_cond = calculate_frecuency(train, 'GarageCond')"
   ]
  },
  {
   "cell_type": "code",
   "execution_count": 116,
   "metadata": {},
   "outputs": [
    {
     "data": {
      "image/png": "[encoded data removed]",
      "text/plain": [
       "<Figure size 432x288 with 1 Axes>"
      ]
     },
     "metadata": {},
     "output_type": "display_data"
    }
   ],
   "source": [
    "sns.barplot(x='GarageCond', y='frecuency', data=garage_cond)\n",
    "del garage_cond"
   ]
  },
  {
   "cell_type": "markdown",
   "metadata": {},
   "source": [
    "#### ¿Cuáles son los precios más altos por los cuales se ha vendido una casa?\n",
    "De acuerdo con los resultados obtenidos se sabe que el rango de precios en el que están las casas con los precios más altos es de 755000 hasta 485000."
   ]
  },
  {
   "cell_type": "code",
   "execution_count": 117,
   "metadata": {},
   "outputs": [
    {
     "data": {
      "text/html": [
       "<style type=\"text/css\">\n",
       "#T_6c4f5_row0_col0, #T_6c4f5_row0_col1, #T_6c4f5_row0_col2, #T_6c4f5_row0_col3, #T_6c4f5_row1_col0, #T_6c4f5_row1_col1, #T_6c4f5_row1_col2, #T_6c4f5_row1_col3, #T_6c4f5_row2_col0, #T_6c4f5_row2_col1, #T_6c4f5_row2_col2, #T_6c4f5_row2_col3, #T_6c4f5_row3_col0, #T_6c4f5_row3_col1, #T_6c4f5_row3_col2, #T_6c4f5_row3_col3, #T_6c4f5_row4_col0, #T_6c4f5_row4_col1, #T_6c4f5_row4_col2, #T_6c4f5_row4_col3, #T_6c4f5_row5_col0, #T_6c4f5_row5_col1, #T_6c4f5_row5_col2, #T_6c4f5_row5_col3, #T_6c4f5_row6_col0, #T_6c4f5_row6_col1, #T_6c4f5_row6_col2, #T_6c4f5_row6_col3, #T_6c4f5_row7_col0, #T_6c4f5_row7_col1, #T_6c4f5_row7_col2, #T_6c4f5_row7_col3, #T_6c4f5_row8_col0, #T_6c4f5_row8_col1, #T_6c4f5_row8_col2, #T_6c4f5_row8_col3, #T_6c4f5_row9_col0, #T_6c4f5_row9_col1, #T_6c4f5_row9_col2, #T_6c4f5_row9_col3, #T_6c4f5_row10_col0, #T_6c4f5_row10_col1, #T_6c4f5_row10_col2, #T_6c4f5_row10_col3, #T_6c4f5_row11_col0, #T_6c4f5_row11_col1, #T_6c4f5_row11_col2, #T_6c4f5_row11_col3, #T_6c4f5_row12_col0, #T_6c4f5_row12_col1, #T_6c4f5_row12_col2, #T_6c4f5_row12_col3, #T_6c4f5_row13_col0, #T_6c4f5_row13_col1, #T_6c4f5_row13_col2, #T_6c4f5_row13_col3, #T_6c4f5_row14_col0, #T_6c4f5_row14_col1, #T_6c4f5_row14_col2, #T_6c4f5_row14_col3, #T_6c4f5_row15_col0, #T_6c4f5_row15_col1, #T_6c4f5_row15_col2, #T_6c4f5_row15_col3, #T_6c4f5_row16_col0, #T_6c4f5_row16_col1, #T_6c4f5_row16_col2, #T_6c4f5_row16_col3, #T_6c4f5_row17_col0, #T_6c4f5_row17_col1, #T_6c4f5_row17_col2, #T_6c4f5_row17_col3, #T_6c4f5_row18_col0, #T_6c4f5_row18_col1, #T_6c4f5_row18_col2, #T_6c4f5_row18_col3, #T_6c4f5_row19_col0, #T_6c4f5_row19_col1, #T_6c4f5_row19_col2, #T_6c4f5_row19_col3 {\n",
       "  text-align: center;\n",
       "}\n",
       "</style>\n",
       "<table id=\"T_6c4f5\">\n",
       "  <thead>\n",
       "    <tr>\n",
       "      <th class=\"blank level0\" >&nbsp;</th>\n",
       "      <th id=\"T_6c4f5_level0_col0\" class=\"col_heading level0 col0\" >SalePrice</th>\n",
       "      <th id=\"T_6c4f5_level0_col1\" class=\"col_heading level0 col1\" >frecuency</th>\n",
       "      <th id=\"T_6c4f5_level0_col2\" class=\"col_heading level0 col2\" >relative_frecuency (%)</th>\n",
       "      <th id=\"T_6c4f5_level0_col3\" class=\"col_heading level0 col3\" >relative_acc_frecuency</th>\n",
       "    </tr>\n",
       "  </thead>\n",
       "  <tbody>\n",
       "    <tr>\n",
       "      <th id=\"T_6c4f5_level0_row0\" class=\"row_heading level0 row0\" >0</th>\n",
       "      <td id=\"T_6c4f5_row0_col0\" class=\"data row0 col0\" >140000</td>\n",
       "      <td id=\"T_6c4f5_row0_col1\" class=\"data row0 col1\" >20</td>\n",
       "      <td id=\"T_6c4f5_row0_col2\" class=\"data row0 col2\" >1.369863</td>\n",
       "      <td id=\"T_6c4f5_row0_col3\" class=\"data row0 col3\" >0.013699</td>\n",
       "    </tr>\n",
       "    <tr>\n",
       "      <th id=\"T_6c4f5_level0_row1\" class=\"row_heading level0 row1\" >1</th>\n",
       "      <td id=\"T_6c4f5_row1_col0\" class=\"data row1 col0\" >135000</td>\n",
       "      <td id=\"T_6c4f5_row1_col1\" class=\"data row1 col1\" >17</td>\n",
       "      <td id=\"T_6c4f5_row1_col2\" class=\"data row1 col2\" >1.164384</td>\n",
       "      <td id=\"T_6c4f5_row1_col3\" class=\"data row1 col3\" >0.025342</td>\n",
       "    </tr>\n",
       "    <tr>\n",
       "      <th id=\"T_6c4f5_level0_row2\" class=\"row_heading level0 row2\" >2</th>\n",
       "      <td id=\"T_6c4f5_row2_col0\" class=\"data row2 col0\" >155000</td>\n",
       "      <td id=\"T_6c4f5_row2_col1\" class=\"data row2 col1\" >14</td>\n",
       "      <td id=\"T_6c4f5_row2_col2\" class=\"data row2 col2\" >0.958904</td>\n",
       "      <td id=\"T_6c4f5_row2_col3\" class=\"data row2 col3\" >0.034932</td>\n",
       "    </tr>\n",
       "    <tr>\n",
       "      <th id=\"T_6c4f5_level0_row3\" class=\"row_heading level0 row3\" >3</th>\n",
       "      <td id=\"T_6c4f5_row3_col0\" class=\"data row3 col0\" >145000</td>\n",
       "      <td id=\"T_6c4f5_row3_col1\" class=\"data row3 col1\" >14</td>\n",
       "      <td id=\"T_6c4f5_row3_col2\" class=\"data row3 col2\" >0.958904</td>\n",
       "      <td id=\"T_6c4f5_row3_col3\" class=\"data row3 col3\" >0.044521</td>\n",
       "    </tr>\n",
       "    <tr>\n",
       "      <th id=\"T_6c4f5_level0_row4\" class=\"row_heading level0 row4\" >4</th>\n",
       "      <td id=\"T_6c4f5_row4_col0\" class=\"data row4 col0\" >190000</td>\n",
       "      <td id=\"T_6c4f5_row4_col1\" class=\"data row4 col1\" >13</td>\n",
       "      <td id=\"T_6c4f5_row4_col2\" class=\"data row4 col2\" >0.890411</td>\n",
       "      <td id=\"T_6c4f5_row4_col3\" class=\"data row4 col3\" >0.053425</td>\n",
       "    </tr>\n",
       "    <tr>\n",
       "      <th id=\"T_6c4f5_level0_row5\" class=\"row_heading level0 row5\" >5</th>\n",
       "      <td id=\"T_6c4f5_row5_col0\" class=\"data row5 col0\" >110000</td>\n",
       "      <td id=\"T_6c4f5_row5_col1\" class=\"data row5 col1\" >13</td>\n",
       "      <td id=\"T_6c4f5_row5_col2\" class=\"data row5 col2\" >0.890411</td>\n",
       "      <td id=\"T_6c4f5_row5_col3\" class=\"data row5 col3\" >0.062329</td>\n",
       "    </tr>\n",
       "    <tr>\n",
       "      <th id=\"T_6c4f5_level0_row6\" class=\"row_heading level0 row6\" >6</th>\n",
       "      <td id=\"T_6c4f5_row6_col0\" class=\"data row6 col0\" >115000</td>\n",
       "      <td id=\"T_6c4f5_row6_col1\" class=\"data row6 col1\" >12</td>\n",
       "      <td id=\"T_6c4f5_row6_col2\" class=\"data row6 col2\" >0.821918</td>\n",
       "      <td id=\"T_6c4f5_row6_col3\" class=\"data row6 col3\" >0.070548</td>\n",
       "    </tr>\n",
       "    <tr>\n",
       "      <th id=\"T_6c4f5_level0_row7\" class=\"row_heading level0 row7\" >7</th>\n",
       "      <td id=\"T_6c4f5_row7_col0\" class=\"data row7 col0\" >160000</td>\n",
       "      <td id=\"T_6c4f5_row7_col1\" class=\"data row7 col1\" >12</td>\n",
       "      <td id=\"T_6c4f5_row7_col2\" class=\"data row7 col2\" >0.821918</td>\n",
       "      <td id=\"T_6c4f5_row7_col3\" class=\"data row7 col3\" >0.078767</td>\n",
       "    </tr>\n",
       "    <tr>\n",
       "      <th id=\"T_6c4f5_level0_row8\" class=\"row_heading level0 row8\" >8</th>\n",
       "      <td id=\"T_6c4f5_row8_col0\" class=\"data row8 col0\" >130000</td>\n",
       "      <td id=\"T_6c4f5_row8_col1\" class=\"data row8 col1\" >11</td>\n",
       "      <td id=\"T_6c4f5_row8_col2\" class=\"data row8 col2\" >0.753425</td>\n",
       "      <td id=\"T_6c4f5_row8_col3\" class=\"data row8 col3\" >0.086301</td>\n",
       "    </tr>\n",
       "    <tr>\n",
       "      <th id=\"T_6c4f5_level0_row9\" class=\"row_heading level0 row9\" >9</th>\n",
       "      <td id=\"T_6c4f5_row9_col0\" class=\"data row9 col0\" >139000</td>\n",
       "      <td id=\"T_6c4f5_row9_col1\" class=\"data row9 col1\" >11</td>\n",
       "      <td id=\"T_6c4f5_row9_col2\" class=\"data row9 col2\" >0.753425</td>\n",
       "      <td id=\"T_6c4f5_row9_col3\" class=\"data row9 col3\" >0.093836</td>\n",
       "    </tr>\n",
       "    <tr>\n",
       "      <th id=\"T_6c4f5_level0_row10\" class=\"row_heading level0 row10\" >10</th>\n",
       "      <td id=\"T_6c4f5_row10_col0\" class=\"data row10 col0\" >144000</td>\n",
       "      <td id=\"T_6c4f5_row10_col1\" class=\"data row10 col1\" >10</td>\n",
       "      <td id=\"T_6c4f5_row10_col2\" class=\"data row10 col2\" >0.684932</td>\n",
       "      <td id=\"T_6c4f5_row10_col3\" class=\"data row10 col3\" >0.100685</td>\n",
       "    </tr>\n",
       "    <tr>\n",
       "      <th id=\"T_6c4f5_level0_row11\" class=\"row_heading level0 row11\" >11</th>\n",
       "      <td id=\"T_6c4f5_row11_col0\" class=\"data row11 col0\" >185000</td>\n",
       "      <td id=\"T_6c4f5_row11_col1\" class=\"data row11 col1\" >10</td>\n",
       "      <td id=\"T_6c4f5_row11_col2\" class=\"data row11 col2\" >0.684932</td>\n",
       "      <td id=\"T_6c4f5_row11_col3\" class=\"data row11 col3\" >0.107534</td>\n",
       "    </tr>\n",
       "    <tr>\n",
       "      <th id=\"T_6c4f5_level0_row12\" class=\"row_heading level0 row12\" >12</th>\n",
       "      <td id=\"T_6c4f5_row12_col0\" class=\"data row12 col0\" >180000</td>\n",
       "      <td id=\"T_6c4f5_row12_col1\" class=\"data row12 col1\" >10</td>\n",
       "      <td id=\"T_6c4f5_row12_col2\" class=\"data row12 col2\" >0.684932</td>\n",
       "      <td id=\"T_6c4f5_row12_col3\" class=\"data row12 col3\" >0.114384</td>\n",
       "    </tr>\n",
       "    <tr>\n",
       "      <th id=\"T_6c4f5_level0_row13\" class=\"row_heading level0 row13\" >13</th>\n",
       "      <td id=\"T_6c4f5_row13_col0\" class=\"data row13 col0\" >143000</td>\n",
       "      <td id=\"T_6c4f5_row13_col1\" class=\"data row13 col1\" >10</td>\n",
       "      <td id=\"T_6c4f5_row13_col2\" class=\"data row13 col2\" >0.684932</td>\n",
       "      <td id=\"T_6c4f5_row13_col3\" class=\"data row13 col3\" >0.121233</td>\n",
       "    </tr>\n",
       "    <tr>\n",
       "      <th id=\"T_6c4f5_level0_row14\" class=\"row_heading level0 row14\" >14</th>\n",
       "      <td id=\"T_6c4f5_row14_col0\" class=\"data row14 col0\" >125000</td>\n",
       "      <td id=\"T_6c4f5_row14_col1\" class=\"data row14 col1\" >10</td>\n",
       "      <td id=\"T_6c4f5_row14_col2\" class=\"data row14 col2\" >0.684932</td>\n",
       "      <td id=\"T_6c4f5_row14_col3\" class=\"data row14 col3\" >0.128082</td>\n",
       "    </tr>\n",
       "    <tr>\n",
       "      <th id=\"T_6c4f5_level0_row15\" class=\"row_heading level0 row15\" >15</th>\n",
       "      <td id=\"T_6c4f5_row15_col0\" class=\"data row15 col0\" >147000</td>\n",
       "      <td id=\"T_6c4f5_row15_col1\" class=\"data row15 col1\" >9</td>\n",
       "      <td id=\"T_6c4f5_row15_col2\" class=\"data row15 col2\" >0.616438</td>\n",
       "      <td id=\"T_6c4f5_row15_col3\" class=\"data row15 col3\" >0.134247</td>\n",
       "    </tr>\n",
       "    <tr>\n",
       "      <th id=\"T_6c4f5_level0_row16\" class=\"row_heading level0 row16\" >16</th>\n",
       "      <td id=\"T_6c4f5_row16_col0\" class=\"data row16 col0\" >100000</td>\n",
       "      <td id=\"T_6c4f5_row16_col1\" class=\"data row16 col1\" >9</td>\n",
       "      <td id=\"T_6c4f5_row16_col2\" class=\"data row16 col2\" >0.616438</td>\n",
       "      <td id=\"T_6c4f5_row16_col3\" class=\"data row16 col3\" >0.140411</td>\n",
       "    </tr>\n",
       "    <tr>\n",
       "      <th id=\"T_6c4f5_level0_row17\" class=\"row_heading level0 row17\" >17</th>\n",
       "      <td id=\"T_6c4f5_row17_col0\" class=\"data row17 col0\" >175000</td>\n",
       "      <td id=\"T_6c4f5_row17_col1\" class=\"data row17 col1\" >9</td>\n",
       "      <td id=\"T_6c4f5_row17_col2\" class=\"data row17 col2\" >0.616438</td>\n",
       "      <td id=\"T_6c4f5_row17_col3\" class=\"data row17 col3\" >0.146575</td>\n",
       "    </tr>\n",
       "    <tr>\n",
       "      <th id=\"T_6c4f5_level0_row18\" class=\"row_heading level0 row18\" >18</th>\n",
       "      <td id=\"T_6c4f5_row18_col0\" class=\"data row18 col0\" >127000</td>\n",
       "      <td id=\"T_6c4f5_row18_col1\" class=\"data row18 col1\" >9</td>\n",
       "      <td id=\"T_6c4f5_row18_col2\" class=\"data row18 col2\" >0.616438</td>\n",
       "      <td id=\"T_6c4f5_row18_col3\" class=\"data row18 col3\" >0.152740</td>\n",
       "    </tr>\n",
       "    <tr>\n",
       "      <th id=\"T_6c4f5_level0_row19\" class=\"row_heading level0 row19\" >19</th>\n",
       "      <td id=\"T_6c4f5_row19_col0\" class=\"data row19 col0\" >215000</td>\n",
       "      <td id=\"T_6c4f5_row19_col1\" class=\"data row19 col1\" >8</td>\n",
       "      <td id=\"T_6c4f5_row19_col2\" class=\"data row19 col2\" >0.547945</td>\n",
       "      <td id=\"T_6c4f5_row19_col3\" class=\"data row19 col3\" >0.158219</td>\n",
       "    </tr>\n",
       "  </tbody>\n",
       "</table>\n"
      ],
      "text/plain": [
       "<pandas.io.formats.style.Styler at 0x14df508>"
      ]
     },
     "metadata": {},
     "output_type": "display_data"
    }
   ],
   "source": [
    "sale_prices  = calculate_frecuency(train, 'SalePrice', head=True)\n",
    "del sale_prices"
   ]
  },
  {
   "cell_type": "markdown",
   "metadata": {},
   "source": [
    "## Preprocesamiento\n",
    "Como bien se sabe *Support vector machines* trabaja únicamente con datos numéricos, por lo tal, el primer paso a realizar durante la etapa de preprocesamiento es la creación de un nuevo data set que contenga únicamente las variables cuantitativas. Seguido a esto, se procede a limpiar los datos, es decir, a eliminar observaciones que tengan valores infinitos o valores faltantes, esto para que estas observaciones no afecten al momento de entrena el modelo."
   ]
  },
  {
   "cell_type": "code",
   "execution_count": 118,
   "metadata": {},
   "outputs": [],
   "source": [
    "select_train = train[cuantitative]"
   ]
  },
  {
   "cell_type": "markdown",
   "metadata": {},
   "source": [
    "### Tratamiento de valores NA"
   ]
  },
  {
   "cell_type": "code",
   "execution_count": 119,
   "metadata": {},
   "outputs": [],
   "source": [
    "# Asegurando que no existan valores nan o inf\n",
    "select_train = select_train[~select_train.isin([np.nan, np.inf, -np.inf]).any(1)]"
   ]
  },
  {
   "cell_type": "markdown",
   "metadata": {},
   "source": [
    "## Escalamiento de las variables\n",
    "Si bien en SVM no es necesario que los datos se encuentren normalizados, algo que sí se debe de realizar es el escalamiento o estandarización de variables, esto para poder evitar que ciertas variables, con rangos numéricos muy grandes \"dominen\" o sean más influyentes en el modelo que aquellas variables con rangos numéricos pequeños. \n",
    "\n",
    "Sin embargo, el escalamiento se realizará luego de tener el conjunto de datos separados en entrenamiento y prueba, ya que al realizarlo antes se puede sesgar el modelo porque la información se puede filtrar o \"mezclar\" del conjunto de prueba al de entrenamiento. \n",
    "\n",
    "Algo interesante de SVM es que no es sensible a los outliers por lo tal no es necesario hacer un tratamiento de los mismos, ya que el SVC trabaja con un *soft margin* que permite cierto grado de *misclassification* para que los valores anormales no afecten al modelo. Si bien, en este caso se tiene un alto *bias* esto se compensa ya que la varianza del modelo es baja, permitiendo así tener predicciones constantes y evitar el *overfitting*"
   ]
  },
  {
   "cell_type": "markdown",
   "metadata": {},
   "source": [
    "# Datos de entrenamiento y prueba\n",
    "Use como variable respuesta la variable categórica que especifica si la casa es barata, media \n",
    "o cara"
   ]
  },
  {
   "cell_type": "markdown",
   "metadata": {},
   "source": [
    "### Agregando la variable objetivo al conjunto de datos\n",
    "Debido a que la variable objetivo es categórica y SVM requiere que que los datos sean representados como un vector de números es necesario codificar las categorías mediante números. Para codificar las categorías se usaran los siguientes valores:\n",
    "- Baratas: 1\n",
    "- Intermedias: 10\n",
    "- Caras: 100"
   ]
  },
  {
   "cell_type": "code",
   "execution_count": 120,
   "metadata": {},
   "outputs": [],
   "source": [
    "# Agregando la nueva variable al data frame\n",
    "conditions = [\n",
    "    (select_train['SalePrice'] <= 171500),\n",
    "    (select_train['SalePrice'] > 171500) & (select_train['SalePrice'] <= 295500),\n",
    "    (select_train['SalePrice'] > 295500) \n",
    "    ]\n",
    "\n",
    "values = [1, 10, 100]\n",
    "\n",
    "select_train['HouseCategory'] = np.select(conditions, values)\n",
    "del values, conditions"
   ]
  },
  {
   "cell_type": "markdown",
   "metadata": {},
   "source": [
    "## Selección de variables\n",
    "Para seleccionar las variables a utilizar dentro del modelo, se inició tomando en consideración únicamente las variables numéricas. Seguido a esto, se realizó una correlación entre todas las variables cuantitativas para poder analizar cuáles son las que influyen significativamente en el precio de venta y con base a esto se seleccionó el conjunto de *features* a utilizar."
   ]
  },
  {
   "cell_type": "code",
   "execution_count": 121,
   "metadata": {},
   "outputs": [
    {
     "data": {
      "text/html": [
       "<style type=\"text/css\">\n",
       "#T_cf877_row0_col0, #T_cf877_row0_col1, #T_cf877_row0_col2, #T_cf877_row1_col0, #T_cf877_row1_col1, #T_cf877_row1_col2, #T_cf877_row2_col0, #T_cf877_row2_col1, #T_cf877_row2_col2, #T_cf877_row3_col0, #T_cf877_row3_col1, #T_cf877_row3_col2, #T_cf877_row4_col0, #T_cf877_row4_col1, #T_cf877_row4_col2, #T_cf877_row5_col0, #T_cf877_row5_col1, #T_cf877_row5_col2, #T_cf877_row6_col0, #T_cf877_row6_col1, #T_cf877_row6_col2, #T_cf877_row7_col0, #T_cf877_row7_col1, #T_cf877_row7_col2, #T_cf877_row8_col0, #T_cf877_row8_col1, #T_cf877_row8_col2, #T_cf877_row9_col0, #T_cf877_row9_col1, #T_cf877_row9_col2, #T_cf877_row10_col0, #T_cf877_row10_col1, #T_cf877_row10_col2, #T_cf877_row11_col0, #T_cf877_row11_col1, #T_cf877_row11_col2, #T_cf877_row12_col0, #T_cf877_row12_col1, #T_cf877_row12_col2, #T_cf877_row13_col0, #T_cf877_row13_col1, #T_cf877_row13_col2, #T_cf877_row14_col0, #T_cf877_row14_col1, #T_cf877_row14_col2, #T_cf877_row15_col0, #T_cf877_row15_col1, #T_cf877_row15_col2, #T_cf877_row16_col0, #T_cf877_row16_col1, #T_cf877_row16_col2, #T_cf877_row17_col0, #T_cf877_row17_col1, #T_cf877_row17_col2, #T_cf877_row18_col0, #T_cf877_row18_col1, #T_cf877_row18_col2, #T_cf877_row19_col0, #T_cf877_row19_col1, #T_cf877_row19_col2, #T_cf877_row20_col0, #T_cf877_row20_col1, #T_cf877_row20_col2 {\n",
       "  text-align: center;\n",
       "}\n",
       "</style>\n",
       "<table id=\"T_cf877\">\n",
       "  <thead>\n",
       "    <tr>\n",
       "      <th class=\"blank level0\" >&nbsp;</th>\n",
       "      <th id=\"T_cf877_level0_col0\" class=\"col_heading level0 col0\" >Variable1</th>\n",
       "      <th id=\"T_cf877_level0_col1\" class=\"col_heading level0 col1\" >Variable2</th>\n",
       "      <th id=\"T_cf877_level0_col2\" class=\"col_heading level0 col2\" >Correlación</th>\n",
       "    </tr>\n",
       "  </thead>\n",
       "  <tbody>\n",
       "    <tr>\n",
       "      <th id=\"T_cf877_level0_row0\" class=\"row_heading level0 row0\" >0</th>\n",
       "      <td id=\"T_cf877_row0_col0\" class=\"data row0 col0\" >LotFrontage</td>\n",
       "      <td id=\"T_cf877_row0_col1\" class=\"data row0 col1\" >LotArea</td>\n",
       "      <td id=\"T_cf877_row0_col2\" class=\"data row0 col2\" >0.649633</td>\n",
       "    </tr>\n",
       "    <tr>\n",
       "      <th id=\"T_cf877_level0_row1\" class=\"row_heading level0 row1\" >1</th>\n",
       "      <td id=\"T_cf877_row1_col0\" class=\"data row1 col0\" >GarageArea</td>\n",
       "      <td id=\"T_cf877_row1_col1\" class=\"data row1 col1\" >GarageCars</td>\n",
       "      <td id=\"T_cf877_row1_col2\" class=\"data row1 col2\" >0.853317</td>\n",
       "    </tr>\n",
       "    <tr>\n",
       "      <th id=\"T_cf877_level0_row2\" class=\"row_heading level0 row2\" >2</th>\n",
       "      <td id=\"T_cf877_row2_col0\" class=\"data row2 col0\" >GarageArea</td>\n",
       "      <td id=\"T_cf877_row2_col1\" class=\"data row2 col1\" >SalePrice</td>\n",
       "      <td id=\"T_cf877_row2_col2\" class=\"data row2 col2\" >0.649379</td>\n",
       "    </tr>\n",
       "    <tr>\n",
       "      <th id=\"T_cf877_level0_row3\" class=\"row_heading level0 row3\" >3</th>\n",
       "      <td id=\"T_cf877_row3_col0\" class=\"data row3 col0\" >GrLivArea</td>\n",
       "      <td id=\"T_cf877_row3_col1\" class=\"data row3 col1\" >2ndFlrSF</td>\n",
       "      <td id=\"T_cf877_row3_col2\" class=\"data row3 col2\" >0.642857</td>\n",
       "    </tr>\n",
       "    <tr>\n",
       "      <th id=\"T_cf877_level0_row4\" class=\"row_heading level0 row4\" >4</th>\n",
       "      <td id=\"T_cf877_row4_col0\" class=\"data row4 col0\" >GrLivArea</td>\n",
       "      <td id=\"T_cf877_row4_col1\" class=\"data row4 col1\" >FullBath</td>\n",
       "      <td id=\"T_cf877_row4_col2\" class=\"data row4 col2\" >0.658419</td>\n",
       "    </tr>\n",
       "    <tr>\n",
       "      <th id=\"T_cf877_level0_row5\" class=\"row_heading level0 row5\" >5</th>\n",
       "      <td id=\"T_cf877_row5_col0\" class=\"data row5 col0\" >GrLivArea</td>\n",
       "      <td id=\"T_cf877_row5_col1\" class=\"data row5 col1\" >TotRmsAbvGrd</td>\n",
       "      <td id=\"T_cf877_row5_col2\" class=\"data row5 col2\" >0.827874</td>\n",
       "    </tr>\n",
       "    <tr>\n",
       "      <th id=\"T_cf877_level0_row6\" class=\"row_heading level0 row6\" >6</th>\n",
       "      <td id=\"T_cf877_row6_col0\" class=\"data row6 col0\" >GrLivArea</td>\n",
       "      <td id=\"T_cf877_row6_col1\" class=\"data row6 col1\" >GarageCars</td>\n",
       "      <td id=\"T_cf877_row6_col2\" class=\"data row6 col2\" >0.505094</td>\n",
       "    </tr>\n",
       "    <tr>\n",
       "      <th id=\"T_cf877_level0_row7\" class=\"row_heading level0 row7\" >7</th>\n",
       "      <td id=\"T_cf877_row7_col0\" class=\"data row7 col0\" >GrLivArea</td>\n",
       "      <td id=\"T_cf877_row7_col1\" class=\"data row7 col1\" >SalePrice</td>\n",
       "      <td id=\"T_cf877_row7_col2\" class=\"data row7 col2\" >0.731310</td>\n",
       "    </tr>\n",
       "    <tr>\n",
       "      <th id=\"T_cf877_level0_row8\" class=\"row_heading level0 row8\" >8</th>\n",
       "      <td id=\"T_cf877_row8_col0\" class=\"data row8 col0\" >2ndFlrSF</td>\n",
       "      <td id=\"T_cf877_row8_col1\" class=\"data row8 col1\" >HalfBath</td>\n",
       "      <td id=\"T_cf877_row8_col2\" class=\"data row8 col2\" >0.625272</td>\n",
       "    </tr>\n",
       "    <tr>\n",
       "      <th id=\"T_cf877_level0_row9\" class=\"row_heading level0 row9\" >9</th>\n",
       "      <td id=\"T_cf877_row9_col0\" class=\"data row9 col0\" >2ndFlrSF</td>\n",
       "      <td id=\"T_cf877_row9_col1\" class=\"data row9 col1\" >TotRmsAbvGrd</td>\n",
       "      <td id=\"T_cf877_row9_col2\" class=\"data row9 col2\" >0.587189</td>\n",
       "    </tr>\n",
       "    <tr>\n",
       "      <th id=\"T_cf877_level0_row10\" class=\"row_heading level0 row10\" >10</th>\n",
       "      <td id=\"T_cf877_row10_col0\" class=\"data row10 col0\" >1stFlrSF</td>\n",
       "      <td id=\"T_cf877_row10_col1\" class=\"data row10 col1\" >TotalBsmtSF</td>\n",
       "      <td id=\"T_cf877_row10_col2\" class=\"data row10 col2\" >0.829292</td>\n",
       "    </tr>\n",
       "    <tr>\n",
       "      <th id=\"T_cf877_level0_row11\" class=\"row_heading level0 row11\" >11</th>\n",
       "      <td id=\"T_cf877_row11_col0\" class=\"data row11 col0\" >1stFlrSF</td>\n",
       "      <td id=\"T_cf877_row11_col1\" class=\"data row11 col1\" >SalePrice</td>\n",
       "      <td id=\"T_cf877_row11_col2\" class=\"data row11 col2\" >0.575408</td>\n",
       "    </tr>\n",
       "    <tr>\n",
       "      <th id=\"T_cf877_level0_row12\" class=\"row_heading level0 row12\" >12</th>\n",
       "      <td id=\"T_cf877_row12_col0\" class=\"data row12 col0\" >TotalBsmtSF</td>\n",
       "      <td id=\"T_cf877_row12_col1\" class=\"data row12 col1\" >SalePrice</td>\n",
       "      <td id=\"T_cf877_row12_col2\" class=\"data row12 col2\" >0.602725</td>\n",
       "    </tr>\n",
       "    <tr>\n",
       "      <th id=\"T_cf877_level0_row13\" class=\"row_heading level0 row13\" >13</th>\n",
       "      <td id=\"T_cf877_row13_col0\" class=\"data row13 col0\" >BsmtUnfSF</td>\n",
       "      <td id=\"T_cf877_row13_col1\" class=\"data row13 col1\" >BsmtFinSF1</td>\n",
       "      <td id=\"T_cf877_row13_col2\" class=\"data row13 col2\" >-0.573638</td>\n",
       "    </tr>\n",
       "    <tr>\n",
       "      <th id=\"T_cf877_level0_row14\" class=\"row_heading level0 row14\" >14</th>\n",
       "      <td id=\"T_cf877_row14_col0\" class=\"data row14 col0\" >BsmtFinSF1</td>\n",
       "      <td id=\"T_cf877_row14_col1\" class=\"data row14 col1\" >BsmtFullBath</td>\n",
       "      <td id=\"T_cf877_row14_col2\" class=\"data row14 col2\" >0.674175</td>\n",
       "    </tr>\n",
       "    <tr>\n",
       "      <th id=\"T_cf877_level0_row15\" class=\"row_heading level0 row15\" >15</th>\n",
       "      <td id=\"T_cf877_row15_col0\" class=\"data row15 col0\" >FullBath</td>\n",
       "      <td id=\"T_cf877_row15_col1\" class=\"data row15 col1\" >TotRmsAbvGrd</td>\n",
       "      <td id=\"T_cf877_row15_col2\" class=\"data row15 col2\" >0.558665</td>\n",
       "    </tr>\n",
       "    <tr>\n",
       "      <th id=\"T_cf877_level0_row16\" class=\"row_heading level0 row16\" >16</th>\n",
       "      <td id=\"T_cf877_row16_col0\" class=\"data row16 col0\" >FullBath</td>\n",
       "      <td id=\"T_cf877_row16_col1\" class=\"data row16 col1\" >GarageCars</td>\n",
       "      <td id=\"T_cf877_row16_col2\" class=\"data row16 col2\" >0.518310</td>\n",
       "    </tr>\n",
       "    <tr>\n",
       "      <th id=\"T_cf877_level0_row17\" class=\"row_heading level0 row17\" >17</th>\n",
       "      <td id=\"T_cf877_row17_col0\" class=\"data row17 col0\" >FullBath</td>\n",
       "      <td id=\"T_cf877_row17_col1\" class=\"data row17 col1\" >SalePrice</td>\n",
       "      <td id=\"T_cf877_row17_col2\" class=\"data row17 col2\" >0.635957</td>\n",
       "    </tr>\n",
       "    <tr>\n",
       "      <th id=\"T_cf877_level0_row18\" class=\"row_heading level0 row18\" >18</th>\n",
       "      <td id=\"T_cf877_row18_col0\" class=\"data row18 col0\" >TotRmsAbvGrd</td>\n",
       "      <td id=\"T_cf877_row18_col1\" class=\"data row18 col1\" >SalePrice</td>\n",
       "      <td id=\"T_cf877_row18_col2\" class=\"data row18 col2\" >0.532586</td>\n",
       "    </tr>\n",
       "    <tr>\n",
       "      <th id=\"T_cf877_level0_row19\" class=\"row_heading level0 row19\" >19</th>\n",
       "      <td id=\"T_cf877_row19_col0\" class=\"data row19 col0\" >Fireplaces</td>\n",
       "      <td id=\"T_cf877_row19_col1\" class=\"data row19 col1\" >SalePrice</td>\n",
       "      <td id=\"T_cf877_row19_col2\" class=\"data row19 col2\" >0.519247</td>\n",
       "    </tr>\n",
       "    <tr>\n",
       "      <th id=\"T_cf877_level0_row20\" class=\"row_heading level0 row20\" >20</th>\n",
       "      <td id=\"T_cf877_row20_col0\" class=\"data row20 col0\" >GarageCars</td>\n",
       "      <td id=\"T_cf877_row20_col1\" class=\"data row20 col1\" >SalePrice</td>\n",
       "      <td id=\"T_cf877_row20_col2\" class=\"data row20 col2\" >0.690711</td>\n",
       "    </tr>\n",
       "  </tbody>\n",
       "</table>\n"
      ],
      "text/plain": [
       "<pandas.io.formats.style.Styler at 0x1a88178>"
      ]
     },
     "metadata": {},
     "output_type": "display_data"
    }
   ],
   "source": [
    "important_correlations = []\n",
    "corr = train[cuantitative].corr(method='spearman')\n",
    "\n",
    "for start, h1 in enumerate(cuantitative):\n",
    "    for h2 in cuantitative[start + 1:]:\n",
    "        if abs(corr[h1][h2]) > 0.5:\n",
    "            important_correlations.append((h1, h2, corr[h1][h2]))\n",
    "\n",
    "\n",
    "data = pd.DataFrame(important_correlations, columns=(\"Variable1\", \"Variable2\", \"Correlación\"))\n",
    "data_f = data.style.set_properties(**{'text-align': 'center'}) \n",
    "display(data_f)\n",
    "\n",
    "del start, h1, h2, corr, data, data_f"
   ]
  },
  {
   "cell_type": "markdown",
   "metadata": {},
   "source": [
    "Como se puede observar en la tabla y gráfica anterior se presentan aquellas variables que cuentan con una alta correlación (tomando como correlación alta a valores mayores o iguales a 0.5). A continuación se listan la correlaciones encontradas por variables:\n",
    "- LotFrontage → LotArea\n",
    "- GarageArea → GarageCars, SalePrice\n",
    "- GrLivArea → 2ndFlrSF, FullBath, TotRmsAbvGrd, GarageCars, SalePrice\n",
    "- 2ndFlrSF → HalfBath, TotRmsAbvGrd\n",
    "- 1stFlrSF → TotalBsmtSF, SalePrice\n",
    "- TotalBsmtSF → SalePrice\n",
    "- BsmtUnfSF → BsmtFinSF1, BsmtFullBath\n",
    "- FullBath → TotRmsAbvGrd, GarageCars, SalePrice\n",
    "- TotRmsAbvGrd → SalePrice\n",
    "- Fireplaces → SalePrice\n",
    "- GargeCars → SalePrice\n",
    "\n",
    "La estrecha correlación con la que cuentan las variables entre sí representa un potencial error para el modelo, ya que como bien se sabe, uno de los supuestos dentro del modelo de regresión logísticas es que las variables no presenten multicolinealidad ya que esto podría sesgar dicho modelo a la información \"repetida\" presentada por estas variables. Por lo tal, para evitar un sesgo y *overfitting* del modelo se eliminaran las variables correlacionadas, dejando solo una que represente la información de todas dentro del modelo. Las variables que se descartarán del modelo son:\n",
    "- LotFrontage\n",
    "- GarageCars\n",
    "- TotRmsAbvGrd\n",
    "- FullBath\n",
    "- HalfBath\n",
    "- TotalBsmtSF\n",
    "- BsmtFinSF1\n",
    "- BsmFullBath\n",
    "- Fireplaces"
   ]
  },
  {
   "cell_type": "code",
   "execution_count": 122,
   "metadata": {},
   "outputs": [],
   "source": [
    "useless = ['LotFrontage', \n",
    "'GarageCars', \n",
    "'TotRmsAbvGrd', \n",
    "'FullBath', \n",
    "'HalfBath', \n",
    "'TotalBsmtSF', \n",
    "'BsmtFinSF1', \n",
    "'BsmtFullBath', \n",
    "'Fireplaces', \n",
    "'PoolArea', \n",
    "'LowQualFinSF', \n",
    "'BsmtFinSF2', \n",
    "'BsmtHalfBath', \n",
    "'KitchenAbvGr' ]"
   ]
  },
  {
   "cell_type": "code",
   "execution_count": 123,
   "metadata": {},
   "outputs": [],
   "source": [
    "selected_train = select_train.loc[:, ~select_train.columns.isin(useless)]"
   ]
  },
  {
   "cell_type": "code",
   "execution_count": 124,
   "metadata": {},
   "outputs": [],
   "source": [
    "# separate between target and predictors\n",
    "target = selected_train.HouseCategory\n",
    "predictors = selected_train.loc[:, selected_train.columns != 'HouseCategory']"
   ]
  },
  {
   "cell_type": "code",
   "execution_count": 125,
   "metadata": {},
   "outputs": [],
   "source": [
    "# stratified sample\n",
    "predictors_train, predictors_test, target_train, target_test = train_test_split(\n",
    "    predictors, \n",
    "    target, \n",
    "    train_size=0.7, \n",
    "    shuffle=True,\n",
    "    random_state=19195\n",
    ")"
   ]
  },
  {
   "cell_type": "markdown",
   "metadata": {},
   "source": [
    "# Support Vector Machine (SVM)\n",
    "Genere varios (más de 2) modelos de SVM con diferentes kernels y distintos valores en los \n",
    "parámetros c, gamma y d (en caso de que utilice el polinomial)."
   ]
  },
  {
   "cell_type": "markdown",
   "metadata": {},
   "source": [
    "# Support Vector Machine (SVM)\n",
    "Genere varios (más de 2) modelos de SVM con diferentes kernels y distintos valores en los \n",
    "parámetros c, gamma y d (en caso de que utilice el polinomial)."
   ]
  },
  {
   "cell_type": "code",
   "execution_count": 126,
   "metadata": {},
   "outputs": [
    {
     "data": {
      "text/plain": [
       "Pipeline(steps=[('standardscaler', StandardScaler()),\n",
       "                ('svc', SVC(C=5.0, gamma='auto'))])"
      ]
     },
     "execution_count": 126,
     "metadata": {},
     "output_type": "execute_result"
    }
   ],
   "source": [
    "# n general, we recommend using StandardScaler within a Pipeline in order to prevent most risks of data leaking\n",
    "rbf_auto_model = make_pipeline(StandardScaler(), SVC(C=5.0, kernel='rbf', gamma='auto'))\n",
    "rbf_auto_model.fit(predictors_train, target_train)"
   ]
  },
  {
   "cell_type": "code",
   "execution_count": 127,
   "metadata": {},
   "outputs": [
    {
     "data": {
      "text/plain": [
       "Pipeline(steps=[('standardscaler', StandardScaler()), ('svc', SVC(C=10.0))])"
      ]
     },
     "execution_count": 127,
     "metadata": {},
     "output_type": "execute_result"
    }
   ],
   "source": [
    "rbf_scale_model = make_pipeline(StandardScaler(), SVC(C=10.0, kernel='rbf', gamma='scale'))\n",
    "rbf_scale_model.fit(predictors_train, target_train)"
   ]
  },
  {
   "cell_type": "code",
   "execution_count": 128,
   "metadata": {},
   "outputs": [
    {
     "data": {
      "text/plain": [
       "Pipeline(steps=[('standardscaler', StandardScaler()),\n",
       "                ('svc', SVC(C=8.0, gamma='auto', kernel='poly'))])"
      ]
     },
     "execution_count": 128,
     "metadata": {},
     "output_type": "execute_result"
    }
   ],
   "source": [
    "poly_auto_model = make_pipeline(StandardScaler(), SVC(C=8.0, kernel='poly', gamma='auto', degree=3))\n",
    "poly_auto_model.fit(predictors_train, target_train)"
   ]
  },
  {
   "cell_type": "code",
   "execution_count": 129,
   "metadata": {},
   "outputs": [
    {
     "data": {
      "text/plain": [
       "Pipeline(steps=[('standardscaler', StandardScaler()),\n",
       "                ('svc', SVC(C=2.0, degree=5, kernel='poly'))])"
      ]
     },
     "execution_count": 129,
     "metadata": {},
     "output_type": "execute_result"
    }
   ],
   "source": [
    "poly_scale_model = make_pipeline(StandardScaler(), SVC(C=2.0, kernel='poly', gamma='scale', degree=5))\n",
    "poly_scale_model.fit(predictors_train, target_train)"
   ]
  },
  {
   "cell_type": "code",
   "execution_count": 130,
   "metadata": {},
   "outputs": [
    {
     "data": {
      "text/plain": [
       "Pipeline(steps=[('standardscaler', StandardScaler()),\n",
       "                ('svc', SVC(kernel='linear'))])"
      ]
     },
     "execution_count": 130,
     "metadata": {},
     "output_type": "execute_result"
    }
   ],
   "source": [
    "linear_model = make_pipeline(StandardScaler(), SVC(kernel='linear'))\n",
    "linear_model.fit(predictors_train, target_train)"
   ]
  },
  {
   "cell_type": "markdown",
   "metadata": {},
   "source": [
    "## Predicción de la variable respuesta"
   ]
  },
  {
   "cell_type": "code",
   "execution_count": 131,
   "metadata": {},
   "outputs": [],
   "source": [
    "# Predicción con el modelo rbf con gama auto y C = 5\n",
    "prediction_rbf_auto_test = rbf_auto_model.predict(predictors_test)\n",
    "# Predicción con el modelo rbf con gama scale y C = 10\n",
    "prediction_rbf_scale_test = rbf_scale_model.predict(predictors_test)\n",
    "# Predicción con el modelo poly con gama auto, C = 8 y d = 3\n",
    "prediction_poly_auto_test = poly_auto_model.predict(predictors_test)\n",
    "# Predicción con el modelo poly con gama scale, C = 2 y d = 5\n",
    "prediction_poly_scale_test = poly_scale_model.predict(predictors_test)\n",
    "# Predicción con modelo lineal\n",
    "prediction_linear_test = linear_model.predict(predictors_test)"
   ]
  },
  {
   "cell_type": "markdown",
   "metadata": {},
   "source": [
    "# Efectividad del modelo\n",
    "Generación de las matrices de confusión y explicación de los resultados obtenidos"
   ]
  },
  {
   "cell_type": "code",
   "execution_count": 132,
   "metadata": {},
   "outputs": [],
   "source": [
    "# Changing style again :)\n",
    "plt.style.use('seaborn-dark')"
   ]
  },
  {
   "cell_type": "code",
   "execution_count": 133,
   "metadata": {},
   "outputs": [],
   "source": [
    "target_names = ['Barata', 'Intermedia', 'Cara']"
   ]
  },
  {
   "cell_type": "code",
   "execution_count": 134,
   "metadata": {},
   "outputs": [
    {
     "name": "stdout",
     "output_type": "stream",
     "text": [
      "              precision    recall  f1-score   support\n",
      "\n",
      "      Barata       0.97      0.96      0.96       210\n",
      "  Intermedia       0.90      0.90      0.90       124\n",
      "        Cara       0.78      0.84      0.81        25\n",
      "\n",
      "    accuracy                           0.93       359\n",
      "   macro avg       0.88      0.90      0.89       359\n",
      "weighted avg       0.93      0.93      0.93       359\n",
      "\n"
     ]
    },
    {
     "data": {
      "image/png": "[encoded data removed]",
      "text/plain": [
       "<Figure size 432x288 with 2 Axes>"
      ]
     },
     "metadata": {},
     "output_type": "display_data"
    }
   ],
   "source": [
    "print(classification_report(target_test, prediction_rbf_auto_test, target_names=target_names))\n",
    "cm = confusion_matrix(target_test, prediction_rbf_auto_test)\n",
    "disp = ConfusionMatrixDisplay(confusion_matrix=cm, display_labels=target_names)\n",
    "disp.plot()\n",
    "plt.show()"
   ]
  },
  {
   "cell_type": "markdown",
   "metadata": {},
   "source": [
    "En el reporte de clasificación anterior se puede observar que el modelo cuenta con una exactitud del 93%, lo cual indica que es bastante exacto al momento de predecir un nuevo dato que ingrese al modelo. Sin embargo, si se desgloza más a detalle esta información se puede observar que la precisión para predecir casas caras es la más baja de todas las categorías, con un valor de 78%, a diferencia de la mejor precisión, que es al momento de predecir casas baratas con un valor de 97%. Agregado a esto, también se puede observar que el modelo es más \"sensible\" al momento de predecir casas caras que al predecir casas baratas, esto se puede observar en en el valor de *recall*obtenido.\n",
    "\n",
    "Si bien la exactitud o *accuracy* del modelo es muy cercana al ideal, el cual es 1, cabe tomar en cuenta que esta métrica no siempre es un buen indicador de qué tan bien es el modelo, por lo tal, para tomar en cuenta la precisión y sensibilidad del modelo una mejor métrica que puede indicar qué tan bien es el modelo es el *f1-score* para el modelo creado con kernel rbf, con un valor de regularización de 5 y un valor gamma \"auto\", en promedio el modelo es 83% bueno prediciendo nuevos valores según valor de *f1-score*\n",
    "\n",
    "Por otro lado, en la matriz de confusión se puede observar que en el tipo de casas que menos se confudió es en las casas caras, esto podría parecer que no concuerda con la información devuelta por el reporte de clasificación, sin embargo, lo que sucede es que en porcentaje, debido a la cantida de datos que existían para clasificar, fue en esta categoría que el modelo se equivocó más, clasificando erróneamente aproximadamente un 16% de las casas caras. Por otro lado, se puede notar que en cantidad neta de errores cometidos, la categoría en la cual más se equivocó el modelo fue al clasificar casas intermedias."
   ]
  },
  {
   "cell_type": "code",
   "execution_count": 135,
   "metadata": {},
   "outputs": [
    {
     "name": "stdout",
     "output_type": "stream",
     "text": [
      "              precision    recall  f1-score   support\n",
      "\n",
      "      Barata       0.97      0.95      0.96       210\n",
      "  Intermedia       0.89      0.91      0.90       124\n",
      "        Cara       0.81      0.88      0.85        25\n",
      "\n",
      "    accuracy                           0.93       359\n",
      "   macro avg       0.89      0.91      0.90       359\n",
      "weighted avg       0.93      0.93      0.93       359\n",
      "\n"
     ]
    },
    {
     "data": {
      "image/png": "[encoded data removed]",
      "text/plain": [
       "<Figure size 432x288 with 2 Axes>"
      ]
     },
     "metadata": {},
     "output_type": "display_data"
    }
   ],
   "source": [
    "print(classification_report(target_test, prediction_rbf_scale_test, target_names=target_names))\n",
    "cm = confusion_matrix(target_test, prediction_rbf_scale_test)\n",
    "disp = ConfusionMatrixDisplay(confusion_matrix=cm, display_labels=target_names)\n",
    "disp.plot()\n",
    "plt.show()"
   ]
  },
  {
   "cell_type": "markdown",
   "metadata": {},
   "source": [
    "Al igual que el modelo anterior, en el reporte de clasificación de este modelo se puede observar que la exactitud para predecir nuevos valores por el modelo es de 93%. Por otro lado en la matriz de confusión se puede observar que aproximadamente un 5% de las casas que eran caras fueron clasificadas como intermedias, es decir el modelo tuvo un 5% de falsos negativos en la predicción de casas caras, esto se puede observar con el valor de *recall* obtenido, el cual es de 96%. Con este mismo análisis, se observa que en el caso de las casas intermedias, al predecirlas se obtuvo un 10% de falsos negativos, los cuales se reparten entre casas intermedias clasificadas como baratas o como caras. Y finalmente, al momento de clasificar casas caras, un 12% de las clasificaciones realizadas fueron falsos negativos. \n",
    "\n",
    "Como se puede notar en el párrafo anterior el porcentje de falsos negativos al momento de hacer la clasificación de casas caras es el más alto, esto también se puede ver reflejado, en que, de las 3 categorías, el valor de *recall* de las casas caras es el más bajo, con un valor de 85%. Es fácil notar que si bien, de manera \"neta\" las casas de tipo cara son las que menos se equivocó el modelo en predecir, debido a que son pocos datos, esto implica que su porcentaje equivalente de errores es más alto en relación a las categorías intermedias y baratas que tienen una cantidad de datos significativamente mayor.  "
   ]
  },
  {
   "cell_type": "code",
   "execution_count": 136,
   "metadata": {},
   "outputs": [
    {
     "name": "stdout",
     "output_type": "stream",
     "text": [
      "              precision    recall  f1-score   support\n",
      "\n",
      "      Barata       0.95      0.93      0.94       210\n",
      "  Intermedia       0.87      0.89      0.88       124\n",
      "        Cara       0.85      0.92      0.88        25\n",
      "\n",
      "    accuracy                           0.91       359\n",
      "   macro avg       0.89      0.91      0.90       359\n",
      "weighted avg       0.91      0.91      0.91       359\n",
      "\n"
     ]
    },
    {
     "data": {
      "image/png": "[encoded data removed]",
      "text/plain": [
       "<Figure size 432x288 with 2 Axes>"
      ]
     },
     "metadata": {},
     "output_type": "display_data"
    }
   ],
   "source": [
    "print(classification_report(target_test, prediction_poly_auto_test, target_names=target_names))\n",
    "cm = confusion_matrix(target_test, prediction_poly_auto_test)\n",
    "disp = ConfusionMatrixDisplay(confusion_matrix=cm, display_labels=target_names)\n",
    "disp.plot()\n",
    "plt.show()"
   ]
  },
  {
   "cell_type": "markdown",
   "metadata": {},
   "source": [
    "El modelo polinomial con un grado de 3 y una regularización de 8, es al momento y con respecto al valor de *accuracy* el peor modelo, ya que tiene un valor de exactitud de 91%. En general, este valor de exactitud es bastante bueno ya que indica que en un 91% el modelo predice con exactitud los valores, sin embargo, al compararlo con los modelos anteriormente desarrollados, este es el que presenta la exactitud más baja. Por otro lado, analizando un poco más a detalle la matriz de confusión se puede observar que un 5% de las clasificaciones de casas baratas es un falso positivo, ya que el modelo las predijo como intermedias, pero realmente eran caras. \n",
    "\n",
    "Por otro lado, siguiendo el mismo análisis se puede notar que en el caso de las casas intermedias aproximadamente un 16% son falsos positivos, y de esto un 2% las clasificó erróneamente como casas caras y un 14% como casas baratas. Finalmente, al analizar las predicciones en el caso de las casas caras, se puede notar que de las 27 predicciones realizadas como caras un 15% de estas son falsos negativos, ya que en realidad eran casas de tipo intermedio. \n",
    "\n",
    "Si bien el modelo, en cada una de las predicciones realizadas presenta falsos positivos, el porcentaje de estos datos clasificados erróneamente no es tan significativo con respecto a los valores clasificados correctamente. Esto se puede notar en los valores de precisión obtenidos para cada una de las categorías,ya que ningún valor se encuentra por debajo del 80%, lo que indica que el modelo es bastante preciso al momento de clasificar las categorías de los datos. "
   ]
  },
  {
   "cell_type": "code",
   "execution_count": 137,
   "metadata": {},
   "outputs": [
    {
     "name": "stdout",
     "output_type": "stream",
     "text": [
      "              precision    recall  f1-score   support\n",
      "\n",
      "      Barata       0.71      0.97      0.82       210\n",
      "  Intermedia       0.72      0.27      0.39       124\n",
      "        Cara       0.73      0.76      0.75        25\n",
      "\n",
      "    accuracy                           0.71       359\n",
      "   macro avg       0.72      0.66      0.65       359\n",
      "weighted avg       0.71      0.71      0.66       359\n",
      "\n"
     ]
    },
    {
     "data": {
      "image/png": "[encoded data removed]",
      "text/plain": [
       "<Figure size 432x288 with 2 Axes>"
      ]
     },
     "metadata": {},
     "output_type": "display_data"
    }
   ],
   "source": [
    "print(classification_report(target_test, prediction_poly_scale_test, target_names=target_names))\n",
    "cm = confusion_matrix(target_test, prediction_poly_scale_test)\n",
    "disp = ConfusionMatrixDisplay(confusion_matrix=cm, display_labels=target_names)\n",
    "disp.plot()\n",
    "plt.show()"
   ]
  },
  {
   "cell_type": "markdown",
   "metadata": {},
   "source": [
    "En el caso del modelo creado con kernel polinomial, una regularización de 2 y un grado de 5, se obtiene una exactitud de 71%, como es fácil de notar esta no es una exactitud tan buena como la obtenida anteriormente por otros modelos, ya que anteriormente el valor de exactitud se había establecido por arriba del 90%. Esta disminución de la exactitud también se puede observar en la precisión y la sensibilidad del modelo, ya que, todos los valores de precisión están en un rango de 71% a 73% y algo interesante a observar en la sensibilidad del modelo es que al momento de clasificar casas intermedias, únicamente es capaz de clasificar un 27% correctamente, dejado así un 73% de los datos clasificados como falsos negativos. \n",
    "\n",
    "Por otro lado, observando la matriz de confusión, se puede notar que en cuanto a la clasificación de casas baratas es el modelo que menor error cometió, ya que de las 210 casas clasificadas como baratas, únicamente clasificó incorrectamente 7, en otras palabras; al momento de clasificar casas caras cuenta con aproximadamente un 3% de falsos negativos, dejando así un valor de *recall* de 97%. Al tomar en consideración tanto la precisión como la \"sensibilidad\" la exactitud promedio del modelo es de 65%, siendo este un valor bastante bajo, que indica que el modelo no es tan exacto o preciso al momento de predecir nuevos datos."
   ]
  },
  {
   "cell_type": "code",
   "execution_count": 138,
   "metadata": {},
   "outputs": [
    {
     "name": "stdout",
     "output_type": "stream",
     "text": [
      "              precision    recall  f1-score   support\n",
      "\n",
      "      Barata       0.99      0.96      0.97       210\n",
      "  Intermedia       0.93      0.94      0.94       124\n",
      "        Cara       0.83      1.00      0.91        25\n",
      "\n",
      "    accuracy                           0.96       359\n",
      "   macro avg       0.92      0.97      0.94       359\n",
      "weighted avg       0.96      0.96      0.96       359\n",
      "\n"
     ]
    },
    {
     "data": {
      "image/png": "[encoded data removed]",
      "text/plain": [
       "<Figure size 432x288 with 2 Axes>"
      ]
     },
     "metadata": {},
     "output_type": "display_data"
    }
   ],
   "source": [
    "print(classification_report(target_test, prediction_linear_test, target_names=target_names))\n",
    "cm = confusion_matrix(target_test, prediction_linear_test)\n",
    "disp = ConfusionMatrixDisplay(confusion_matrix=cm, display_labels=target_names)\n",
    "disp.plot()\n",
    "plt.show()"
   ]
  },
  {
   "cell_type": "markdown",
   "metadata": {},
   "source": [
    "Por último, se realizó un modelo con un kernel lineal y como se puede observar en el reporte de clasificación que con un valor de *accuracy* de 96%, el modelo es bastante exacto al momento de predecir nuevos valores, lo cual se ve reflejado en en la matriz de confusión, ya que se puede observar que para las casas caras únicamente clasificó 9 como falsos negativos, en el caso de las casas intermedias solo existen se clasificaron 7 datos como falsos negativos, y algo interesante que ningún modelo anteriormente había realizado es clasificar correctamente todas las casas caras. \n",
    "\n",
    "La correcta clasificación de todas las casas caras se puede ver en el valor de *recall* obtenido, ya que es un valor de 100%, sin embargo, también se puede observar que en cuanto al valor de precisión, de las 3 categorías que se tienen, las casas caras es la menor, esto debido a los falsos positivos clasificados de las casas que eran intermedias pero se clasificaron como caras "
   ]
  },
  {
   "cell_type": "markdown",
   "metadata": {},
   "source": [
    "# Comparación entre los modelos de SVM\n",
    "Compare los resultados obtenidos con los diferentes modelos que hizo en cuanto a efectividad, tiempo de procesamiento y equivocaciones (donde el algoritmo se equivocó más, donde se equivocó menos y la importancia que tienen los errores)."
   ]
  },
  {
   "cell_type": "markdown",
   "metadata": {},
   "source": [
    "De todos los modelos anteriormente realizados, si se comparan entre ellos por medio de la efectividad al momento de hacer las predicciones se puede decir que el mejor modelo fue el que se realizó con kernel lineal ya que cuenta con una exactitud promedio de un 94%. Sin embargo, es importante considerar que decir que un modelo es el mejor, es algo bastante subjetivo, ya que depende del problema que se esté buscando resolver y qué es lo que se está buscando optimizar, en cuanto a métrica se refiere. Por otro lado, si vemos a los tiempos de ejecución que tardó cada uno de los modelos, se tiene que aquellos desarrollados con kernel *rbf* son los que se tardaron más, llegando a tiempos de 380ms a diferencia del que tardó menos tiempo de ejecución, el cual fue el del kernel lineal, con un tiempo de 13ms. Para este caso particular, con el modelo de kernel lineal se puede decir que se tiene \"lo mejor de los dos mundos\" ya que es el mejor modelo en cuanto a *f1-score* promedio y también fue el modelo más rápido.\n",
    "\n",
    "Algo interesante es que todos los modelos al momento de predecir casas intermedias, los errores existían ya sea que el modelo clasificara la casa como barata o cara, esto podría indicar que el *treshold* establecido por el modelo no estaba establecido de manera óptima permitiendo una mayor cantidad de clasificaciones erróneas. Cabe resaltar que el valor permitido de clasificaciones erróneas se establece mediante el parámetro de regularización, o valor C, sin embargo, si se establecen valores de C muy bajos, el modelo tendrá poco *bias* es decir, el modelo encontrará un plano que se ajuste a los datos de training, sin embargo, esto ocasiona *overfitting* ya que el modelo tendra una alta varianza al momento de predecir nuevos valores, porque se ajustó tan bién a los datos de entrenamiento que ahora no sabe qué hacer con nuevos datos que ingresan a dicho modelo. Esto se puede observar en el modelo con kernel polinomial y cuyo valor de regularización era de 2, este modelo, al momento de predecir fue, de los 5 creados, el peor en cuanto a valores de *accuracy* y *f1-score*. Algo a tomar bastante en consideración en este caso, es que con una regularización baja y un kernel polinomial la categoría en la cual mayor cantidad de errores se tienen es en las casas intermedias, esto se puede ocasionar debido a que las casas intermedias se encuentran en un rango de valores. Es decir, para clasificar las casas intermedias deben de existir 2 barreras, una que delimite en cuanto a las casas baratas y la otra que delimite en cuanto a las casas caras, por lo tal al existir un bajo *bias* del modelo este puede establecer \"barreras\" muy justas a los datos de entrenamiento, dando así paso a una mayor varianza al momento de hacer las predicciones de nuevos datos que ingresan al modelo.\n",
    "\n",
    "Por otro lado, algo que se realizó pero no se dejó evidencia dentro de la hoja de trabajo, fue comprobar el efecto que tiene el escalar las variables al momento de entrenar y predecir los datos, y lo que se observó es que en el caso de los modelos con kernel RBF al no escalar las variables únicamente era capaz de predecir correctamente las casas de categoría barata, y de hecho, lo que hacía el modelo, es que TODAS las observaciones las clasificaba como baratas. Por otro lado, también se hizo esta prueba, solo que utilizando un kernel lineal, y al no escalar las variables el modelo era capaz de predecir en un 99% correctamente todas las categorías de los datos. Por lo tal, para determinar si escalar o no es una buena estrategia para el conjunto de datos es importante tomar en consideración el kernel que se está utilizando. "
   ]
  },
  {
   "cell_type": "markdown",
   "metadata": {},
   "source": [
    "# Comparación con la efectividad de los algoritmos de las hojas de trabajo anteriores\n",
    "Compare la eficiencia del mejor modelo de SVM con los resultados obtenidos en los algoritmos de las hojas de trabajo anteriores que usen la misma variable respuesta (árbol de decisión y random forest, naive bayes). ¿Cuál es mejor para predecir? ¿Cuál se demoró más en procesar?"
   ]
  },
  {
   "cell_type": "markdown",
   "metadata": {},
   "source": [
    "Como ya se ha mencionado anteriormente, el mejor modelo, hasta ahora, es el elaborado mediante áboles de decisión, ya que este es capaz de predecir correctamente TODAS las categorías de las casas en el conjunto de datos, sin embargo, también es, a su vez es el más lento, ya que valga la redundancia debe de diseñar el árbol por el cual irá moviendo los datos y así decidir la clasificación de la observación. Por otro lado, se tiene que los modelos más rápidos desarrollados son aquellos mediante Bayes, sin embargo, la efectividad de estos modelos no era para nada cerca de lo bueno de los árboles de decisión. Una alternativa que presenta tanto rápidez y efectividad para predecir, es el modelo desarrollado mediante *support vector machines*, si bien no es tan bueno como los árboles de decisión, es mucho más rápido que estos, lo cual, con conjuntos de datos demasiado grandes permite agregar un ventaja significativa. \n",
    "\n",
    "Por otro lado, como se pudo observar en esta hoja, mediante distintas combinaciones de los parámetros es posible desarrollar un mejor o pero modelo, por lo tal una recomendación para encontrar los parámetros óptimos o aquellos que lograrán crear el mejor modelo para lograr una mejor predicción de los datos es mediante el uso de *cross validation* ya que mediante esto se puede evaluar con distintos valores en los parámetros del algoritmos de *support vector machine* y así comparar entre ellos aquel que logre predecir y adaptarse de mejor forma a los datos, es decir lograr encontrar un balance entre el sesgo y la varianza del modelo."
   ]
  }
 ],
 "metadata": {
  "kernelspec": {
   "display_name": "Python 3 (ipykernel)",
   "language": "python",
   "name": "python3"
  },
  "language_info": {
   "codemirror_mode": {
    "name": "ipython",
    "version": 3
   },
   "file_extension": ".py",
   "mimetype": "text/x-python",
   "name": "python",
   "nbconvert_exporter": "python",
   "pygments_lexer": "ipython3",
   "version": "3.9.6"
  }
 },
 "nbformat": 4,
 "nbformat_minor": 2
}
