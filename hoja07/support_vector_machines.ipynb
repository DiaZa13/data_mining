{
 "cells": [
  {
   "cell_type": "markdown",
   "metadata": {},
   "source": [
    "- Diana Zaray Corado #191025\n",
    "- Pablo Alejandro Méndez #19195\n",
    "- Orlando Osberto Cabrera #19943\n",
    "# Hoja de Trabajo 7 - Support Vector Machines\n",
    "                                                                                                                           "
   ]
  },
  {
   "cell_type": "code",
   "execution_count": null,
   "metadata": {
    "vscode": {
     "languageId": "plaintext"
    }
   },
   "outputs": [],
   "source": [
    "# Librerias\n",
    "import pandas as pd\n",
    "import numpy as np\n",
    "import scipy.stats as sp\n",
    "import seaborn as sns\n",
    "import matplotlib.pyplot as plt\n",
    "from sklearn.preprocessing import StandardScaler\n",
    "from sklearn.svm import SVC\n",
    "from sklearn.pipeline import make_pipeline\n",
    "from sklearn.model_selection import train_test_split\n",
    "from sklearn.metrics import classification_report, confusion_matrix, ConfusionMatrixDisplay\n"
   ]
  },
  {
   "cell_type": "code",
   "execution_count": null,
   "metadata": {
    "vscode": {
     "languageId": "plaintext"
    }
   },
   "outputs": [],
   "source": [
    "# Estilos\n",
    "plt.style.use('ggplot')"
   ]
  },
  {
   "cell_type": "code",
   "execution_count": null,
   "metadata": {
    "vscode": {
     "languageId": "plaintext"
    }
   },
   "outputs": [],
   "source": [
    "# General functions\n",
    "def calculate_frecuency(data, column, index='index', head = False):\n",
    "    data_f = pd.DataFrame({\n",
    "        'frecuency': data[column].value_counts(),\n",
    "        'relative_frecuency (%)': data[column].value_counts(normalize=True)*100,\n",
    "        'relative_acc_frecuency': data[column].value_counts(normalize=True).cumsum()\n",
    "    })\n",
    "    data_f.reset_index(level=[0], inplace=True)\n",
    "    data_f.rename(columns={index:column}, inplace=True)\n",
    "    if head:\n",
    "        left_aligned_df = data_f.head(20).style.set_properties(**{'text-align': 'center'}) \n",
    "    else:\n",
    "        left_aligned_df = data_f.style.set_properties(**{'text-align': 'center'})\n",
    "    display(left_aligned_df)\n",
    "    return data_f"
   ]
  },
  {
   "cell_type": "code",
   "execution_count": null,
   "metadata": {
    "vscode": {
     "languageId": "plaintext"
    }
   },
   "outputs": [],
   "source": [
    "# General variables\n",
    "cuantitative = [\n",
    "    'LotFrontage',\n",
    "    'LotArea',\n",
    "    'MiscVal',\n",
    "    'WoodDeckSF',\n",
    "    'OpenPorchSF',\n",
    "    'EnclosedPorch',\n",
    "    '3SsnPorch',\n",
    "    'ScreenPorch',\n",
    "    'PoolArea',\n",
    "    'GarageArea',\n",
    "    'GrLivArea',\n",
    "    'LowQualFinSF',\n",
    "    '2ndFlrSF',\n",
    "    '1stFlrSF',\n",
    "    'TotalBsmtSF',\n",
    "    'BsmtUnfSF',\n",
    "    'BsmtFinSF2',\n",
    "    'BsmtFinSF1',\n",
    "    'MasVnrArea',\n",
    "    'BsmtFullBath',\n",
    "    'BsmtHalfBath',\n",
    "    'FullBath',\n",
    "    'HalfBath',\n",
    "    'KitchenAbvGr',\n",
    "    'TotRmsAbvGrd',\n",
    "    'Fireplaces',\n",
    "    'GarageCars',\n",
    "    'SalePrice',\n",
    "]"
   ]
  },
  {
   "cell_type": "markdown",
   "metadata": {},
   "source": [
    "# Exploración de los datos\n",
    "Explore los datos y explique las transformaciones que debe hacerle para generar un modelo \n",
    "de máquinas vectoriales de soporte."
   ]
  },
  {
   "cell_type": "code",
   "execution_count": null,
   "metadata": {},
   "outputs": [],
   "source": [
    "train = pd.read_csv(\"./train.csv\")\n",
    "test = pd.read_csv(\"./test.csv\")\n",
    "train_shape = train.shape\n",
    "test_shape = test.shape\n",
    "\n",
    "print(f'Los datos de entrenamiento cuenta con {train_shape[0]} observaciones y {train_shape[1]} variables.\\nDe igual forma, los datos de prueba tienen {test_shape[0]} observaciones y {train_shape[1]} variables')"
   ]
  },
  {
   "cell_type": "code",
   "execution_count": null,
   "metadata": {},
   "outputs": [],
   "source": [
    "# Resumen de los datos\n",
    "head = train.head().style.set_properties(**{'text-align': 'center'}) \n",
    "display(head)\n",
    "del head"
   ]
  },
  {
   "cell_type": "markdown",
   "metadata": {},
   "source": [
    "## Exploración de variables cualitativas\n",
    "Análisis de frecuencia para observar la distribución de las variables cualitativas"
   ]
  },
  {
   "cell_type": "markdown",
   "metadata": {},
   "source": [
    "#### ¿Cuál es el estilo de vivienda predominante?\n",
    "Es estilo de vivienda predominante o el que más se ha vendido según los datos de entrenamiento son aquellas casas de 1 piso estilo 1946 y más pisos con diferentes estilos."
   ]
  },
  {
   "cell_type": "code",
   "execution_count": null,
   "metadata": {},
   "outputs": [],
   "source": [
    "subclas = calculate_frecuency(train, 'MSSubClass')\n",
    "del subclas"
   ]
  },
  {
   "cell_type": "markdown",
   "metadata": {},
   "source": [
    "#### ¿En qué zona se encuentran las casas más vendidas?\n",
    "Las zonas en las cuales se encuentran las casas más vendidas son en residenciales con baja densidad. Algo interesante es que no existen casas en zonas industriales o de agricultura."
   ]
  },
  {
   "cell_type": "code",
   "execution_count": null,
   "metadata": {},
   "outputs": [],
   "source": [
    "zoning = calculate_frecuency(train, 'MSZoning')\n",
    "del zoning"
   ]
  },
  {
   "cell_type": "markdown",
   "metadata": {},
   "source": [
    "#### ¿Son mayores las ventas si el tipo de vía de acceso a la propiedad es pavimentado?\n",
    "Sí son mayores las ventas con la vía de acceso pavimentada. De hecho, el 99.5% de las casas vendidas, en los datos de entrenamiento, tienen acceso pavimentado."
   ]
  },
  {
   "cell_type": "code",
   "execution_count": null,
   "metadata": {},
   "outputs": [],
   "source": [
    "street = calculate_frecuency(train, 'Street')\n",
    "del street"
   ]
  },
  {
   "cell_type": "markdown",
   "metadata": {},
   "source": [
    "#### Predominan las casas con todo tipo de utilidades públicas\n",
    "El 99.93% de casas cuentan con todo tipo de utilidades públicas, las cuales incluyen, electricidad, gas, agua y tanque séptico."
   ]
  },
  {
   "cell_type": "code",
   "execution_count": null,
   "metadata": {},
   "outputs": [],
   "source": [
    "utilities = calculate_frecuency(train, 'Utilities')\n",
    "del utilities"
   ]
  },
  {
   "cell_type": "markdown",
   "metadata": {},
   "source": [
    "#### ¿La mayor cantidad de casas que se venden se encuentran en excelente estado?\n",
    "No, las casas que más se venden son las que se encuentran en un estado promedio, aquellas que no están ni excelente pero tampoco mal. Y estás representan un 56% de las ventas totales."
   ]
  },
  {
   "cell_type": "code",
   "execution_count": null,
   "metadata": {},
   "outputs": [],
   "source": [
    "overall = calculate_frecuency(train, 'OverallCond')\n",
    "# giving the numbers a cualitative meaning\n",
    "overall['OverallCond'] = overall['OverallCond'].replace([1, 2, 3, 4, 5, 6, 7, 8, 9, 10], ['Very Excelente', 'Excelente', 'Very Good', 'Good', 'Above Average', 'Average', 'Below Average', 'Fair', 'Poor', 'Very Poor']) \n",
    "\n",
    "fig, ax = plt.subplots(figsize=(7, 7), subplot_kw=dict(aspect=\"equal\"))\n",
    "explode = (0.01, 0.01, 0.01, 0.01, 0.01, 0.01, 0.01, 0.05, 0.05)\n",
    "wedges, texts = ax.pie(overall['relative_frecuency (%)'], wedgeprops=dict(width=0.6), startangle=-30, explode=explode)\n",
    "\n",
    "bbox_props = dict(boxstyle=\"square,pad=0.5\", fc=\"w\", ec=\"k\", lw=0.77)\n",
    "kw = dict(arrowprops=dict(arrowstyle=\"-\"),\n",
    "          bbox=bbox_props, zorder=0, va=\"center\")\n",
    "\n",
    "for i, p in enumerate(wedges):\n",
    "    ang = (p.theta2 - p.theta1)/5. + p.theta1\n",
    "    y = np.sin(np.deg2rad(ang))\n",
    "    x = np.cos(np.deg2rad(ang))\n",
    "    horizontalalignment = {-1: \"right\", 1: \"left\"}[int(np.sign(x))]\n",
    "    connectionstyle = \"angle,angleA=0,angleB={}\".format(ang)\n",
    "    kw[\"arrowprops\"].update({\"connectionstyle\": connectionstyle})\n",
    "    ax.annotate(overall['OverallCond'][i] + ' ' + str(round(overall['relative_frecuency (%)'][i], 3)) + '%', xy=(x, y), xytext=(1.5*np.sign(x), 1.5*y),\n",
    "                horizontalalignment=horizontalalignment, **kw)\n",
    "plt.show()"
   ]
  },
  {
   "cell_type": "markdown",
   "metadata": {},
   "source": [
    "#### ¿Las personas prefieren casas fundidas en concreto vertido?\n",
    "Sí, al menos un 44% de las personas prefieren las casas de cemento vertido, sin embargo, un 43% prefieren las casas de bloques de cemento."
   ]
  },
  {
   "cell_type": "code",
   "execution_count": null,
   "metadata": {},
   "outputs": [],
   "source": [
    "foundation = calculate_frecuency(train, 'Foundation')\n",
    "del foundation"
   ]
  },
  {
   "cell_type": "markdown",
   "metadata": {},
   "source": [
    "#### Las casas con sótanos de al menos 100 pulgadas de altura son las más vendidas\n",
    "No, las casa más vendidas son aquellas que tienen sótanos promedio, aproximadamente entre las 80-89 pulgadas."
   ]
  },
  {
   "cell_type": "code",
   "execution_count": null,
   "metadata": {},
   "outputs": [],
   "source": [
    "bsmt = calculate_frecuency(train, 'BsmtQual')\n",
    "del bsmt"
   ]
  },
  {
   "cell_type": "markdown",
   "metadata": {},
   "source": [
    "#### La mayoría de viviendas cuentan con un sistema de aire acondicionado central y calefacción en buena calidad\n",
    "Al menos un 96% de las viviendas cuentan con calefacción en condiciones promedio y un 93.5% cuenta con aire acondicionado central"
   ]
  },
  {
   "cell_type": "code",
   "execution_count": null,
   "metadata": {},
   "outputs": [],
   "source": [
    "heating = calculate_frecuency(train, 'HeatingQC')"
   ]
  },
  {
   "cell_type": "code",
   "execution_count": null,
   "metadata": {},
   "outputs": [],
   "source": [
    "central = calculate_frecuency(train, 'CentralAir')"
   ]
  },
  {
   "cell_type": "code",
   "execution_count": null,
   "metadata": {},
   "outputs": [],
   "source": [
    "plt.figure(figsize=(12, 6))\n",
    "# Calefacción\n",
    "plt.subplot(1, 2, 1)\n",
    "sns.barplot(x='HeatingQC',y='frecuency',data=heating);\n",
    "plt.title('Calidad de Calefacción')\n",
    "\n",
    "# Aire acondicionado\n",
    "plt.subplot(1, 2, 2)\n",
    "sns.barplot(x='CentralAir',y='frecuency',data=central);\n",
    "plt.title('Sistema Central de Aire Acondicionado')\n",
    "\n",
    "plt.suptitle(\"Calefacción y Aire Acondicionado\")\n",
    "\n",
    "plt.show()"
   ]
  },
  {
   "cell_type": "markdown",
   "metadata": {},
   "source": [
    "#### Al menos un 50% de las viviendas cuenta con garage en buenas condiciones\n",
    "Un 96% de los garages de las viviendas se encuentran en condiciones promedio, y solo apenas un 0.802 tiene garage en buenas condiciones"
   ]
  },
  {
   "cell_type": "code",
   "execution_count": null,
   "metadata": {},
   "outputs": [],
   "source": [
    "garage_cond = calculate_frecuency(train, 'GarageCond')"
   ]
  },
  {
   "cell_type": "code",
   "execution_count": null,
   "metadata": {},
   "outputs": [],
   "source": [
    "sns.barplot(x='GarageCond', y='frecuency', data=garage_cond)\n",
    "del garage_cond"
   ]
  },
  {
   "cell_type": "markdown",
   "metadata": {},
   "source": [
    "#### ¿Cuáles son los precios más altos por los cuales se ha vendido una casa?\n",
    "De acuerdo con los resultados obtenidos se sabe que el rango de precios en el que están las casas con los precios más altos es de 755000 hasta 485000."
   ]
  },
  {
   "cell_type": "code",
   "execution_count": null,
   "metadata": {},
   "outputs": [],
   "source": [
    "sale_prices  = calculate_frecuency(train, 'SalePrice', head=True)\n",
    "del sale_prices"
   ]
  },
  {
   "cell_type": "markdown",
   "metadata": {},
   "source": [
    "## Preprocesamiento\n",
    "Como bien se sabe *Support vector machines* trabaja únicamente con datos numéricos, por lo tal, el primer paso a realizar durante la etapa de preprocesamiento es la creación de un nuevo data set que contenga únicamente las variables cuantitativas. Seguido a esto, se procede a limpiar los datos, es decir, a eliminar observaciones que tengan valores infinitos o valores faltantes, esto para que estas observaciones no afecten al momento de entrena el modelo."
   ]
  },
  {
   "cell_type": "code",
   "execution_count": null,
   "metadata": {},
   "outputs": [],
   "source": [
    "select_train = train[cuantitative]"
   ]
  },
  {
   "cell_type": "markdown",
   "metadata": {},
   "source": [
    "### Tratamiento de valores NA"
   ]
  },
  {
   "cell_type": "code",
   "execution_count": null,
   "metadata": {},
   "outputs": [],
   "source": [
    "# Asegurando que no existan valores nan o inf\n",
    "select_train = select_train[~select_train.isin([np.nan, np.inf, -np.inf]).any(1)]"
   ]
  },
  {
   "cell_type": "markdown",
   "metadata": {},
   "source": [
    "## Escalamiento de las variables\n",
    "Si bien en SVM no es necesario que los datos se encuentren normalizados, algo que sí se debe de realizar es el escalamiento o estandarización de variables, esto para poder evitar que ciertas variables, con rangos numéricos muy grandes \"dominen\" o sean más influyentes en el modelo que aquellas variables con rangos numéricos pequeños. \n",
    "\n",
    "Sin embargo, el escalamiento se realizará luego de tener el conjunto de datos separados en entrenamiento y prueba, ya que al realizarlo antes se puede sesgar el modelo porque la información se puede filtrar o \"mezclar\" del conjunto de prueba al de entrenamiento. \n",
    "\n",
    "Algo interesante de SVM es que no es sensible a los outliers por lo tal no es necesario hacer un tratamiento de los mismos, ya que el SVC trabaja con un *soft margin* que permite cierto grado de *misclassification* para que los valores anormales no afecten al modelo. Si bien, en este caso se tiene un alto *bias* esto se compensa ya que la varianza del modelo es baja, permitiendo así tener predicciones constantes y evitar el *overfitting*"
   ]
  },
  {
   "cell_type": "markdown",
   "metadata": {},
   "source": [
    "# Datos de entrenamiento y prueba\n",
    "Use como variable respuesta la variable categórica que especifica si la casa es barata, media \n",
    "o cara"
   ]
  },
  {
   "cell_type": "markdown",
   "metadata": {},
   "source": [
    "### Agregando la variable objetivo al conjunto de datos\n",
    "Debido a que la variable objetivo es categórica y SVM requiere que que los datos sean representados como un vector de números es necesario codificar las categorías mediante números. Para codificar las categorías se usaran los siguientes valores:\n",
    "- Baratas: 1\n",
    "- Intermedias: 10\n",
    "- Caras: 100"
   ]
  },
  {
   "cell_type": "code",
   "execution_count": null,
   "metadata": {},
   "outputs": [],
   "source": [
    "# Agregando la nueva variable al data frame\n",
    "conditions = [\n",
    "    (select_train['SalePrice'] <= 171500),\n",
    "    (select_train['SalePrice'] > 171500) & (select_train['SalePrice'] <= 295500),\n",
    "    (select_train['SalePrice'] > 295500) \n",
    "    ]\n",
    "\n",
    "values = [1, 10, 100]\n",
    "\n",
    "select_train['HouseCategory'] = np.select(conditions, values)\n",
    "del values, conditions"
   ]
  },
  {
   "cell_type": "markdown",
   "metadata": {},
   "source": [
    "## Selección de variables\n",
    "Para seleccionar las variables a utilizar dentro del modelo, se inició tomando en consideración únicamente las variables numéricas. Seguido a esto, se realizó una correlación entre todas las variables cuantitativas para poder analizar cuáles son las que influyen significativamente en el precio de venta y con base a esto se seleccionó el conjunto de *features* a utilizar."
   ]
  },
  {
   "cell_type": "code",
   "execution_count": null,
   "metadata": {},
   "outputs": [],
   "source": [
    "important_correlations = []\n",
    "corr = train[cuantitative].corr(method='spearman')\n",
    "\n",
    "for start, h1 in enumerate(cuantitative):\n",
    "    for h2 in cuantitative[start + 1:]:\n",
    "        if abs(corr[h1][h2]) > 0.5:\n",
    "            important_correlations.append((h1, h2, corr[h1][h2]))\n",
    "\n",
    "\n",
    "data = pd.DataFrame(important_correlations, columns=(\"Variable1\", \"Variable2\", \"Correlación\"))\n",
    "data_f = data.style.set_properties(**{'text-align': 'center'}) \n",
    "display(data_f)\n",
    "\n",
    "del start, h1, h2, corr, data, data_f"
   ]
  },
  {
   "cell_type": "markdown",
   "metadata": {},
   "source": [
    "Como se puede observar en la tabla y gráfica anterior se presentan aquellas variables que cuentan con una alta correlación (tomando como correlación alta a valores mayores o iguales a 0.5). A continuación se listan la correlaciones encontradas por variables:\n",
    "- LotFrontage → LotArea\n",
    "- GarageArea → GarageCars, SalePrice\n",
    "- GrLivArea → 2ndFlrSF, FullBath, TotRmsAbvGrd, GarageCars, SalePrice\n",
    "- 2ndFlrSF → HalfBath, TotRmsAbvGrd\n",
    "- 1stFlrSF → TotalBsmtSF, SalePrice\n",
    "- TotalBsmtSF → SalePrice\n",
    "- BsmtUnfSF → BsmtFinSF1, BsmtFullBath\n",
    "- FullBath → TotRmsAbvGrd, GarageCars, SalePrice\n",
    "- TotRmsAbvGrd → SalePrice\n",
    "- Fireplaces → SalePrice\n",
    "- GargeCars → SalePrice\n",
    "\n",
    "La estrecha correlación con la que cuentan las variables entre sí representa un potencial error para el modelo, ya que como bien se sabe, uno de los supuestos dentro del modelo de regresión logísticas es que las variables no presenten multicolinealidad ya que esto podría sesgar dicho modelo a la información \"repetida\" presentada por estas variables. Por lo tal, para evitar un sesgo y *overfitting* del modelo se eliminaran las variables correlacionadas, dejando solo una que represente la información de todas dentro del modelo. Las variables que se descartarán del modelo son:\n",
    "- LotFrontage\n",
    "- GarageCars\n",
    "- TotRmsAbvGrd\n",
    "- FullBath\n",
    "- HalfBath\n",
    "- TotalBsmtSF\n",
    "- BsmtFinSF1\n",
    "- BsmFullBath\n",
    "- Fireplaces"
   ]
  },
  {
   "cell_type": "code",
   "execution_count": null,
   "metadata": {},
   "outputs": [],
   "source": [
    "useless = ['LotFrontage', \n",
    "'GarageCars', \n",
    "'TotRmsAbvGrd', \n",
    "'FullBath', \n",
    "'HalfBath', \n",
    "'TotalBsmtSF', \n",
    "'BsmtFinSF1', \n",
    "'BsmtFullBath', \n",
    "'Fireplaces', \n",
    "'PoolArea', \n",
    "'LowQualFinSF', \n",
    "'BsmtFinSF2', \n",
    "'BsmtHalfBath', \n",
    "'KitchenAbvGr' ]"
   ]
  },
  {
   "cell_type": "code",
   "execution_count": null,
   "metadata": {},
   "outputs": [],
   "source": [
    "selected_train = select_train.loc[:, ~select_train.columns.isin(useless)]"
   ]
  },
  {
   "cell_type": "code",
   "execution_count": null,
   "metadata": {},
   "outputs": [],
   "source": [
    "# separate between target and predictors\n",
    "target = selected_train.HouseCategory\n",
    "predictors = selected_train.loc[:, selected_train.columns != 'HouseCategory']"
   ]
  },
  {
   "cell_type": "code",
   "execution_count": null,
   "metadata": {},
   "outputs": [],
   "source": [
    "# stratified sample\n",
    "predictors_train, predictors_test, target_train, target_test = train_test_split(\n",
    "    predictors, \n",
    "    target, \n",
    "    train_size=0.7, \n",
    "    shuffle=True,\n",
    "    random_state=19195\n",
    ")"
   ]
  }
 ],
 "metadata": {
  "kernelspec": {
   "display_name": "Python 3 (ipykernel)",
   "language": "python",
   "name": "python3"
  },
  "language_info": {
   "codemirror_mode": {
    "name": "ipython",
    "version": 3
   },
   "file_extension": ".py",
   "mimetype": "text/x-python",
   "name": "python",
   "nbconvert_exporter": "python",
   "pygments_lexer": "ipython3",
   "version": "3.10.0"
  }
 },
 "nbformat": 4,
 "nbformat_minor": 2
}
